{
  "nbformat": 4,
  "nbformat_minor": 0,
  "metadata": {
    "colab": {
      "name": "projeto: Visualização de Dados.ipynb",
      "provenance": []
    },
    "kernelspec": {
      "name": "python3",
      "display_name": "Python 3"
    },
    "language_info": {
      "name": "python"
    }
  },
  "cells": [
    {
      "cell_type": "code",
      "metadata": {
        "id": "YioOHr16oQuY"
      },
      "source": [
        "import pandas as pd\n",
        "import matplotlib.pyplot as plt"
      ],
      "execution_count": 138,
      "outputs": []
    },
    {
      "cell_type": "code",
      "metadata": {
        "colab": {
          "base_uri": "https://localhost:8080/",
          "height": 546
        },
        "id": "96evKqRGo04o",
        "outputId": "67669685-009a-4a7b-83f4-7351a93b096d"
      },
      "source": [
        "df = pd.read_excel('/content/AdventureWorks.xlsx')\n",
        "df.sample(10)"
      ],
      "execution_count": 139,
      "outputs": [
        {
          "output_type": "execute_result",
          "data": {
            "text/html": [
              "<div>\n",
              "<style scoped>\n",
              "    .dataframe tbody tr th:only-of-type {\n",
              "        vertical-align: middle;\n",
              "    }\n",
              "\n",
              "    .dataframe tbody tr th {\n",
              "        vertical-align: top;\n",
              "    }\n",
              "\n",
              "    .dataframe thead th {\n",
              "        text-align: right;\n",
              "    }\n",
              "</style>\n",
              "<table border=\"1\" class=\"dataframe\">\n",
              "  <thead>\n",
              "    <tr style=\"text-align: right;\">\n",
              "      <th></th>\n",
              "      <th>Data Venda</th>\n",
              "      <th>Data Envio</th>\n",
              "      <th>ID Loja</th>\n",
              "      <th>ID Produto</th>\n",
              "      <th>ID Cliente</th>\n",
              "      <th>No. Venda</th>\n",
              "      <th>Custo Unitário</th>\n",
              "      <th>Preço Unitário</th>\n",
              "      <th>Quantidade</th>\n",
              "      <th>Valor Desconto</th>\n",
              "      <th>Valor Venda</th>\n",
              "      <th>Produto</th>\n",
              "      <th>Fabricante</th>\n",
              "      <th>Marca</th>\n",
              "      <th>Classe</th>\n",
              "      <th>Cor</th>\n",
              "    </tr>\n",
              "  </thead>\n",
              "  <tbody>\n",
              "    <tr>\n",
              "      <th>250</th>\n",
              "      <td>2008-06-21</td>\n",
              "      <td>2008-06-28</td>\n",
              "      <td>306</td>\n",
              "      <td>2496</td>\n",
              "      <td>19053</td>\n",
              "      <td>200806215CS586</td>\n",
              "      <td>5.09</td>\n",
              "      <td>9.99</td>\n",
              "      <td>240</td>\n",
              "      <td>0.000</td>\n",
              "      <td>2397.600</td>\n",
              "      <td>Headphone Adapter for Contoso Phone E130 Silver</td>\n",
              "      <td>Contoso, Ltd</td>\n",
              "      <td>Contoso</td>\n",
              "      <td>Economy</td>\n",
              "      <td>Silver</td>\n",
              "    </tr>\n",
              "    <tr>\n",
              "      <th>671</th>\n",
              "      <td>2008-01-23</td>\n",
              "      <td>2008-02-02</td>\n",
              "      <td>199</td>\n",
              "      <td>384</td>\n",
              "      <td>18816</td>\n",
              "      <td>200801233CS560</td>\n",
              "      <td>348.58</td>\n",
              "      <td>758.00</td>\n",
              "      <td>5</td>\n",
              "      <td>189.500</td>\n",
              "      <td>3600.500</td>\n",
              "      <td>Adventure Works Laptop15.4W M1548 Red</td>\n",
              "      <td>Adventure Works</td>\n",
              "      <td>Adventure Works</td>\n",
              "      <td>Regular</td>\n",
              "      <td>Red</td>\n",
              "    </tr>\n",
              "    <tr>\n",
              "      <th>289</th>\n",
              "      <td>2009-06-04</td>\n",
              "      <td>2009-06-08</td>\n",
              "      <td>199</td>\n",
              "      <td>2497</td>\n",
              "      <td>18950</td>\n",
              "      <td>200906045CS860</td>\n",
              "      <td>5.09</td>\n",
              "      <td>9.99</td>\n",
              "      <td>720</td>\n",
              "      <td>0.000</td>\n",
              "      <td>7192.800</td>\n",
              "      <td>Headphone Adapter for Contoso Phone E130 White</td>\n",
              "      <td>Contoso, Ltd</td>\n",
              "      <td>Contoso</td>\n",
              "      <td>Economy</td>\n",
              "      <td>White</td>\n",
              "    </tr>\n",
              "    <tr>\n",
              "      <th>471</th>\n",
              "      <td>2008-12-06</td>\n",
              "      <td>2008-12-10</td>\n",
              "      <td>307</td>\n",
              "      <td>366</td>\n",
              "      <td>19110</td>\n",
              "      <td>200812063CS656</td>\n",
              "      <td>348.58</td>\n",
              "      <td>758.00</td>\n",
              "      <td>15</td>\n",
              "      <td>1705.500</td>\n",
              "      <td>9664.500</td>\n",
              "      <td>Adventure Works Laptop15.4W M1548 Black</td>\n",
              "      <td>Adventure Works</td>\n",
              "      <td>Adventure Works</td>\n",
              "      <td>Regular</td>\n",
              "      <td>Black</td>\n",
              "    </tr>\n",
              "    <tr>\n",
              "      <th>734</th>\n",
              "      <td>2009-12-01</td>\n",
              "      <td>2009-12-07</td>\n",
              "      <td>199</td>\n",
              "      <td>2496</td>\n",
              "      <td>19022</td>\n",
              "      <td>200912015CS937</td>\n",
              "      <td>5.09</td>\n",
              "      <td>9.99</td>\n",
              "      <td>74</td>\n",
              "      <td>147.852</td>\n",
              "      <td>591.408</td>\n",
              "      <td>Headphone Adapter for Contoso Phone E130 Silver</td>\n",
              "      <td>Contoso, Ltd</td>\n",
              "      <td>Contoso</td>\n",
              "      <td>Economy</td>\n",
              "      <td>Silver</td>\n",
              "    </tr>\n",
              "    <tr>\n",
              "      <th>364</th>\n",
              "      <td>2009-01-06</td>\n",
              "      <td>2009-01-12</td>\n",
              "      <td>307</td>\n",
              "      <td>1203</td>\n",
              "      <td>19112</td>\n",
              "      <td>200901064CS679</td>\n",
              "      <td>324.69</td>\n",
              "      <td>980.00</td>\n",
              "      <td>16</td>\n",
              "      <td>2352.000</td>\n",
              "      <td>13328.000</td>\n",
              "      <td>Fabrikam Trendsetter 2/3'' 17mm X100 Grey</td>\n",
              "      <td>Fabrikam, Inc.</td>\n",
              "      <td>Fabrikam</td>\n",
              "      <td>Regular</td>\n",
              "      <td>Grey</td>\n",
              "    </tr>\n",
              "    <tr>\n",
              "      <th>3</th>\n",
              "      <td>2008-05-21</td>\n",
              "      <td>2008-05-27</td>\n",
              "      <td>306</td>\n",
              "      <td>384</td>\n",
              "      <td>19052</td>\n",
              "      <td>200805213CS576</td>\n",
              "      <td>348.58</td>\n",
              "      <td>758.00</td>\n",
              "      <td>6</td>\n",
              "      <td>0.000</td>\n",
              "      <td>4548.000</td>\n",
              "      <td>Adventure Works Laptop15.4W M1548 Red</td>\n",
              "      <td>Adventure Works</td>\n",
              "      <td>Adventure Works</td>\n",
              "      <td>Regular</td>\n",
              "      <td>Red</td>\n",
              "    </tr>\n",
              "    <tr>\n",
              "      <th>280</th>\n",
              "      <td>2009-07-18</td>\n",
              "      <td>2009-07-31</td>\n",
              "      <td>307</td>\n",
              "      <td>2497</td>\n",
              "      <td>19129</td>\n",
              "      <td>200907185CS719</td>\n",
              "      <td>5.09</td>\n",
              "      <td>9.99</td>\n",
              "      <td>1152</td>\n",
              "      <td>0.000</td>\n",
              "      <td>11508.480</td>\n",
              "      <td>Headphone Adapter for Contoso Phone E130 White</td>\n",
              "      <td>Contoso, Ltd</td>\n",
              "      <td>Contoso</td>\n",
              "      <td>Economy</td>\n",
              "      <td>White</td>\n",
              "    </tr>\n",
              "    <tr>\n",
              "      <th>476</th>\n",
              "      <td>2009-11-07</td>\n",
              "      <td>2009-11-17</td>\n",
              "      <td>306</td>\n",
              "      <td>366</td>\n",
              "      <td>19076</td>\n",
              "      <td>200911073CS767</td>\n",
              "      <td>348.58</td>\n",
              "      <td>758.00</td>\n",
              "      <td>12</td>\n",
              "      <td>1819.200</td>\n",
              "      <td>7276.800</td>\n",
              "      <td>Adventure Works Laptop15.4W M1548 Black</td>\n",
              "      <td>Adventure Works</td>\n",
              "      <td>Adventure Works</td>\n",
              "      <td>Regular</td>\n",
              "      <td>Black</td>\n",
              "    </tr>\n",
              "    <tr>\n",
              "      <th>464</th>\n",
              "      <td>2009-03-03</td>\n",
              "      <td>2009-03-14</td>\n",
              "      <td>307</td>\n",
              "      <td>1226</td>\n",
              "      <td>19117</td>\n",
              "      <td>200903034CS706</td>\n",
              "      <td>330.99</td>\n",
              "      <td>999.00</td>\n",
              "      <td>11</td>\n",
              "      <td>2197.800</td>\n",
              "      <td>8791.200</td>\n",
              "      <td>Fabrikam Trendsetter 1/3'' 8.5mm X200 Black</td>\n",
              "      <td>Fabrikam, Inc.</td>\n",
              "      <td>Fabrikam</td>\n",
              "      <td>Regular</td>\n",
              "      <td>Black</td>\n",
              "    </tr>\n",
              "  </tbody>\n",
              "</table>\n",
              "</div>"
            ],
            "text/plain": [
              "    Data Venda Data Envio  ID Loja  ...            Marca   Classe     Cor\n",
              "250 2008-06-21 2008-06-28      306  ...          Contoso  Economy  Silver\n",
              "671 2008-01-23 2008-02-02      199  ...  Adventure Works  Regular     Red\n",
              "289 2009-06-04 2009-06-08      199  ...          Contoso  Economy   White\n",
              "471 2008-12-06 2008-12-10      307  ...  Adventure Works  Regular   Black\n",
              "734 2009-12-01 2009-12-07      199  ...          Contoso  Economy  Silver\n",
              "364 2009-01-06 2009-01-12      307  ...         Fabrikam  Regular    Grey\n",
              "3   2008-05-21 2008-05-27      306  ...  Adventure Works  Regular     Red\n",
              "280 2009-07-18 2009-07-31      307  ...          Contoso  Economy   White\n",
              "476 2009-11-07 2009-11-17      306  ...  Adventure Works  Regular   Black\n",
              "464 2009-03-03 2009-03-14      307  ...         Fabrikam  Regular   Black\n",
              "\n",
              "[10 rows x 16 columns]"
            ]
          },
          "metadata": {
            "tags": []
          },
          "execution_count": 139
        }
      ]
    },
    {
      "cell_type": "markdown",
      "metadata": {
        "id": "NBMuD-UZrCTb"
      },
      "source": [
        "Procurando se há valores ausentes"
      ]
    },
    {
      "cell_type": "code",
      "metadata": {
        "colab": {
          "base_uri": "https://localhost:8080/"
        },
        "id": "Geed2_0cpNal",
        "outputId": "f3c2aacb-065b-4247-9c47-be0194a30d7a"
      },
      "source": [
        "df.count()"
      ],
      "execution_count": 141,
      "outputs": [
        {
          "output_type": "execute_result",
          "data": {
            "text/plain": [
              "Data Venda        904\n",
              "Data Envio        904\n",
              "ID Loja           904\n",
              "ID Produto        904\n",
              "ID Cliente        904\n",
              "No. Venda         904\n",
              "Custo Unitário    904\n",
              "Preço Unitário    904\n",
              "Quantidade        904\n",
              "Valor Desconto    904\n",
              "Valor Venda       904\n",
              "Produto           904\n",
              "Fabricante        904\n",
              "Marca             904\n",
              "Classe            904\n",
              "Cor               904\n",
              "dtype: int64"
            ]
          },
          "metadata": {
            "tags": []
          },
          "execution_count": 141
        }
      ]
    },
    {
      "cell_type": "markdown",
      "metadata": {
        "id": "M_j9DFXx_eA8"
      },
      "source": [
        "Retirando valores duplicados, se houver"
      ]
    },
    {
      "cell_type": "code",
      "metadata": {
        "colab": {
          "base_uri": "https://localhost:8080/",
          "height": 810
        },
        "id": "52prxaUD_f6g",
        "outputId": "938fa7fb-fd88-45d2-f704-8be709d0e5fa"
      },
      "source": [
        "df.drop_duplicates()"
      ],
      "execution_count": 195,
      "outputs": [
        {
          "output_type": "execute_result",
          "data": {
            "text/html": [
              "<div>\n",
              "<style scoped>\n",
              "    .dataframe tbody tr th:only-of-type {\n",
              "        vertical-align: middle;\n",
              "    }\n",
              "\n",
              "    .dataframe tbody tr th {\n",
              "        vertical-align: top;\n",
              "    }\n",
              "\n",
              "    .dataframe thead th {\n",
              "        text-align: right;\n",
              "    }\n",
              "</style>\n",
              "<table border=\"1\" class=\"dataframe\">\n",
              "  <thead>\n",
              "    <tr style=\"text-align: right;\">\n",
              "      <th></th>\n",
              "      <th>Data Venda</th>\n",
              "      <th>Data Envio</th>\n",
              "      <th>ID Loja</th>\n",
              "      <th>ID Produto</th>\n",
              "      <th>ID Cliente</th>\n",
              "      <th>No. Venda</th>\n",
              "      <th>Custo Unitário</th>\n",
              "      <th>Preço Unitário</th>\n",
              "      <th>Quantidade</th>\n",
              "      <th>Valor Desconto</th>\n",
              "      <th>Valor Venda</th>\n",
              "      <th>Produto</th>\n",
              "      <th>Fabricante</th>\n",
              "      <th>Marca</th>\n",
              "      <th>Classe</th>\n",
              "      <th>Cor</th>\n",
              "      <th>tempo_envio</th>\n",
              "      <th>custo</th>\n",
              "      <th>lucro</th>\n",
              "    </tr>\n",
              "  </thead>\n",
              "  <tbody>\n",
              "    <tr>\n",
              "      <th>0</th>\n",
              "      <td>2008-05-09</td>\n",
              "      <td>2008-05-29</td>\n",
              "      <td>199</td>\n",
              "      <td>384</td>\n",
              "      <td>18839</td>\n",
              "      <td>200805093CS607</td>\n",
              "      <td>348.58</td>\n",
              "      <td>758.0</td>\n",
              "      <td>6</td>\n",
              "      <td>0.00</td>\n",
              "      <td>4548.00</td>\n",
              "      <td>Adventure Works Laptop15.4W M1548 Red</td>\n",
              "      <td>Adventure Works</td>\n",
              "      <td>Adventure Works</td>\n",
              "      <td>Regular</td>\n",
              "      <td>Red</td>\n",
              "      <td>20</td>\n",
              "      <td>2091.48</td>\n",
              "      <td>2456.52</td>\n",
              "    </tr>\n",
              "    <tr>\n",
              "      <th>1</th>\n",
              "      <td>2008-05-12</td>\n",
              "      <td>2008-05-17</td>\n",
              "      <td>306</td>\n",
              "      <td>384</td>\n",
              "      <td>19051</td>\n",
              "      <td>200805123CS567</td>\n",
              "      <td>348.58</td>\n",
              "      <td>758.0</td>\n",
              "      <td>6</td>\n",
              "      <td>0.00</td>\n",
              "      <td>4548.00</td>\n",
              "      <td>Adventure Works Laptop15.4W M1548 Red</td>\n",
              "      <td>Adventure Works</td>\n",
              "      <td>Adventure Works</td>\n",
              "      <td>Regular</td>\n",
              "      <td>Red</td>\n",
              "      <td>5</td>\n",
              "      <td>2091.48</td>\n",
              "      <td>2456.52</td>\n",
              "    </tr>\n",
              "    <tr>\n",
              "      <th>2</th>\n",
              "      <td>2008-05-14</td>\n",
              "      <td>2008-05-20</td>\n",
              "      <td>306</td>\n",
              "      <td>384</td>\n",
              "      <td>19052</td>\n",
              "      <td>200805143CS576</td>\n",
              "      <td>348.58</td>\n",
              "      <td>758.0</td>\n",
              "      <td>6</td>\n",
              "      <td>0.00</td>\n",
              "      <td>4548.00</td>\n",
              "      <td>Adventure Works Laptop15.4W M1548 Red</td>\n",
              "      <td>Adventure Works</td>\n",
              "      <td>Adventure Works</td>\n",
              "      <td>Regular</td>\n",
              "      <td>Red</td>\n",
              "      <td>6</td>\n",
              "      <td>2091.48</td>\n",
              "      <td>2456.52</td>\n",
              "    </tr>\n",
              "    <tr>\n",
              "      <th>3</th>\n",
              "      <td>2008-05-21</td>\n",
              "      <td>2008-05-27</td>\n",
              "      <td>306</td>\n",
              "      <td>384</td>\n",
              "      <td>19052</td>\n",
              "      <td>200805213CS576</td>\n",
              "      <td>348.58</td>\n",
              "      <td>758.0</td>\n",
              "      <td>6</td>\n",
              "      <td>0.00</td>\n",
              "      <td>4548.00</td>\n",
              "      <td>Adventure Works Laptop15.4W M1548 Red</td>\n",
              "      <td>Adventure Works</td>\n",
              "      <td>Adventure Works</td>\n",
              "      <td>Regular</td>\n",
              "      <td>Red</td>\n",
              "      <td>6</td>\n",
              "      <td>2091.48</td>\n",
              "      <td>2456.52</td>\n",
              "    </tr>\n",
              "    <tr>\n",
              "      <th>4</th>\n",
              "      <td>2008-06-20</td>\n",
              "      <td>2008-06-27</td>\n",
              "      <td>306</td>\n",
              "      <td>384</td>\n",
              "      <td>19053</td>\n",
              "      <td>200806203CS586</td>\n",
              "      <td>348.58</td>\n",
              "      <td>758.0</td>\n",
              "      <td>6</td>\n",
              "      <td>0.00</td>\n",
              "      <td>4548.00</td>\n",
              "      <td>Adventure Works Laptop15.4W M1548 Red</td>\n",
              "      <td>Adventure Works</td>\n",
              "      <td>Adventure Works</td>\n",
              "      <td>Regular</td>\n",
              "      <td>Red</td>\n",
              "      <td>7</td>\n",
              "      <td>2091.48</td>\n",
              "      <td>2456.52</td>\n",
              "    </tr>\n",
              "    <tr>\n",
              "      <th>...</th>\n",
              "      <td>...</td>\n",
              "      <td>...</td>\n",
              "      <td>...</td>\n",
              "      <td>...</td>\n",
              "      <td>...</td>\n",
              "      <td>...</td>\n",
              "      <td>...</td>\n",
              "      <td>...</td>\n",
              "      <td>...</td>\n",
              "      <td>...</td>\n",
              "      <td>...</td>\n",
              "      <td>...</td>\n",
              "      <td>...</td>\n",
              "      <td>...</td>\n",
              "      <td>...</td>\n",
              "      <td>...</td>\n",
              "      <td>...</td>\n",
              "      <td>...</td>\n",
              "      <td>...</td>\n",
              "    </tr>\n",
              "    <tr>\n",
              "      <th>899</th>\n",
              "      <td>2008-03-22</td>\n",
              "      <td>2008-04-04</td>\n",
              "      <td>306</td>\n",
              "      <td>1226</td>\n",
              "      <td>19049</td>\n",
              "      <td>200803224CS555</td>\n",
              "      <td>330.99</td>\n",
              "      <td>999.0</td>\n",
              "      <td>6</td>\n",
              "      <td>419.58</td>\n",
              "      <td>5574.42</td>\n",
              "      <td>Fabrikam Trendsetter 1/3'' 8.5mm X200 Black</td>\n",
              "      <td>Fabrikam, Inc.</td>\n",
              "      <td>Fabrikam</td>\n",
              "      <td>Regular</td>\n",
              "      <td>Black</td>\n",
              "      <td>13</td>\n",
              "      <td>1985.94</td>\n",
              "      <td>3588.48</td>\n",
              "    </tr>\n",
              "    <tr>\n",
              "      <th>900</th>\n",
              "      <td>2008-10-04</td>\n",
              "      <td>2008-10-15</td>\n",
              "      <td>306</td>\n",
              "      <td>1155</td>\n",
              "      <td>19057</td>\n",
              "      <td>200810044CS636</td>\n",
              "      <td>324.69</td>\n",
              "      <td>980.0</td>\n",
              "      <td>6</td>\n",
              "      <td>1176.00</td>\n",
              "      <td>4704.00</td>\n",
              "      <td>Fabrikam Trendsetter 2/3'' 17mm X100 Black</td>\n",
              "      <td>Fabrikam, Inc.</td>\n",
              "      <td>Fabrikam</td>\n",
              "      <td>Regular</td>\n",
              "      <td>Black</td>\n",
              "      <td>11</td>\n",
              "      <td>1948.14</td>\n",
              "      <td>2755.86</td>\n",
              "    </tr>\n",
              "    <tr>\n",
              "      <th>901</th>\n",
              "      <td>2008-12-11</td>\n",
              "      <td>2008-12-15</td>\n",
              "      <td>306</td>\n",
              "      <td>1155</td>\n",
              "      <td>19060</td>\n",
              "      <td>200812114CS676</td>\n",
              "      <td>324.69</td>\n",
              "      <td>980.0</td>\n",
              "      <td>6</td>\n",
              "      <td>1176.00</td>\n",
              "      <td>4704.00</td>\n",
              "      <td>Fabrikam Trendsetter 2/3'' 17mm X100 Black</td>\n",
              "      <td>Fabrikam, Inc.</td>\n",
              "      <td>Fabrikam</td>\n",
              "      <td>Regular</td>\n",
              "      <td>Black</td>\n",
              "      <td>4</td>\n",
              "      <td>1948.14</td>\n",
              "      <td>2755.86</td>\n",
              "    </tr>\n",
              "    <tr>\n",
              "      <th>902</th>\n",
              "      <td>2008-12-17</td>\n",
              "      <td>2008-12-21</td>\n",
              "      <td>306</td>\n",
              "      <td>1226</td>\n",
              "      <td>19060</td>\n",
              "      <td>200812174CS676</td>\n",
              "      <td>330.99</td>\n",
              "      <td>999.0</td>\n",
              "      <td>6</td>\n",
              "      <td>1198.80</td>\n",
              "      <td>4795.20</td>\n",
              "      <td>Fabrikam Trendsetter 1/3'' 8.5mm X200 Black</td>\n",
              "      <td>Fabrikam, Inc.</td>\n",
              "      <td>Fabrikam</td>\n",
              "      <td>Regular</td>\n",
              "      <td>Black</td>\n",
              "      <td>4</td>\n",
              "      <td>1985.94</td>\n",
              "      <td>2809.26</td>\n",
              "    </tr>\n",
              "    <tr>\n",
              "      <th>903</th>\n",
              "      <td>2008-12-21</td>\n",
              "      <td>2008-12-25</td>\n",
              "      <td>306</td>\n",
              "      <td>1155</td>\n",
              "      <td>19060</td>\n",
              "      <td>200812214CS676</td>\n",
              "      <td>324.69</td>\n",
              "      <td>980.0</td>\n",
              "      <td>6</td>\n",
              "      <td>1176.00</td>\n",
              "      <td>4704.00</td>\n",
              "      <td>Fabrikam Trendsetter 2/3'' 17mm X100 Black</td>\n",
              "      <td>Fabrikam, Inc.</td>\n",
              "      <td>Fabrikam</td>\n",
              "      <td>Regular</td>\n",
              "      <td>Black</td>\n",
              "      <td>4</td>\n",
              "      <td>1948.14</td>\n",
              "      <td>2755.86</td>\n",
              "    </tr>\n",
              "  </tbody>\n",
              "</table>\n",
              "<p>904 rows × 19 columns</p>\n",
              "</div>"
            ],
            "text/plain": [
              "    Data Venda Data Envio  ID Loja  ...  tempo_envio    custo    lucro\n",
              "0   2008-05-09 2008-05-29      199  ...           20  2091.48  2456.52\n",
              "1   2008-05-12 2008-05-17      306  ...            5  2091.48  2456.52\n",
              "2   2008-05-14 2008-05-20      306  ...            6  2091.48  2456.52\n",
              "3   2008-05-21 2008-05-27      306  ...            6  2091.48  2456.52\n",
              "4   2008-06-20 2008-06-27      306  ...            7  2091.48  2456.52\n",
              "..         ...        ...      ...  ...          ...      ...      ...\n",
              "899 2008-03-22 2008-04-04      306  ...           13  1985.94  3588.48\n",
              "900 2008-10-04 2008-10-15      306  ...           11  1948.14  2755.86\n",
              "901 2008-12-11 2008-12-15      306  ...            4  1948.14  2755.86\n",
              "902 2008-12-17 2008-12-21      306  ...            4  1985.94  2809.26\n",
              "903 2008-12-21 2008-12-25      306  ...            4  1948.14  2755.86\n",
              "\n",
              "[904 rows x 19 columns]"
            ]
          },
          "metadata": {
            "tags": []
          },
          "execution_count": 195
        }
      ]
    },
    {
      "cell_type": "markdown",
      "metadata": {
        "id": "PMx00vzwsiWN"
      },
      "source": [
        "# **Análise**"
      ]
    },
    {
      "cell_type": "markdown",
      "metadata": {
        "id": "xvfu_zOjrEfj"
      },
      "source": [
        "Analisando um pouco os produtos"
      ]
    },
    {
      "cell_type": "code",
      "metadata": {
        "colab": {
          "base_uri": "https://localhost:8080/",
          "height": 419
        },
        "id": "3_dgANHUphym",
        "outputId": "836b91bc-29ff-461f-a649-5789b944c736"
      },
      "source": [
        "df.loc[:, ['Fabricante', 'Produto']]"
      ],
      "execution_count": 142,
      "outputs": [
        {
          "output_type": "execute_result",
          "data": {
            "text/html": [
              "<div>\n",
              "<style scoped>\n",
              "    .dataframe tbody tr th:only-of-type {\n",
              "        vertical-align: middle;\n",
              "    }\n",
              "\n",
              "    .dataframe tbody tr th {\n",
              "        vertical-align: top;\n",
              "    }\n",
              "\n",
              "    .dataframe thead th {\n",
              "        text-align: right;\n",
              "    }\n",
              "</style>\n",
              "<table border=\"1\" class=\"dataframe\">\n",
              "  <thead>\n",
              "    <tr style=\"text-align: right;\">\n",
              "      <th></th>\n",
              "      <th>Fabricante</th>\n",
              "      <th>Produto</th>\n",
              "    </tr>\n",
              "  </thead>\n",
              "  <tbody>\n",
              "    <tr>\n",
              "      <th>0</th>\n",
              "      <td>Adventure Works</td>\n",
              "      <td>Adventure Works Laptop15.4W M1548 Red</td>\n",
              "    </tr>\n",
              "    <tr>\n",
              "      <th>1</th>\n",
              "      <td>Adventure Works</td>\n",
              "      <td>Adventure Works Laptop15.4W M1548 Red</td>\n",
              "    </tr>\n",
              "    <tr>\n",
              "      <th>2</th>\n",
              "      <td>Adventure Works</td>\n",
              "      <td>Adventure Works Laptop15.4W M1548 Red</td>\n",
              "    </tr>\n",
              "    <tr>\n",
              "      <th>3</th>\n",
              "      <td>Adventure Works</td>\n",
              "      <td>Adventure Works Laptop15.4W M1548 Red</td>\n",
              "    </tr>\n",
              "    <tr>\n",
              "      <th>4</th>\n",
              "      <td>Adventure Works</td>\n",
              "      <td>Adventure Works Laptop15.4W M1548 Red</td>\n",
              "    </tr>\n",
              "    <tr>\n",
              "      <th>...</th>\n",
              "      <td>...</td>\n",
              "      <td>...</td>\n",
              "    </tr>\n",
              "    <tr>\n",
              "      <th>899</th>\n",
              "      <td>Fabrikam, Inc.</td>\n",
              "      <td>Fabrikam Trendsetter 1/3'' 8.5mm X200 Black</td>\n",
              "    </tr>\n",
              "    <tr>\n",
              "      <th>900</th>\n",
              "      <td>Fabrikam, Inc.</td>\n",
              "      <td>Fabrikam Trendsetter 2/3'' 17mm X100 Black</td>\n",
              "    </tr>\n",
              "    <tr>\n",
              "      <th>901</th>\n",
              "      <td>Fabrikam, Inc.</td>\n",
              "      <td>Fabrikam Trendsetter 2/3'' 17mm X100 Black</td>\n",
              "    </tr>\n",
              "    <tr>\n",
              "      <th>902</th>\n",
              "      <td>Fabrikam, Inc.</td>\n",
              "      <td>Fabrikam Trendsetter 1/3'' 8.5mm X200 Black</td>\n",
              "    </tr>\n",
              "    <tr>\n",
              "      <th>903</th>\n",
              "      <td>Fabrikam, Inc.</td>\n",
              "      <td>Fabrikam Trendsetter 2/3'' 17mm X100 Black</td>\n",
              "    </tr>\n",
              "  </tbody>\n",
              "</table>\n",
              "<p>904 rows × 2 columns</p>\n",
              "</div>"
            ],
            "text/plain": [
              "          Fabricante                                      Produto\n",
              "0    Adventure Works        Adventure Works Laptop15.4W M1548 Red\n",
              "1    Adventure Works        Adventure Works Laptop15.4W M1548 Red\n",
              "2    Adventure Works        Adventure Works Laptop15.4W M1548 Red\n",
              "3    Adventure Works        Adventure Works Laptop15.4W M1548 Red\n",
              "4    Adventure Works        Adventure Works Laptop15.4W M1548 Red\n",
              "..               ...                                          ...\n",
              "899   Fabrikam, Inc.  Fabrikam Trendsetter 1/3'' 8.5mm X200 Black\n",
              "900   Fabrikam, Inc.   Fabrikam Trendsetter 2/3'' 17mm X100 Black\n",
              "901   Fabrikam, Inc.   Fabrikam Trendsetter 2/3'' 17mm X100 Black\n",
              "902   Fabrikam, Inc.  Fabrikam Trendsetter 1/3'' 8.5mm X200 Black\n",
              "903   Fabrikam, Inc.   Fabrikam Trendsetter 2/3'' 17mm X100 Black\n",
              "\n",
              "[904 rows x 2 columns]"
            ]
          },
          "metadata": {
            "tags": []
          },
          "execution_count": 142
        }
      ]
    },
    {
      "cell_type": "markdown",
      "metadata": {
        "id": "4W0WDFmtsxbu"
      },
      "source": [
        "Filtrando colunas específicas para detalhadamento"
      ]
    },
    {
      "cell_type": "code",
      "metadata": {
        "colab": {
          "base_uri": "https://localhost:8080/",
          "height": 419
        },
        "id": "i_JB0EyNqnXO",
        "outputId": "b2c4f984-babd-4d7c-8b54-1b82ea9e1da2"
      },
      "source": [
        "filtro_fabricante = df.Fabricante == 'Adventure Works'\n",
        "\n",
        "df.loc[filtro_fabricante, ['Produto', 'Classe']]"
      ],
      "execution_count": 143,
      "outputs": [
        {
          "output_type": "execute_result",
          "data": {
            "text/html": [
              "<div>\n",
              "<style scoped>\n",
              "    .dataframe tbody tr th:only-of-type {\n",
              "        vertical-align: middle;\n",
              "    }\n",
              "\n",
              "    .dataframe tbody tr th {\n",
              "        vertical-align: top;\n",
              "    }\n",
              "\n",
              "    .dataframe thead th {\n",
              "        text-align: right;\n",
              "    }\n",
              "</style>\n",
              "<table border=\"1\" class=\"dataframe\">\n",
              "  <thead>\n",
              "    <tr style=\"text-align: right;\">\n",
              "      <th></th>\n",
              "      <th>Produto</th>\n",
              "      <th>Classe</th>\n",
              "    </tr>\n",
              "  </thead>\n",
              "  <tbody>\n",
              "    <tr>\n",
              "      <th>0</th>\n",
              "      <td>Adventure Works Laptop15.4W M1548 Red</td>\n",
              "      <td>Regular</td>\n",
              "    </tr>\n",
              "    <tr>\n",
              "      <th>1</th>\n",
              "      <td>Adventure Works Laptop15.4W M1548 Red</td>\n",
              "      <td>Regular</td>\n",
              "    </tr>\n",
              "    <tr>\n",
              "      <th>2</th>\n",
              "      <td>Adventure Works Laptop15.4W M1548 Red</td>\n",
              "      <td>Regular</td>\n",
              "    </tr>\n",
              "    <tr>\n",
              "      <th>3</th>\n",
              "      <td>Adventure Works Laptop15.4W M1548 Red</td>\n",
              "      <td>Regular</td>\n",
              "    </tr>\n",
              "    <tr>\n",
              "      <th>4</th>\n",
              "      <td>Adventure Works Laptop15.4W M1548 Red</td>\n",
              "      <td>Regular</td>\n",
              "    </tr>\n",
              "    <tr>\n",
              "      <th>...</th>\n",
              "      <td>...</td>\n",
              "      <td>...</td>\n",
              "    </tr>\n",
              "    <tr>\n",
              "      <th>876</th>\n",
              "      <td>Adventure Works Laptop15.4W M1548 Black</td>\n",
              "      <td>Regular</td>\n",
              "    </tr>\n",
              "    <tr>\n",
              "      <th>877</th>\n",
              "      <td>Adventure Works Laptop15.4W M1548 Black</td>\n",
              "      <td>Regular</td>\n",
              "    </tr>\n",
              "    <tr>\n",
              "      <th>878</th>\n",
              "      <td>Adventure Works Laptop15.4W M1548 Black</td>\n",
              "      <td>Regular</td>\n",
              "    </tr>\n",
              "    <tr>\n",
              "      <th>879</th>\n",
              "      <td>Adventure Works Laptop15.4W M1548 Black</td>\n",
              "      <td>Regular</td>\n",
              "    </tr>\n",
              "    <tr>\n",
              "      <th>880</th>\n",
              "      <td>Adventure Works Laptop15.4W M1548 Black</td>\n",
              "      <td>Regular</td>\n",
              "    </tr>\n",
              "  </tbody>\n",
              "</table>\n",
              "<p>238 rows × 2 columns</p>\n",
              "</div>"
            ],
            "text/plain": [
              "                                     Produto   Classe\n",
              "0      Adventure Works Laptop15.4W M1548 Red  Regular\n",
              "1      Adventure Works Laptop15.4W M1548 Red  Regular\n",
              "2      Adventure Works Laptop15.4W M1548 Red  Regular\n",
              "3      Adventure Works Laptop15.4W M1548 Red  Regular\n",
              "4      Adventure Works Laptop15.4W M1548 Red  Regular\n",
              "..                                       ...      ...\n",
              "876  Adventure Works Laptop15.4W M1548 Black  Regular\n",
              "877  Adventure Works Laptop15.4W M1548 Black  Regular\n",
              "878  Adventure Works Laptop15.4W M1548 Black  Regular\n",
              "879  Adventure Works Laptop15.4W M1548 Black  Regular\n",
              "880  Adventure Works Laptop15.4W M1548 Black  Regular\n",
              "\n",
              "[238 rows x 2 columns]"
            ]
          },
          "metadata": {
            "tags": []
          },
          "execution_count": 143
        }
      ]
    },
    {
      "cell_type": "code",
      "metadata": {
        "colab": {
          "base_uri": "https://localhost:8080/"
        },
        "id": "tsQhUDdEqSNy",
        "outputId": "2c9eeda8-e9e7-4e88-9e05-23f92f081e54"
      },
      "source": [
        "df.Produto.unique()"
      ],
      "execution_count": 144,
      "outputs": [
        {
          "output_type": "execute_result",
          "data": {
            "text/plain": [
              "array(['Adventure Works Laptop15.4W M1548 Red',\n",
              "       \"Fabrikam Trendsetter 1/3'' 8.5mm X200 White\",\n",
              "       \"Fabrikam Trendsetter 1/3'' 8.5mm X200 Grey\",\n",
              "       \"Fabrikam Trendsetter 2/3'' 17mm X100 Grey\",\n",
              "       \"Fabrikam Trendsetter 2/3'' 17mm X100 Black\",\n",
              "       \"Fabrikam Trendsetter 1/3'' 8.5mm X200 Black\",\n",
              "       'Adventure Works Laptop15.4W M1548 Black',\n",
              "       'Headphone Adapter for Contoso Phone E130 Silver',\n",
              "       'Headphone Adapter for Contoso Phone E130 White'], dtype=object)"
            ]
          },
          "metadata": {
            "tags": []
          },
          "execution_count": 144
        }
      ]
    },
    {
      "cell_type": "markdown",
      "metadata": {
        "id": "zxH3IIYnrem2"
      },
      "source": [
        "Criando um nova coluna: tempo-envio"
      ]
    },
    {
      "cell_type": "code",
      "metadata": {
        "colab": {
          "base_uri": "https://localhost:8080/"
        },
        "id": "f_h65QUtrjri",
        "outputId": "d2bd015f-5bad-4344-cf23-b81e37c21975"
      },
      "source": [
        "df['tempo_envio'] = df['Data Envio'] - df['Data Venda']\n",
        "df['tempo_envio'].sample(3)"
      ],
      "execution_count": 145,
      "outputs": [
        {
          "output_type": "execute_result",
          "data": {
            "text/plain": [
              "457   13 days\n",
              "126    5 days\n",
              "464   11 days\n",
              "Name: tempo_envio, dtype: timedelta64[ns]"
            ]
          },
          "metadata": {
            "tags": []
          },
          "execution_count": 145
        }
      ]
    },
    {
      "cell_type": "code",
      "metadata": {
        "colab": {
          "base_uri": "https://localhost:8080/",
          "height": 210
        },
        "id": "2ouOuK8Lr0Au",
        "outputId": "d95cf14f-b3a0-48be-d5be-734f3897f330"
      },
      "source": [
        "df.sample(3)"
      ],
      "execution_count": 146,
      "outputs": [
        {
          "output_type": "execute_result",
          "data": {
            "text/html": [
              "<div>\n",
              "<style scoped>\n",
              "    .dataframe tbody tr th:only-of-type {\n",
              "        vertical-align: middle;\n",
              "    }\n",
              "\n",
              "    .dataframe tbody tr th {\n",
              "        vertical-align: top;\n",
              "    }\n",
              "\n",
              "    .dataframe thead th {\n",
              "        text-align: right;\n",
              "    }\n",
              "</style>\n",
              "<table border=\"1\" class=\"dataframe\">\n",
              "  <thead>\n",
              "    <tr style=\"text-align: right;\">\n",
              "      <th></th>\n",
              "      <th>Data Venda</th>\n",
              "      <th>Data Envio</th>\n",
              "      <th>ID Loja</th>\n",
              "      <th>ID Produto</th>\n",
              "      <th>ID Cliente</th>\n",
              "      <th>No. Venda</th>\n",
              "      <th>Custo Unitário</th>\n",
              "      <th>Preço Unitário</th>\n",
              "      <th>Quantidade</th>\n",
              "      <th>Valor Desconto</th>\n",
              "      <th>Valor Venda</th>\n",
              "      <th>Produto</th>\n",
              "      <th>Fabricante</th>\n",
              "      <th>Marca</th>\n",
              "      <th>Classe</th>\n",
              "      <th>Cor</th>\n",
              "      <th>tempo_envio</th>\n",
              "    </tr>\n",
              "  </thead>\n",
              "  <tbody>\n",
              "    <tr>\n",
              "      <th>123</th>\n",
              "      <td>2009-07-06</td>\n",
              "      <td>2009-07-10</td>\n",
              "      <td>306</td>\n",
              "      <td>1226</td>\n",
              "      <td>19070</td>\n",
              "      <td>200907064CS757</td>\n",
              "      <td>330.99</td>\n",
              "      <td>999.00</td>\n",
              "      <td>6</td>\n",
              "      <td>0.0000</td>\n",
              "      <td>5994.0000</td>\n",
              "      <td>Fabrikam Trendsetter 1/3'' 8.5mm X200 Black</td>\n",
              "      <td>Fabrikam, Inc.</td>\n",
              "      <td>Fabrikam</td>\n",
              "      <td>Regular</td>\n",
              "      <td>Black</td>\n",
              "      <td>4 days</td>\n",
              "    </tr>\n",
              "    <tr>\n",
              "      <th>713</th>\n",
              "      <td>2009-02-22</td>\n",
              "      <td>2009-03-01</td>\n",
              "      <td>306</td>\n",
              "      <td>2496</td>\n",
              "      <td>19063</td>\n",
              "      <td>200902225CS740</td>\n",
              "      <td>5.09</td>\n",
              "      <td>9.99</td>\n",
              "      <td>576</td>\n",
              "      <td>402.7968</td>\n",
              "      <td>5351.4432</td>\n",
              "      <td>Headphone Adapter for Contoso Phone E130 Silver</td>\n",
              "      <td>Contoso, Ltd</td>\n",
              "      <td>Contoso</td>\n",
              "      <td>Economy</td>\n",
              "      <td>Silver</td>\n",
              "      <td>7 days</td>\n",
              "    </tr>\n",
              "    <tr>\n",
              "      <th>85</th>\n",
              "      <td>2009-07-30</td>\n",
              "      <td>2009-08-03</td>\n",
              "      <td>307</td>\n",
              "      <td>1202</td>\n",
              "      <td>19130</td>\n",
              "      <td>200907304CS720</td>\n",
              "      <td>330.66</td>\n",
              "      <td>998.00</td>\n",
              "      <td>6</td>\n",
              "      <td>0.0000</td>\n",
              "      <td>5988.0000</td>\n",
              "      <td>Fabrikam Trendsetter 1/3'' 8.5mm X200 Grey</td>\n",
              "      <td>Fabrikam, Inc.</td>\n",
              "      <td>Fabrikam</td>\n",
              "      <td>Regular</td>\n",
              "      <td>Grey</td>\n",
              "      <td>4 days</td>\n",
              "    </tr>\n",
              "  </tbody>\n",
              "</table>\n",
              "</div>"
            ],
            "text/plain": [
              "    Data Venda Data Envio  ID Loja  ...   Classe     Cor tempo_envio\n",
              "123 2009-07-06 2009-07-10      306  ...  Regular   Black      4 days\n",
              "713 2009-02-22 2009-03-01      306  ...  Economy  Silver      7 days\n",
              "85  2009-07-30 2009-08-03      307  ...  Regular    Grey      4 days\n",
              "\n",
              "[3 rows x 17 columns]"
            ]
          },
          "metadata": {
            "tags": []
          },
          "execution_count": 146
        }
      ]
    },
    {
      "cell_type": "markdown",
      "metadata": {
        "id": "ZreeqDfxr3gv"
      },
      "source": [
        "Analisando o tempo médio de envio"
      ]
    },
    {
      "cell_type": "code",
      "metadata": {
        "id": "b75cMDZVr6nY"
      },
      "source": [
        "df['tempo_envio'] = df['tempo_envio'].dt.days"
      ],
      "execution_count": 147,
      "outputs": []
    },
    {
      "cell_type": "code",
      "metadata": {
        "colab": {
          "base_uri": "https://localhost:8080/"
        },
        "id": "kBC175KYsFBW",
        "outputId": "2d015cb4-fbc5-457d-b676-38740377beee"
      },
      "source": [
        "df.dtypes"
      ],
      "execution_count": 148,
      "outputs": [
        {
          "output_type": "execute_result",
          "data": {
            "text/plain": [
              "Data Venda        datetime64[ns]\n",
              "Data Envio        datetime64[ns]\n",
              "ID Loja                    int64\n",
              "ID Produto                 int64\n",
              "ID Cliente                 int64\n",
              "No. Venda                 object\n",
              "Custo Unitário           float64\n",
              "Preço Unitário           float64\n",
              "Quantidade                 int64\n",
              "Valor Desconto           float64\n",
              "Valor Venda              float64\n",
              "Produto                   object\n",
              "Fabricante                object\n",
              "Marca                     object\n",
              "Classe                    object\n",
              "Cor                       object\n",
              "tempo_envio                int64\n",
              "dtype: object"
            ]
          },
          "metadata": {
            "tags": []
          },
          "execution_count": 148
        }
      ]
    },
    {
      "cell_type": "code",
      "metadata": {
        "colab": {
          "base_uri": "https://localhost:8080/",
          "height": 210
        },
        "id": "AL4mY2znsPqI",
        "outputId": "3da2c88c-4c1b-47a9-9aab-daaeeb1d7574"
      },
      "source": [
        "df.sample(3)"
      ],
      "execution_count": 149,
      "outputs": [
        {
          "output_type": "execute_result",
          "data": {
            "text/html": [
              "<div>\n",
              "<style scoped>\n",
              "    .dataframe tbody tr th:only-of-type {\n",
              "        vertical-align: middle;\n",
              "    }\n",
              "\n",
              "    .dataframe tbody tr th {\n",
              "        vertical-align: top;\n",
              "    }\n",
              "\n",
              "    .dataframe thead th {\n",
              "        text-align: right;\n",
              "    }\n",
              "</style>\n",
              "<table border=\"1\" class=\"dataframe\">\n",
              "  <thead>\n",
              "    <tr style=\"text-align: right;\">\n",
              "      <th></th>\n",
              "      <th>Data Venda</th>\n",
              "      <th>Data Envio</th>\n",
              "      <th>ID Loja</th>\n",
              "      <th>ID Produto</th>\n",
              "      <th>ID Cliente</th>\n",
              "      <th>No. Venda</th>\n",
              "      <th>Custo Unitário</th>\n",
              "      <th>Preço Unitário</th>\n",
              "      <th>Quantidade</th>\n",
              "      <th>Valor Desconto</th>\n",
              "      <th>Valor Venda</th>\n",
              "      <th>Produto</th>\n",
              "      <th>Fabricante</th>\n",
              "      <th>Marca</th>\n",
              "      <th>Classe</th>\n",
              "      <th>Cor</th>\n",
              "      <th>tempo_envio</th>\n",
              "    </tr>\n",
              "  </thead>\n",
              "  <tbody>\n",
              "    <tr>\n",
              "      <th>501</th>\n",
              "      <td>2008-06-05</td>\n",
              "      <td>2008-06-18</td>\n",
              "      <td>307</td>\n",
              "      <td>1226</td>\n",
              "      <td>19099</td>\n",
              "      <td>200806054CS568</td>\n",
              "      <td>330.99</td>\n",
              "      <td>999.00</td>\n",
              "      <td>7</td>\n",
              "      <td>699.3</td>\n",
              "      <td>6293.7</td>\n",
              "      <td>Fabrikam Trendsetter 1/3'' 8.5mm X200 Black</td>\n",
              "      <td>Fabrikam, Inc.</td>\n",
              "      <td>Fabrikam</td>\n",
              "      <td>Regular</td>\n",
              "      <td>Black</td>\n",
              "      <td>13</td>\n",
              "    </tr>\n",
              "    <tr>\n",
              "      <th>220</th>\n",
              "      <td>2009-06-10</td>\n",
              "      <td>2009-06-22</td>\n",
              "      <td>306</td>\n",
              "      <td>1203</td>\n",
              "      <td>19068</td>\n",
              "      <td>200906104CS748</td>\n",
              "      <td>324.69</td>\n",
              "      <td>980.00</td>\n",
              "      <td>18</td>\n",
              "      <td>0.0</td>\n",
              "      <td>17640.0</td>\n",
              "      <td>Fabrikam Trendsetter 2/3'' 17mm X100 Grey</td>\n",
              "      <td>Fabrikam, Inc.</td>\n",
              "      <td>Fabrikam</td>\n",
              "      <td>Regular</td>\n",
              "      <td>Grey</td>\n",
              "      <td>12</td>\n",
              "    </tr>\n",
              "    <tr>\n",
              "      <th>293</th>\n",
              "      <td>2008-10-22</td>\n",
              "      <td>2008-11-02</td>\n",
              "      <td>307</td>\n",
              "      <td>2497</td>\n",
              "      <td>19107</td>\n",
              "      <td>200810225CS646</td>\n",
              "      <td>5.09</td>\n",
              "      <td>9.99</td>\n",
              "      <td>240</td>\n",
              "      <td>0.0</td>\n",
              "      <td>2397.6</td>\n",
              "      <td>Headphone Adapter for Contoso Phone E130 White</td>\n",
              "      <td>Contoso, Ltd</td>\n",
              "      <td>Contoso</td>\n",
              "      <td>Economy</td>\n",
              "      <td>White</td>\n",
              "      <td>11</td>\n",
              "    </tr>\n",
              "  </tbody>\n",
              "</table>\n",
              "</div>"
            ],
            "text/plain": [
              "    Data Venda Data Envio  ID Loja  ...   Classe    Cor tempo_envio\n",
              "501 2008-06-05 2008-06-18      307  ...  Regular  Black          13\n",
              "220 2009-06-10 2009-06-22      306  ...  Regular   Grey          12\n",
              "293 2008-10-22 2008-11-02      307  ...  Economy  White          11\n",
              "\n",
              "[3 rows x 17 columns]"
            ]
          },
          "metadata": {
            "tags": []
          },
          "execution_count": 149
        }
      ]
    },
    {
      "cell_type": "code",
      "metadata": {
        "colab": {
          "base_uri": "https://localhost:8080/"
        },
        "id": "Hwxvd6cdsHF-",
        "outputId": "c1179c10-cd86-4166-f32f-409068804cbf"
      },
      "source": [
        "tempo_envio_medio = df['tempo_envio'].mean()\n",
        "tempo_envio_medio"
      ],
      "execution_count": 150,
      "outputs": [
        {
          "output_type": "execute_result",
          "data": {
            "text/plain": [
              "8.543141592920353"
            ]
          },
          "metadata": {
            "tags": []
          },
          "execution_count": 150
        }
      ]
    },
    {
      "cell_type": "markdown",
      "metadata": {
        "id": "yTIqv7YZxVXn"
      },
      "source": [
        "Media do tempo de envio por marca"
      ]
    },
    {
      "cell_type": "code",
      "metadata": {
        "colab": {
          "base_uri": "https://localhost:8080/"
        },
        "id": "AZ5Tw7FlxX_Z",
        "outputId": "399de324-01c3-4e79-ae41-c2d6824d8d58"
      },
      "source": [
        "df.groupby('Marca')['tempo_envio'].mean()"
      ],
      "execution_count": 151,
      "outputs": [
        {
          "output_type": "execute_result",
          "data": {
            "text/plain": [
              "Marca\n",
              "Adventure Works    8.663866\n",
              "Contoso            8.470930\n",
              "Fabrikam           8.510121\n",
              "Name: tempo_envio, dtype: float64"
            ]
          },
          "metadata": {
            "tags": []
          },
          "execution_count": 151
        }
      ]
    },
    {
      "cell_type": "markdown",
      "metadata": {
        "id": "BBUi76m2spSP"
      },
      "source": [
        "Excluindo algumas colunas irrelevantes"
      ]
    },
    {
      "cell_type": "code",
      "metadata": {
        "colab": {
          "base_uri": "https://localhost:8080/",
          "height": 173
        },
        "id": "Rw6O95BLssZo",
        "outputId": "55d5d185-2b00-4a22-a97d-eedc0324d619"
      },
      "source": [
        "df1 = df.drop(['No. Venda', 'Fabricante', 'ID Loja', 'ID Produto', 'ID Cliente'], axis = 1)\n",
        "df1.sample(4)"
      ],
      "execution_count": 152,
      "outputs": [
        {
          "output_type": "execute_result",
          "data": {
            "text/html": [
              "<div>\n",
              "<style scoped>\n",
              "    .dataframe tbody tr th:only-of-type {\n",
              "        vertical-align: middle;\n",
              "    }\n",
              "\n",
              "    .dataframe tbody tr th {\n",
              "        vertical-align: top;\n",
              "    }\n",
              "\n",
              "    .dataframe thead th {\n",
              "        text-align: right;\n",
              "    }\n",
              "</style>\n",
              "<table border=\"1\" class=\"dataframe\">\n",
              "  <thead>\n",
              "    <tr style=\"text-align: right;\">\n",
              "      <th></th>\n",
              "      <th>Data Venda</th>\n",
              "      <th>Data Envio</th>\n",
              "      <th>Custo Unitário</th>\n",
              "      <th>Preço Unitário</th>\n",
              "      <th>Quantidade</th>\n",
              "      <th>Valor Desconto</th>\n",
              "      <th>Valor Venda</th>\n",
              "      <th>Produto</th>\n",
              "      <th>Marca</th>\n",
              "      <th>Classe</th>\n",
              "      <th>Cor</th>\n",
              "      <th>tempo_envio</th>\n",
              "    </tr>\n",
              "  </thead>\n",
              "  <tbody>\n",
              "    <tr>\n",
              "      <th>492</th>\n",
              "      <td>2009-11-25</td>\n",
              "      <td>2009-11-29</td>\n",
              "      <td>324.69</td>\n",
              "      <td>980.0</td>\n",
              "      <td>24</td>\n",
              "      <td>4704.0</td>\n",
              "      <td>18816.0</td>\n",
              "      <td>Fabrikam Trendsetter 2/3'' 17mm X100 Black</td>\n",
              "      <td>Fabrikam</td>\n",
              "      <td>Regular</td>\n",
              "      <td>Black</td>\n",
              "      <td>4</td>\n",
              "    </tr>\n",
              "    <tr>\n",
              "      <th>490</th>\n",
              "      <td>2008-11-29</td>\n",
              "      <td>2008-12-03</td>\n",
              "      <td>348.58</td>\n",
              "      <td>758.0</td>\n",
              "      <td>21</td>\n",
              "      <td>2387.7</td>\n",
              "      <td>13530.3</td>\n",
              "      <td>Adventure Works Laptop15.4W M1548 Black</td>\n",
              "      <td>Adventure Works</td>\n",
              "      <td>Regular</td>\n",
              "      <td>Black</td>\n",
              "      <td>4</td>\n",
              "    </tr>\n",
              "    <tr>\n",
              "      <th>334</th>\n",
              "      <td>2009-01-13</td>\n",
              "      <td>2009-01-20</td>\n",
              "      <td>348.58</td>\n",
              "      <td>758.0</td>\n",
              "      <td>9</td>\n",
              "      <td>1023.3</td>\n",
              "      <td>5798.7</td>\n",
              "      <td>Adventure Works Laptop15.4W M1548 Red</td>\n",
              "      <td>Adventure Works</td>\n",
              "      <td>Regular</td>\n",
              "      <td>Red</td>\n",
              "      <td>7</td>\n",
              "    </tr>\n",
              "    <tr>\n",
              "      <th>821</th>\n",
              "      <td>2008-11-07</td>\n",
              "      <td>2008-11-15</td>\n",
              "      <td>324.69</td>\n",
              "      <td>980.0</td>\n",
              "      <td>6</td>\n",
              "      <td>1176.0</td>\n",
              "      <td>4704.0</td>\n",
              "      <td>Fabrikam Trendsetter 2/3'' 17mm X100 Grey</td>\n",
              "      <td>Fabrikam</td>\n",
              "      <td>Regular</td>\n",
              "      <td>Grey</td>\n",
              "      <td>8</td>\n",
              "    </tr>\n",
              "  </tbody>\n",
              "</table>\n",
              "</div>"
            ],
            "text/plain": [
              "    Data Venda Data Envio  Custo Unitário  ...   Classe    Cor  tempo_envio\n",
              "492 2009-11-25 2009-11-29          324.69  ...  Regular  Black            4\n",
              "490 2008-11-29 2008-12-03          348.58  ...  Regular  Black            4\n",
              "334 2009-01-13 2009-01-20          348.58  ...  Regular    Red            7\n",
              "821 2008-11-07 2008-11-15          324.69  ...  Regular   Grey            8\n",
              "\n",
              "[4 rows x 12 columns]"
            ]
          },
          "metadata": {
            "tags": []
          },
          "execution_count": 152
        }
      ]
    },
    {
      "cell_type": "markdown",
      "metadata": {
        "id": "kySIfAREth_6"
      },
      "source": [
        "Criando a coluna 'custo'"
      ]
    },
    {
      "cell_type": "code",
      "metadata": {
        "colab": {
          "base_uri": "https://localhost:8080/"
        },
        "id": "PvXBSp-Rtkdy",
        "outputId": "7698e734-09ab-4e27-b12e-271bc9469372"
      },
      "source": [
        "df['custo'] = df['Custo Unitário'].mul(df['Quantidade'])\n",
        "df['custo'].sample(4)"
      ],
      "execution_count": 153,
      "outputs": [
        {
          "output_type": "execute_result",
          "data": {
            "text/plain": [
              "598    2597.52\n",
              "264    2443.20\n",
              "284     610.80\n",
              "24     1983.96\n",
              "Name: custo, dtype: float64"
            ]
          },
          "metadata": {
            "tags": []
          },
          "execution_count": 153
        }
      ]
    },
    {
      "cell_type": "markdown",
      "metadata": {
        "id": "I3xQqt17uMFs"
      },
      "source": [
        "O custo total será a soma dessa coluna"
      ]
    },
    {
      "cell_type": "code",
      "metadata": {
        "colab": {
          "base_uri": "https://localhost:8080/"
        },
        "id": "SSp9mlPNu80n",
        "outputId": "541ee0d6-8332-4749-fa47-f660d6ecac89"
      },
      "source": [
        "custo_total = df['custo'].sum()\n",
        "round(custo_total, 2)"
      ],
      "execution_count": 154,
      "outputs": [
        {
          "output_type": "execute_result",
          "data": {
            "text/plain": [
              "2486783.05"
            ]
          },
          "metadata": {
            "tags": []
          },
          "execution_count": 154
        }
      ]
    },
    {
      "cell_type": "markdown",
      "metadata": {
        "id": "IJTWgo6TwINt"
      },
      "source": [
        "Criando a coluna 'lucro'"
      ]
    },
    {
      "cell_type": "code",
      "metadata": {
        "colab": {
          "base_uri": "https://localhost:8080/"
        },
        "id": "r5ochJz-wKHB",
        "outputId": "23cebe0c-4490-4fc9-ff3d-0544f09d5b8d"
      },
      "source": [
        "df['lucro'] = df['Valor Venda'] - df['custo']\n",
        "df['lucro'].sample(4)"
      ],
      "execution_count": 155,
      "outputs": [
        {
          "output_type": "execute_result",
          "data": {
            "text/plain": [
              "229    5338.72\n",
              "868    2229.12\n",
              "292    1176.00\n",
              "30     4004.04\n",
              "Name: lucro, dtype: float64"
            ]
          },
          "metadata": {
            "tags": []
          },
          "execution_count": 155
        }
      ]
    },
    {
      "cell_type": "markdown",
      "metadata": {
        "id": "IZdPzvmUwU0b"
      },
      "source": [
        "O lucro total será a soma dessa coluna nova criada"
      ]
    },
    {
      "cell_type": "code",
      "metadata": {
        "colab": {
          "base_uri": "https://localhost:8080/"
        },
        "id": "BgtB3QK7wXyP",
        "outputId": "e5467845-90f1-41cf-8bcb-7654da5a7291"
      },
      "source": [
        "lucro_total = df['lucro'].sum()\n",
        "round(lucro_total, 2)"
      ],
      "execution_count": 156,
      "outputs": [
        {
          "output_type": "execute_result",
          "data": {
            "text/plain": [
              "3497823.09"
            ]
          },
          "metadata": {
            "tags": []
          },
          "execution_count": 156
        }
      ]
    },
    {
      "cell_type": "code",
      "metadata": {
        "colab": {
          "base_uri": "https://localhost:8080/",
          "height": 261
        },
        "id": "Oj4QCQxDxI8K",
        "outputId": "823d3ea3-b8c2-491b-c097-7465078bc1b3"
      },
      "source": [
        "df.sample(3)"
      ],
      "execution_count": 157,
      "outputs": [
        {
          "output_type": "execute_result",
          "data": {
            "text/html": [
              "<div>\n",
              "<style scoped>\n",
              "    .dataframe tbody tr th:only-of-type {\n",
              "        vertical-align: middle;\n",
              "    }\n",
              "\n",
              "    .dataframe tbody tr th {\n",
              "        vertical-align: top;\n",
              "    }\n",
              "\n",
              "    .dataframe thead th {\n",
              "        text-align: right;\n",
              "    }\n",
              "</style>\n",
              "<table border=\"1\" class=\"dataframe\">\n",
              "  <thead>\n",
              "    <tr style=\"text-align: right;\">\n",
              "      <th></th>\n",
              "      <th>Data Venda</th>\n",
              "      <th>Data Envio</th>\n",
              "      <th>ID Loja</th>\n",
              "      <th>ID Produto</th>\n",
              "      <th>ID Cliente</th>\n",
              "      <th>No. Venda</th>\n",
              "      <th>Custo Unitário</th>\n",
              "      <th>Preço Unitário</th>\n",
              "      <th>Quantidade</th>\n",
              "      <th>Valor Desconto</th>\n",
              "      <th>Valor Venda</th>\n",
              "      <th>Produto</th>\n",
              "      <th>Fabricante</th>\n",
              "      <th>Marca</th>\n",
              "      <th>Classe</th>\n",
              "      <th>Cor</th>\n",
              "      <th>tempo_envio</th>\n",
              "      <th>custo</th>\n",
              "      <th>lucro</th>\n",
              "    </tr>\n",
              "  </thead>\n",
              "  <tbody>\n",
              "    <tr>\n",
              "      <th>846</th>\n",
              "      <td>2008-02-08</td>\n",
              "      <td>2008-02-19</td>\n",
              "      <td>306</td>\n",
              "      <td>1203</td>\n",
              "      <td>19047</td>\n",
              "      <td>200802084CS529</td>\n",
              "      <td>324.69</td>\n",
              "      <td>980.0</td>\n",
              "      <td>6</td>\n",
              "      <td>411.6</td>\n",
              "      <td>5468.4</td>\n",
              "      <td>Fabrikam Trendsetter 2/3'' 17mm X100 Grey</td>\n",
              "      <td>Fabrikam, Inc.</td>\n",
              "      <td>Fabrikam</td>\n",
              "      <td>Regular</td>\n",
              "      <td>Grey</td>\n",
              "      <td>11</td>\n",
              "      <td>1948.14</td>\n",
              "      <td>3520.26</td>\n",
              "    </tr>\n",
              "    <tr>\n",
              "      <th>331</th>\n",
              "      <td>2009-12-29</td>\n",
              "      <td>2010-01-07</td>\n",
              "      <td>307</td>\n",
              "      <td>384</td>\n",
              "      <td>19145</td>\n",
              "      <td>200912293CS735</td>\n",
              "      <td>348.58</td>\n",
              "      <td>758.0</td>\n",
              "      <td>7</td>\n",
              "      <td>795.9</td>\n",
              "      <td>4510.1</td>\n",
              "      <td>Adventure Works Laptop15.4W M1548 Red</td>\n",
              "      <td>Adventure Works</td>\n",
              "      <td>Adventure Works</td>\n",
              "      <td>Regular</td>\n",
              "      <td>Red</td>\n",
              "      <td>9</td>\n",
              "      <td>2440.06</td>\n",
              "      <td>2070.04</td>\n",
              "    </tr>\n",
              "    <tr>\n",
              "      <th>897</th>\n",
              "      <td>2009-06-12</td>\n",
              "      <td>2009-06-22</td>\n",
              "      <td>307</td>\n",
              "      <td>1226</td>\n",
              "      <td>19126</td>\n",
              "      <td>200906124CS716</td>\n",
              "      <td>330.99</td>\n",
              "      <td>999.0</td>\n",
              "      <td>6</td>\n",
              "      <td>599.4</td>\n",
              "      <td>5394.6</td>\n",
              "      <td>Fabrikam Trendsetter 1/3'' 8.5mm X200 Black</td>\n",
              "      <td>Fabrikam, Inc.</td>\n",
              "      <td>Fabrikam</td>\n",
              "      <td>Regular</td>\n",
              "      <td>Black</td>\n",
              "      <td>10</td>\n",
              "      <td>1985.94</td>\n",
              "      <td>3408.66</td>\n",
              "    </tr>\n",
              "  </tbody>\n",
              "</table>\n",
              "</div>"
            ],
            "text/plain": [
              "    Data Venda Data Envio  ID Loja  ...  tempo_envio    custo    lucro\n",
              "846 2008-02-08 2008-02-19      306  ...           11  1948.14  3520.26\n",
              "331 2009-12-29 2010-01-07      307  ...            9  2440.06  2070.04\n",
              "897 2009-06-12 2009-06-22      307  ...           10  1985.94  3408.66\n",
              "\n",
              "[3 rows x 19 columns]"
            ]
          },
          "metadata": {
            "tags": []
          },
          "execution_count": 157
        }
      ]
    },
    {
      "cell_type": "code",
      "metadata": {
        "colab": {
          "base_uri": "https://localhost:8080/"
        },
        "id": "1loCYhwb7TNs",
        "outputId": "407179fc-1c15-4bc8-9456-f11082b56ff6"
      },
      "source": [
        "show = df.groupby([df['Valor Venda'], 'Fabricante'])['lucro'].sum()\n",
        "show"
      ],
      "execution_count": 158,
      "outputs": [
        {
          "output_type": "execute_result",
          "data": {
            "text/plain": [
              "Valor Venda  Fabricante    \n",
              "159.840      Contoso, Ltd         78.400\n",
              "332.667      Contoso, Ltd        144.337\n",
              "351.648      Contoso, Ltd        127.688\n",
              "479.520      Contoso, Ltd        235.200\n",
              "591.408      Contoso, Ltd        214.748\n",
              "                                 ...    \n",
              "23952.000    Fabrikam, Inc.    16016.160\n",
              "23976.000    Fabrikam, Inc.    32064.480\n",
              "25088.000    Fabrikam, Inc.    14697.920\n",
              "25174.800    Fabrikam, Inc.    15907.080\n",
              "29400.000    Fabrikam, Inc.    19659.300\n",
              "Name: lucro, Length: 220, dtype: float64"
            ]
          },
          "metadata": {
            "tags": []
          },
          "execution_count": 158
        }
      ]
    },
    {
      "cell_type": "code",
      "metadata": {
        "colab": {
          "base_uri": "https://localhost:8080/"
        },
        "id": "BTYgHdg88Fju",
        "outputId": "19159dba-ba1d-4fca-bbc2-0d5a797f0744"
      },
      "source": [
        "df.groupby(df['Data Venda'].dt.month)['lucro'].mean()"
      ],
      "execution_count": 159,
      "outputs": [
        {
          "output_type": "execute_result",
          "data": {
            "text/plain": [
              "Data Venda\n",
              "1     3177.382531\n",
              "2     3615.747882\n",
              "3     3760.372333\n",
              "4     4774.890162\n",
              "5     4250.780000\n",
              "6     4459.085009\n",
              "7     4568.048140\n",
              "8     3686.680231\n",
              "9     4290.825474\n",
              "10    3616.271378\n",
              "11    3461.602231\n",
              "12    3168.004072\n",
              "Name: lucro, dtype: float64"
            ]
          },
          "metadata": {
            "tags": []
          },
          "execution_count": 159
        }
      ]
    },
    {
      "cell_type": "markdown",
      "metadata": {
        "id": "g8a1Xz2B8yF1"
      },
      "source": [
        "Filtrar meses que obtiveram valores acima da média de lucro"
      ]
    },
    {
      "cell_type": "code",
      "metadata": {
        "id": "QSRMN1eO8vyd"
      },
      "source": [
        "df['mes'] = df['Data Venda'].dt.month\n",
        "df['ano'] = df['Data Venda'].dt.year\n",
        "\n",
        "filtro_lucro = df.lucro >= df['lucro'].mean()\n",
        "show = df.loc[filtro_lucro, ['lucro', 'mes', 'ano']]\n",
        "\n",
        "df.drop(labels = 'mes', axis = 1, inplace = True)\n",
        "df.drop(labels = 'ano', axis = 1, inplace = True)"
      ],
      "execution_count": 160,
      "outputs": []
    },
    {
      "cell_type": "code",
      "metadata": {
        "colab": {
          "base_uri": "https://localhost:8080/",
          "height": 419
        },
        "id": "6m539AJD-bZS",
        "outputId": "41881a6e-7a20-4af8-d2cb-7297a80c6689"
      },
      "source": [
        "show"
      ],
      "execution_count": 161,
      "outputs": [
        {
          "output_type": "execute_result",
          "data": {
            "text/html": [
              "<div>\n",
              "<style scoped>\n",
              "    .dataframe tbody tr th:only-of-type {\n",
              "        vertical-align: middle;\n",
              "    }\n",
              "\n",
              "    .dataframe tbody tr th {\n",
              "        vertical-align: top;\n",
              "    }\n",
              "\n",
              "    .dataframe thead th {\n",
              "        text-align: right;\n",
              "    }\n",
              "</style>\n",
              "<table border=\"1\" class=\"dataframe\">\n",
              "  <thead>\n",
              "    <tr style=\"text-align: right;\">\n",
              "      <th></th>\n",
              "      <th>lucro</th>\n",
              "      <th>mes</th>\n",
              "      <th>ano</th>\n",
              "    </tr>\n",
              "  </thead>\n",
              "  <tbody>\n",
              "    <tr>\n",
              "      <th>19</th>\n",
              "      <td>4004.04</td>\n",
              "      <td>5</td>\n",
              "      <td>2008</td>\n",
              "    </tr>\n",
              "    <tr>\n",
              "      <th>20</th>\n",
              "      <td>4004.04</td>\n",
              "      <td>5</td>\n",
              "      <td>2008</td>\n",
              "    </tr>\n",
              "    <tr>\n",
              "      <th>21</th>\n",
              "      <td>4004.04</td>\n",
              "      <td>6</td>\n",
              "      <td>2008</td>\n",
              "    </tr>\n",
              "    <tr>\n",
              "      <th>22</th>\n",
              "      <td>4004.04</td>\n",
              "      <td>6</td>\n",
              "      <td>2008</td>\n",
              "    </tr>\n",
              "    <tr>\n",
              "      <th>23</th>\n",
              "      <td>4004.04</td>\n",
              "      <td>6</td>\n",
              "      <td>2008</td>\n",
              "    </tr>\n",
              "    <tr>\n",
              "      <th>...</th>\n",
              "      <td>...</td>\n",
              "      <td>...</td>\n",
              "      <td>...</td>\n",
              "    </tr>\n",
              "    <tr>\n",
              "      <th>602</th>\n",
              "      <td>4693.68</td>\n",
              "      <td>4</td>\n",
              "      <td>2008</td>\n",
              "    </tr>\n",
              "    <tr>\n",
              "      <th>603</th>\n",
              "      <td>4693.68</td>\n",
              "      <td>2</td>\n",
              "      <td>2009</td>\n",
              "    </tr>\n",
              "    <tr>\n",
              "      <th>604</th>\n",
              "      <td>4693.68</td>\n",
              "      <td>2</td>\n",
              "      <td>2009</td>\n",
              "    </tr>\n",
              "    <tr>\n",
              "      <th>605</th>\n",
              "      <td>4693.68</td>\n",
              "      <td>3</td>\n",
              "      <td>2009</td>\n",
              "    </tr>\n",
              "    <tr>\n",
              "      <th>800</th>\n",
              "      <td>5306.34</td>\n",
              "      <td>12</td>\n",
              "      <td>2009</td>\n",
              "    </tr>\n",
              "  </tbody>\n",
              "</table>\n",
              "<p>408 rows × 3 columns</p>\n",
              "</div>"
            ],
            "text/plain": [
              "       lucro  mes   ano\n",
              "19   4004.04    5  2008\n",
              "20   4004.04    5  2008\n",
              "21   4004.04    6  2008\n",
              "22   4004.04    6  2008\n",
              "23   4004.04    6  2008\n",
              "..       ...  ...   ...\n",
              "602  4693.68    4  2008\n",
              "603  4693.68    2  2009\n",
              "604  4693.68    2  2009\n",
              "605  4693.68    3  2009\n",
              "800  5306.34   12  2009\n",
              "\n",
              "[408 rows x 3 columns]"
            ]
          },
          "metadata": {
            "tags": []
          },
          "execution_count": 161
        }
      ]
    },
    {
      "cell_type": "markdown",
      "metadata": {
        "id": "8SKlFV0Mslo6"
      },
      "source": [
        "# **Gráficos**"
      ]
    },
    {
      "cell_type": "code",
      "metadata": {
        "colab": {
          "base_uri": "https://localhost:8080/",
          "height": 329
        },
        "id": "XsoLQv3-sn8e",
        "outputId": "e7b504d6-b83e-478d-e01a-4d589d9c6355"
      },
      "source": [
        "df.sample(3)"
      ],
      "execution_count": 164,
      "outputs": [
        {
          "output_type": "execute_result",
          "data": {
            "text/html": [
              "<div>\n",
              "<style scoped>\n",
              "    .dataframe tbody tr th:only-of-type {\n",
              "        vertical-align: middle;\n",
              "    }\n",
              "\n",
              "    .dataframe tbody tr th {\n",
              "        vertical-align: top;\n",
              "    }\n",
              "\n",
              "    .dataframe thead th {\n",
              "        text-align: right;\n",
              "    }\n",
              "</style>\n",
              "<table border=\"1\" class=\"dataframe\">\n",
              "  <thead>\n",
              "    <tr style=\"text-align: right;\">\n",
              "      <th></th>\n",
              "      <th>Data Venda</th>\n",
              "      <th>Data Envio</th>\n",
              "      <th>ID Loja</th>\n",
              "      <th>ID Produto</th>\n",
              "      <th>ID Cliente</th>\n",
              "      <th>No. Venda</th>\n",
              "      <th>Custo Unitário</th>\n",
              "      <th>Preço Unitário</th>\n",
              "      <th>Quantidade</th>\n",
              "      <th>Valor Desconto</th>\n",
              "      <th>Valor Venda</th>\n",
              "      <th>Produto</th>\n",
              "      <th>Fabricante</th>\n",
              "      <th>Marca</th>\n",
              "      <th>Classe</th>\n",
              "      <th>Cor</th>\n",
              "      <th>tempo_envio</th>\n",
              "      <th>custo</th>\n",
              "      <th>lucro</th>\n",
              "    </tr>\n",
              "  </thead>\n",
              "  <tbody>\n",
              "    <tr>\n",
              "      <th>161</th>\n",
              "      <td>2008-05-30</td>\n",
              "      <td>2008-06-05</td>\n",
              "      <td>306</td>\n",
              "      <td>1202</td>\n",
              "      <td>19052</td>\n",
              "      <td>200805304CS576</td>\n",
              "      <td>330.66</td>\n",
              "      <td>998.00</td>\n",
              "      <td>12</td>\n",
              "      <td>0.0000</td>\n",
              "      <td>11976.0000</td>\n",
              "      <td>Fabrikam Trendsetter 1/3'' 8.5mm X200 Grey</td>\n",
              "      <td>Fabrikam, Inc.</td>\n",
              "      <td>Fabrikam</td>\n",
              "      <td>Regular</td>\n",
              "      <td>Grey</td>\n",
              "      <td>6</td>\n",
              "      <td>3967.92</td>\n",
              "      <td>8008.0800</td>\n",
              "    </tr>\n",
              "    <tr>\n",
              "      <th>891</th>\n",
              "      <td>2008-06-02</td>\n",
              "      <td>2008-06-15</td>\n",
              "      <td>307</td>\n",
              "      <td>1226</td>\n",
              "      <td>19099</td>\n",
              "      <td>200806024CS568</td>\n",
              "      <td>330.99</td>\n",
              "      <td>999.00</td>\n",
              "      <td>6</td>\n",
              "      <td>599.4000</td>\n",
              "      <td>5394.6000</td>\n",
              "      <td>Fabrikam Trendsetter 1/3'' 8.5mm X200 Black</td>\n",
              "      <td>Fabrikam, Inc.</td>\n",
              "      <td>Fabrikam</td>\n",
              "      <td>Regular</td>\n",
              "      <td>Black</td>\n",
              "      <td>13</td>\n",
              "      <td>1985.94</td>\n",
              "      <td>3408.6600</td>\n",
              "    </tr>\n",
              "    <tr>\n",
              "      <th>713</th>\n",
              "      <td>2009-02-22</td>\n",
              "      <td>2009-03-01</td>\n",
              "      <td>306</td>\n",
              "      <td>2496</td>\n",
              "      <td>19063</td>\n",
              "      <td>200902225CS740</td>\n",
              "      <td>5.09</td>\n",
              "      <td>9.99</td>\n",
              "      <td>576</td>\n",
              "      <td>402.7968</td>\n",
              "      <td>5351.4432</td>\n",
              "      <td>Headphone Adapter for Contoso Phone E130 Silver</td>\n",
              "      <td>Contoso, Ltd</td>\n",
              "      <td>Contoso</td>\n",
              "      <td>Economy</td>\n",
              "      <td>Silver</td>\n",
              "      <td>7</td>\n",
              "      <td>2931.84</td>\n",
              "      <td>2419.6032</td>\n",
              "    </tr>\n",
              "  </tbody>\n",
              "</table>\n",
              "</div>"
            ],
            "text/plain": [
              "    Data Venda Data Envio  ID Loja  ...  tempo_envio    custo      lucro\n",
              "161 2008-05-30 2008-06-05      306  ...            6  3967.92  8008.0800\n",
              "891 2008-06-02 2008-06-15      307  ...           13  1985.94  3408.6600\n",
              "713 2009-02-22 2009-03-01      306  ...            7  2931.84  2419.6032\n",
              "\n",
              "[3 rows x 19 columns]"
            ]
          },
          "metadata": {
            "tags": []
          },
          "execution_count": 164
        }
      ]
    },
    {
      "cell_type": "code",
      "metadata": {
        "id": "h_9SV0i_s4vf"
      },
      "source": [
        "import seaborn as sns\n",
        "import numpy as np\n",
        "import plotly.express as px"
      ],
      "execution_count": 165,
      "outputs": []
    },
    {
      "cell_type": "code",
      "metadata": {
        "colab": {
          "base_uri": "https://localhost:8080/"
        },
        "id": "YM6i_P9Qs95T",
        "outputId": "2c97e872-a5ea-42c4-9e62-397b7037f58d"
      },
      "source": [
        "np.unique(df['custo'])"
      ],
      "execution_count": 166,
      "outputs": [
        {
          "output_type": "execute_result",
          "data": {
            "text/plain": [
              "array([   81.44,   188.33,   223.96,   244.32,   376.66,   488.64,\n",
              "         549.72,   610.8 ,   697.16,   732.96,   794.04,   977.28,\n",
              "        1099.44,  1221.6 ,  1298.76,  1322.64,  1323.96,  1343.76,\n",
              "        1394.32,  1465.92,  1588.08,  1623.45,  1653.3 ,  1654.95,\n",
              "        1742.9 ,  1948.14,  1954.56,  1983.96,  1985.94,  2091.48,\n",
              "        2178.52,  2198.88,  2272.83,  2314.62,  2316.93,  2382.12,\n",
              "        2440.06,  2443.2 ,  2597.52,  2645.28,  2647.92,  2788.64,\n",
              "        2922.21,  2931.84,  2975.94,  2978.91,  3137.22,  3176.16,\n",
              "        3246.9 ,  3306.6 ,  3309.9 ,  3485.8 ,  3571.59,  3637.26,\n",
              "        3640.89,  3664.8 ,  3834.38,  3896.28,  3967.92,  3971.88,\n",
              "        4182.96,  4220.97,  4298.58,  4302.87,  4397.76,  4531.54,\n",
              "        4545.66,  4629.24,  4764.24,  4870.35,  4880.12,  4959.9 ,\n",
              "        4964.85,  5195.04,  5228.7 ,  5290.56,  5295.84,  5519.73,\n",
              "        5577.28,  5621.22,  5626.83,  5844.42,  5863.68,  5925.86,\n",
              "        5951.88,  5957.82,  5970.57,  6274.44,  6613.2 ,  6623.02,\n",
              "        6818.49,  6943.86,  6971.6 ,  7143.18,  7274.52,  7320.18,\n",
              "        7329.6 ,  7605.18,  7668.76,  7792.56,  7935.84,  7940.4 ,\n",
              "        7943.76,  8017.34,  8117.25,  8274.75,  8365.92,  8605.74,\n",
              "        9267.72,  9740.7 , 10390.08, 10457.4 , 11154.56])"
            ]
          },
          "metadata": {
            "tags": []
          },
          "execution_count": 166
        }
      ]
    },
    {
      "cell_type": "code",
      "metadata": {
        "colab": {
          "base_uri": "https://localhost:8080/"
        },
        "id": "enOOvxvFtCVX",
        "outputId": "c42203f5-5571-4a17-e1ce-6f226968b5f6"
      },
      "source": [
        "np.unique(df['custo'], return_counts=True)"
      ],
      "execution_count": 167,
      "outputs": [
        {
          "output_type": "execute_result",
          "data": {
            "text/plain": [
              "(array([   81.44,   188.33,   223.96,   244.32,   376.66,   488.64,\n",
              "          549.72,   610.8 ,   697.16,   732.96,   794.04,   977.28,\n",
              "         1099.44,  1221.6 ,  1298.76,  1322.64,  1323.96,  1343.76,\n",
              "         1394.32,  1465.92,  1588.08,  1623.45,  1653.3 ,  1654.95,\n",
              "         1742.9 ,  1948.14,  1954.56,  1983.96,  1985.94,  2091.48,\n",
              "         2178.52,  2198.88,  2272.83,  2314.62,  2316.93,  2382.12,\n",
              "         2440.06,  2443.2 ,  2597.52,  2645.28,  2647.92,  2788.64,\n",
              "         2922.21,  2931.84,  2975.94,  2978.91,  3137.22,  3176.16,\n",
              "         3246.9 ,  3306.6 ,  3309.9 ,  3485.8 ,  3571.59,  3637.26,\n",
              "         3640.89,  3664.8 ,  3834.38,  3896.28,  3967.92,  3971.88,\n",
              "         4182.96,  4220.97,  4298.58,  4302.87,  4397.76,  4531.54,\n",
              "         4545.66,  4629.24,  4764.24,  4870.35,  4880.12,  4959.9 ,\n",
              "         4964.85,  5195.04,  5228.7 ,  5290.56,  5295.84,  5519.73,\n",
              "         5577.28,  5621.22,  5626.83,  5844.42,  5863.68,  5925.86,\n",
              "         5951.88,  5957.82,  5970.57,  6274.44,  6613.2 ,  6623.02,\n",
              "         6818.49,  6943.86,  6971.6 ,  7143.18,  7274.52,  7320.18,\n",
              "         7329.6 ,  7605.18,  7668.76,  7792.56,  7935.84,  7940.4 ,\n",
              "         7943.76,  8017.34,  8117.25,  8274.75,  8365.92,  8605.74,\n",
              "         9267.72,  9740.7 , 10390.08, 10457.4 , 11154.56]),\n",
              " array([ 1,  1,  1,  1,  1,  4,  4, 16,  1, 14, 14, 12,  8, 21,  7, 10,  4,\n",
              "         1, 11, 19, 18, 18, 20,  5, 22, 88,  4, 66, 25, 76,  1,  5,  5,  3,\n",
              "         5,  1, 10,  5, 19, 16,  6, 30, 11,  8,  8,  4, 15,  4,  8,  3,  8,\n",
              "         7,  4,  3,  5,  2,  6, 19, 27,  9, 20,  3,  3,  2,  1,  1,  9,  6,\n",
              "         1,  3,  3,  4,  4, 11,  7,  1,  3,  1, 11,  1,  2,  7,  1,  4,  3,\n",
              "         2,  1,  6,  3,  1,  1,  1,  1,  2,  2,  1,  1,  1,  1,  2,  3,  1,\n",
              "         2,  1,  1,  1,  1,  1,  1,  1,  1,  1,  1]))"
            ]
          },
          "metadata": {
            "tags": []
          },
          "execution_count": 167
        }
      ]
    },
    {
      "cell_type": "code",
      "metadata": {
        "colab": {
          "base_uri": "https://localhost:8080/",
          "height": 361
        },
        "id": "DI6IvdiOtKqb",
        "outputId": "2c97214d-7db0-4196-aef0-2b9cebababef"
      },
      "source": [
        "sns.countplot(x = df['custo']);"
      ],
      "execution_count": 168,
      "outputs": [
        {
          "output_type": "display_data",
          "data": {
            "image/png": "[encoded data removed]",
            "text/plain": [
              "<Figure size 576x396 with 1 Axes>"
            ]
          },
          "metadata": {
            "tags": []
          }
        }
      ]
    },
    {
      "cell_type": "code",
      "metadata": {
        "colab": {
          "base_uri": "https://localhost:8080/",
          "height": 347
        },
        "id": "iUNNS6UmtttG",
        "outputId": "39924446-155a-44ca-d61f-ce0559943f9f"
      },
      "source": [
        "plt.hist(x = df['custo']);"
      ],
      "execution_count": 169,
      "outputs": [
        {
          "output_type": "display_data",
          "data": {
            "image/png": "[encoded data removed]",
            "text/plain": [
              "<Figure size 576x396 with 1 Axes>"
            ]
          },
          "metadata": {
            "tags": []
          }
        }
      ]
    },
    {
      "cell_type": "code",
      "metadata": {
        "colab": {
          "base_uri": "https://localhost:8080/"
        },
        "id": "rt93uiDptWFB",
        "outputId": "56c495a5-fbc0-450b-ae19-d671005f4066"
      },
      "source": [
        "np.unique(df['lucro'], return_counts=True)"
      ],
      "execution_count": 170,
      "outputs": [
        {
          "output_type": "execute_result",
          "data": {
            "text/plain": [
              "(array([   78.4   ,   127.688 ,   144.337 ,   214.748 ,   235.2   ,\n",
              "          278.592 ,   421.308 ,   452.712 ,   530.634 ,   557.184 ,\n",
              "          561.744 ,   588.    ,   626.832 ,   743.04  ,   766.128 ,\n",
              "          835.776 ,   842.616 ,   905.424 ,   950.508 ,  1031.28  ,\n",
              "         1061.268 ,  1114.368 ,  1123.488 ,  1176.    ,  1209.8016,\n",
              "         1253.664 ,  1289.1   ,  1358.136 ,  1411.2   ,  1546.92  ,\n",
              "         1668.1   ,  1685.232 ,  1774.32  ,  1810.848 ,  1837.24  ,\n",
              "         1857.6   ,  1870.96  ,  1872.84  ,  1901.016 ,  2001.72  ,\n",
              "         2062.56  ,  2070.04  ,  2097.2   ,  2122.536 ,  2138.16  ,\n",
              "         2229.12  ,  2246.976 ,  2296.55  ,  2320.38  ,  2335.34  ,\n",
              "         2338.7   ,  2341.05  ,  2352.    ,  2365.76  ,  2419.6032,\n",
              "         2456.52  ,  2494.52  ,  2578.2   ,  2600.64  ,  2661.48  ,\n",
              "         2668.96  ,  2716.272 ,  2755.86  ,  2786.55  ,  2806.44  ,\n",
              "         2809.26  ,  2822.4   ,  2836.02  ,  2837.7   ,  2840.55  ,\n",
              "         2850.88  ,  2865.94  ,  3031.55  ,  3049.86  ,  3087.2   ,\n",
              "         3093.84  ,  3105.84  ,  3108.96  ,  3274.18  ,  3275.36  ,\n",
              "         3343.86  ,  3370.464 ,  3404.046 ,  3405.24  ,  3408.66  ,\n",
              "         3520.26  ,  3528.    ,  3548.64  ,  3558.17  ,  3584.88  ,\n",
              "         3588.48  ,  3623.48  ,  3637.86  ,  3674.48  ,  3704.64  ,\n",
              "         3708.36  ,  3715.2   ,  3741.92  ,  3745.68  ,  3867.3   ,\n",
              "         3901.17  ,  3931.86  ,  3976.77  ,  4003.44  ,  4004.04  ,\n",
              "         4008.06  ,  4066.48  ,  4086.72  ,  4106.97  ,  4125.12  ,\n",
              "         4133.79  ,  4140.08  ,  4141.12  ,  4209.66  ,  4213.89  ,\n",
              "         4276.32  ,  4382.94  ,  4435.8   ,  4458.48  ,  4540.32  ,\n",
              "         4544.88  ,  4574.79  ,  4587.17  ,  4593.1   ,  4658.76  ,\n",
              "         4663.44  ,  4670.68  ,  4677.4   ,  4682.1   ,  4693.68  ,\n",
              "         4731.52  ,  4784.64  ,  4913.04  ,  5004.3   ,  5052.41  ,\n",
              "         5145.14  ,  5150.31  ,  5156.4   ,  5242.48  ,  5306.34  ,\n",
              "         5322.46  ,  5337.92  ,  5338.72  ,  5511.72  ,  5572.8   ,\n",
              "         5573.1   ,  5612.88  ,  5618.52  ,  5644.8   ,  5675.4   ,\n",
              "         5701.76  ,  6063.1   ,  6086.73  ,  6180.6   ,  6210.12  ,\n",
              "         6242.94  ,  6249.21  ,  6315.84  ,  6430.34  ,  6548.36  ,\n",
              "         6687.72  ,  6729.32  ,  6791.84  ,  6798.66  ,  6810.48  ,\n",
              "         6889.65  ,  7016.1   ,  7023.15  ,  7040.52  ,  7056.    ,\n",
              "         7116.34  ,  7169.76  ,  7245.03  ,  7246.96  ,  7339.64  ,\n",
              "         7348.96  ,  7369.56  ,  7378.02  ,  7409.28  ,  7624.65  ,\n",
              "         7673.26  ,  7775.04  ,  7778.98  ,  7802.34  ,  7863.72  ,\n",
              "         7945.56  ,  7959.57  ,  8008.08  ,  8016.12  ,  8132.96  ,\n",
              "         8213.94  ,  8250.24  ,  8267.58  ,  8290.56  ,  8364.72  ,\n",
              "         8419.32  ,  8519.03  ,  8521.65  ,  8552.64  ,  8641.27  ,\n",
              "         8799.88  ,  8871.6   ,  8916.96  ,  8962.2   ,  9089.76  ,\n",
              "         9174.34  ,  9342.76  ,  9354.8   ,  9879.04  , 10010.1   ,\n",
              "        10031.58  , 10104.82  , 10290.28  , 10484.96  , 11023.44  ,\n",
              "        11350.8   , 11482.75  , 11703.51  , 11795.58  , 11918.34  ,\n",
              "        12012.12  , 12024.18  , 12907.62  , 12954.    , 13144.56  ,\n",
              "        13620.96  , 13742.04  , 14339.52  , 14697.92  , 14770.86  ,\n",
              "        15727.44  , 15907.08  , 16016.16  , 16032.24  , 19659.3   ]),\n",
              " array([ 1,  1,  1,  1,  1,  4,  4,  6,  8, 12, 14, 16,  4,  1,  1,  1,  2,\n",
              "         8,  2, 11, 10,  4, 13, 21,  2,  3, 11,  1,  3, 17,  4,  1,  3,  1,\n",
              "         7,  7, 10,  4,  1,  6,  5,  3,  1,  3,  5,  5,  5,  9,  7,  2, 11,\n",
              "         3,  5,  3,  2, 40,  3,  6,  1,  8, 12,  1, 21,  1,  7,  1,  1,  3,\n",
              "         2,  2,  6,  1,  8,  4,  7,  3,  2,  1,  1,  4,  5,  1,  1,  3,  5,\n",
              "         3,  2,  1,  1,  2,  1,  2,  5,  4,  5,  2,  1,  4,  1,  4,  2, 50,\n",
              "         5,  1, 47, 15,  1,  3,  1,  2,  6,  1,  2,  4,  1,  1,  2,  1,  6,\n",
              "         7,  4,  5,  1,  6,  4,  3,  2,  2,  5,  6,  1,  1, 14,  1,  4,  1,\n",
              "         2,  1,  2,  1,  1,  5,  3,  2,  1,  1,  2,  1,  1,  1,  3,  1,  1,\n",
              "         3,  1,  1,  1,  2,  1,  2,  1,  1,  1,  2,  3,  2,  2,  2,  2,  1,\n",
              "         1,  1,  2,  1,  1,  1,  6,  2,  1,  1,  1,  1,  1,  4, 14,  1,  2,\n",
              "        20,  8,  4,  2,  1,  1,  2,  1,  1,  1,  2,  1,  1,  1,  1,  5,  1,\n",
              "         1,  1,  1,  1,  1,  1,  1,  1,  1,  1,  1,  2,  1,  1,  5,  1,  2,\n",
              "         2,  1,  1,  1,  1,  1,  1,  1,  1,  1,  1,  1,  2,  1]))"
            ]
          },
          "metadata": {
            "tags": []
          },
          "execution_count": 170
        }
      ]
    },
    {
      "cell_type": "code",
      "metadata": {
        "colab": {
          "base_uri": "https://localhost:8080/",
          "height": 361
        },
        "id": "YprlQLuMtciD",
        "outputId": "00c0efed-3c8b-4b49-b440-b51ebf2d1612"
      },
      "source": [
        "sns.countplot(x = df['lucro']);"
      ],
      "execution_count": 171,
      "outputs": [
        {
          "output_type": "display_data",
          "data": {
            "image/png": "[encoded data removed]",
            "text/plain": [
              "<Figure size 576x396 with 1 Axes>"
            ]
          },
          "metadata": {
            "tags": []
          }
        }
      ]
    },
    {
      "cell_type": "code",
      "metadata": {
        "colab": {
          "base_uri": "https://localhost:8080/",
          "height": 347
        },
        "id": "SIzExCl_t4xN",
        "outputId": "a6a1cda4-969b-4b8b-a81d-1fc1beff11a7"
      },
      "source": [
        "plt.hist(x = df['lucro'], color = 'grey');"
      ],
      "execution_count": 172,
      "outputs": [
        {
          "output_type": "display_data",
          "data": {
            "image/png": "[encoded data removed]",
            "text/plain": [
              "<Figure size 576x396 with 1 Axes>"
            ]
          },
          "metadata": {
            "tags": []
          }
        }
      ]
    },
    {
      "cell_type": "code",
      "metadata": {
        "colab": {
          "base_uri": "https://localhost:8080/",
          "height": 542
        },
        "id": "uYWOEVckuFyT",
        "outputId": "32d227cb-592f-42e1-b803-2fcfca8958e7"
      },
      "source": [
        "plot = px.histogram(x = df['lucro'])\n",
        "plot.show()"
      ],
      "execution_count": 173,
      "outputs": [
        {
          "output_type": "display_data",
          "data": {
            "text/html": [
              "<html>\n",
              "<head><meta charset=\"utf-8\" /></head>\n",
              "<body>\n",
              "    <div>\n",
              "            <script src=\"https://cdnjs.cloudflare.com/ajax/libs/mathjax/2.7.5/MathJax.js?config=TeX-AMS-MML_SVG\"></script><script type=\"text/javascript\">if (window.MathJax) {MathJax.Hub.Config({SVG: {font: \"STIX-Web\"}});}</script>\n",
              "                <script type=\"text/javascript\">window.PlotlyConfig = {MathJaxConfig: 'local'};</script>\n",
              "        <script src=\"https://cdn.plot.ly/plotly-latest.min.js\"></script>    \n",
              "            <div id=\"5b464e05-0937-4456-895c-5ede0c0292ca\" class=\"plotly-graph-div\" style=\"height:525px; width:100%;\"></div>\n",
              "            <script type=\"text/javascript\">\n",
              "                \n",
              "                    window.PLOTLYENV=window.PLOTLYENV || {};\n",
              "                    \n",
              "                if (document.getElementById(\"5b464e05-0937-4456-895c-5ede0c0292ca\")) {\n",
              "                    Plotly.newPlot(\n",
              "                        '5b464e05-0937-4456-895c-5ede0c0292ca',\n",
              "                        [{\"alignmentgroup\": \"True\", \"bingroup\": \"x\", \"hoverlabel\": {\"namelength\": 0}, \"hovertemplate\": \"x=%{x}<br>count=%{y}\", \"legendgroup\": \"\", \"marker\": {\"color\": \"#636efa\"}, \"name\": \"\", \"offsetgroup\": \"\", \"orientation\": \"v\", \"showlegend\": false, \"type\": \"histogram\", \"x\": [2456.52, 2456.52, 2456.52, 2456.52, 2456.52, 2456.52, 2456.52, 2456.52, 2456.52, 2456.52, 2456.52, 2456.52, 2456.52, 2456.52, 2456.52, 2456.52, 2456.52, 2456.52, 2456.52, 4004.04, 4004.04, 4004.04, 4004.04, 4004.04, 4004.04, 4004.04, 4004.04, 4004.04, 4004.04, 4004.04, 4004.04, 4004.04, 4004.04, 4004.04, 4004.04, 4004.04, 4004.04, 4004.04, 4004.04, 4004.04, 4004.04, 4004.04, 4004.04, 3931.86, 4004.04, 3931.86, 4004.04, 3931.86, 3931.86, 4004.04, 4004.04, 3931.86, 4004.04, 3931.86, 4004.04, 4004.04, 4004.04, 4004.04, 4004.04, 3931.86, 4004.04, 4004.04, 3931.86, 4004.04, 3931.86, 4004.04, 3931.86, 3931.86, 4004.04, 3931.86, 4004.04, 3931.86, 4004.04, 4004.04, 3931.86, 4004.04, 4004.04, 3931.86, 3931.86, 3931.86, 4004.04, 3931.86, 4004.04, 3931.86, 3931.86, 4004.04, 3931.86, 3931.86, 3931.86, 3931.86, 3931.86, 3931.86, 3931.86, 4008.06, 4008.06, 4008.06, 3931.86, 3931.86, 4008.06, 4008.06, 4008.06, 3931.86, 4008.06, 3931.86, 3931.86, 4008.06, 3931.86, 3931.86, 3931.86, 3931.86, 3931.86, 3931.86, 3931.86, 3931.86, 4008.06, 3931.86, 4008.06, 3931.86, 3931.86, 3931.86, 3931.86, 4008.06, 4008.06, 4008.06, 3931.86, 3931.86, 4008.06, 4008.06, 3931.86, 3931.86, 3931.86, 2456.52, 2456.52, 2456.52, 2456.52, 2456.52, 2456.52, 2456.52, 2456.52, 2456.52, 2456.52, 2456.52, 2456.52, 2456.52, 2456.52, 2456.52, 2456.52, 2456.52, 2456.52, 2456.52, 2456.52, 2456.52, 4913.04, 4913.04, 4913.04, 4913.04, 4913.04, 4913.04, 8008.08, 8008.08, 8008.08, 8008.08, 7863.72, 7863.72, 8008.08, 8008.08, 7863.72, 7863.72, 8008.08, 8008.08, 8008.08, 7863.72, 7863.72, 8008.08, 8008.08, 7863.72, 8008.08, 8008.08, 8008.08, 8008.08, 8008.08, 8008.08, 8008.08, 8008.08, 8008.08, 8016.12, 8016.12, 4913.04, 4913.04, 4913.04, 7863.72, 4913.04, 7863.72, 8016.12, 7863.72, 8016.12, 8016.12, 8016.12, 7863.72, 7863.72, 7863.72, 4913.04, 8016.12, 4913.04, 7863.72, 8016.12, 4913.04, 4913.04, 12024.18, 7369.56, 11795.58, 12024.18, 7369.56, 7369.56, 7369.56, 7369.56, 11795.58, 11795.58, 12012.119999999999, 12012.119999999999, 11795.58, 11795.58, 7369.56, 5242.48, 5338.719999999999, 3275.36, 5338.719999999999, 3275.36, 3275.36, 5338.719999999999, 5242.48, 3275.36, 15727.44, 16016.16, 16032.24, 16032.24, 19659.3, 10010.099999999999, 8519.029999999999, 9342.759999999998, 9174.34, 10484.96, 5322.46, 7778.9800000000005, 2865.94, 4587.17, 1176.0, 1176.0, 588.0, 1176.0, 1176.0, 1176.0, 588.0, 588.0, 588.0, 588.0, 1176.0, 588.0, 588.0, 1176.0, 588.0, 588.0, 1176.0, 1176.0, 2352.0, 7056.000000000001, 1411.1999999999998, 1411.1999999999998, 2352.0, 2352.0, 1176.0, 1176.0, 1176.0, 3528.0000000000005, 1176.0, 1176.0, 588.0, 588.0, 588.0, 1411.1999999999998, 5644.799999999999, 2822.3999999999996, 2352.0, 588.0, 588.0, 588.0, 78.4, 588.0, 2352.0, 3528.0000000000005, 235.2, 2097.2000000000003, 1176.0, 1176.0, 1176.0, 1176.0, 1176.0, 1176.0, 1176.0, 5572.8, 2836.02, 3867.3, 743.0400000000001, 7673.260000000001, 4382.94, 3548.6400000000003, 3093.84, 4276.320000000001, 4382.94, 2836.02, 3867.3, 2836.02, 7339.64, 5004.3, 8250.24, 3867.3, 4670.679999999999, 4140.080000000001, 5701.760000000001, 5337.920000000001, 4731.5199999999995, 5701.760000000001, 5701.760000000001, 5337.920000000001, 5337.920000000001, 2578.2000000000003, 2578.2000000000003, 2600.64, 2070.0400000000004, 2494.52, 2335.3399999999997, 2070.0400000000004, 2661.48, 2661.48, 2661.48, 2661.48, 2320.3800000000006, 2320.3800000000006, 13620.96, 14697.92, 14339.52, 11350.8, 11350.8, 11703.51, 10031.58, 8641.27, 8799.880000000001, 7245.03, 7378.02, 7040.5199999999995, 5511.72, 6810.48, 6687.72, 5511.72, 5052.41, 5052.41, 5145.139999999999, 8962.2, 7624.65, 7016.099999999999, 7348.96, 8916.96, 8916.96, 8132.96, 8132.96, 9879.04, 4593.1, 6063.1, 4593.1, 4593.1, 5573.1, 5675.4, 4593.1, 7945.559999999999, 6430.34, 7116.34, 7802.34, 7802.34, 7802.34, 6548.36, 6548.36, 4106.97, 3558.17, 3274.18, 3901.17, 4209.66, 4209.66, 4133.79, 4209.66, 4133.79, 4133.79, 4574.79, 4658.76, 4658.76, 4574.79, 13742.04, 7378.02, 11918.34, 8419.32, 6729.32, 13144.560000000001, 9354.8, 10290.279999999999, 5612.879999999999, 7169.76, 6810.48, 7409.280000000001, 5612.879999999999, 6810.48, 7016.099999999999, 6791.84, 6242.9400000000005, 4677.4, 4677.4, 8364.719999999998, 7246.96, 4209.66, 4658.76, 4658.76, 3623.48, 3623.48, 4213.89, 4133.79, 2320.3800000000006, 4133.79, 4133.79, 2320.3800000000006, 2320.3800000000006, 2320.3800000000006, 2320.3800000000006, 2661.48, 4574.79, 4574.79, 2661.48, 4663.4400000000005, 4574.79, 2661.48, 2661.48, 4663.4400000000005, 4663.4400000000005, 4670.679999999999, 8213.94, 8213.94, 7802.34, 8916.96, 8290.56, 8132.96, 9089.76, 8916.96, 8916.96, 8132.96, 8290.56, 5337.920000000001, 4125.12, 4125.12, 5337.920000000001, 6798.659999999999, 6798.659999999999, 5150.31, 5052.41, 4086.7200000000007, 6249.21, 4086.7200000000007, 4086.7200000000007, 5150.31, 5052.41, 3867.3, 7023.15, 6889.65, 7023.15, 8521.65, 4435.8, 6889.65, 8521.65, 5618.5199999999995, 7040.5199999999995, 3093.84, 3093.84, 4003.4399999999996, 6086.7300000000005, 7775.04, 7245.03, 6315.840000000001, 6315.840000000001, 7959.57, 7959.57, 12907.619999999999, 10104.82, 8267.58, 5156.400000000001, 6210.12, 8552.640000000001, 11023.44, 15907.079999999998, 14770.859999999999, 12954.0, 11482.75, 8871.6, 2494.52, 2494.52, 3976.7699999999995, 3976.7699999999995, 3901.17, 3976.7699999999995, 3976.7699999999995, 2070.0400000000004, 3976.7699999999995, 2335.3399999999997, 6180.6, 2578.2000000000003, 4682.1, 4593.1, 4682.1, 6180.6, 4682.1, 3715.2000000000003, 2578.2000000000003, 2578.2000000000003, 6180.6, 4593.1, 2578.2000000000003, 4682.1, 4682.1, 1870.9599999999998, 1870.9599999999998, 1870.9599999999998, 1031.28, 1031.28, 1837.24, 1031.28, 1872.8400000000001, 1870.9599999999998, 1031.28, 1870.9599999999998, 1837.24, 1031.28, 1837.24, 1837.24, 1031.28, 1870.9599999999998, 1031.28, 1031.28, 1870.9599999999998, 1872.8400000000001, 1031.28, 1031.28, 1837.24, 1870.9599999999998, 1870.9599999999998, 1872.8400000000001, 1872.8400000000001, 1031.28, 1837.24, 1870.9599999999998, 1837.24, 2850.8800000000006, 2850.8800000000006, 2850.8800000000006, 2850.8800000000006, 2668.9600000000005, 2668.9600000000005, 2668.9600000000005, 2365.7599999999998, 2062.56, 2668.9600000000005, 2668.9600000000005, 2668.9600000000005, 2668.9600000000005, 2062.56, 2062.56, 2062.56, 4540.32, 3741.9199999999996, 3741.9199999999996, 3741.9199999999996, 3741.9199999999996, 4540.32, 4141.119999999999, 4540.32, 4540.32, 4458.48, 4458.48, 4540.32, 3674.48, 4141.119999999999, 4693.68, 4458.48, 4540.32, 4540.32, 4458.48, 4544.88, 3745.6800000000003, 3674.48, 4544.88, 4544.88, 4458.48, 4544.88, 4066.48, 4458.48, 3674.48, 4693.68, 4784.64, 4693.68, 4693.68, 4693.68, 4693.68, 3674.48, 2668.9600000000005, 2668.9600000000005, 2668.9600000000005, 2668.9600000000005, 2062.56, 2850.8800000000006, 2850.8800000000006, 2668.9600000000005, 2365.7599999999998, 2365.7599999999998, 1857.6000000000001, 1857.6000000000001, 1857.6000000000001, 1289.1000000000001, 1289.1000000000001, 1289.1000000000001, 1289.1000000000001, 1289.1000000000001, 1668.1000000000001, 1668.1000000000001, 1289.1000000000001, 3031.55, 2296.55, 3031.55, 2840.55, 2840.55, 2786.55, 2296.55, 3031.55, 2341.05, 3031.55, 3031.55, 2296.55, 2341.05, 2341.05, 3087.2, 3087.2, 3087.2, 2837.7, 2338.7, 2338.7, 2338.7, 2338.7, 2338.7, 2338.7, 2338.7, 3031.55, 3031.55, 3087.2, 3087.2, 2296.55, 2338.7, 2296.55, 2296.55, 2837.7, 2338.7, 3087.2, 2338.7, 2296.55, 3031.55, 2296.55, 3087.2, 2296.55, 2338.7, 1857.6000000000001, 1289.1000000000001, 1857.6000000000001, 1289.1000000000001, 1668.1000000000001, 1668.1000000000001, 1857.6000000000001, 1289.1000000000001, 1289.1000000000001, 1857.6000000000001, 1289.1000000000001, 561.7439999999999, 561.7439999999999, 1685.232, 1123.4879999999998, 144.337, 561.7439999999999, 421.308, 561.7439999999999, 452.712, 1358.136, 530.634, 530.634, 1061.268, 452.712, 1061.268, 278.592, 1061.268, 452.712, 278.592, 452.712, 452.712, 557.184, 530.634, 278.592, 557.184, 557.184, 1061.268, 557.184, 2122.536, 626.8319999999999, 1209.8015999999998, 2419.6031999999996, 1901.0159999999996, 1253.6639999999998, 626.8319999999999, 626.8319999999999, 3370.464, 2246.9759999999997, 2246.9759999999997, 1123.4879999999998, 1123.4879999999998, 1123.4879999999998, 1114.368, 1114.368, 1061.268, 557.184, 905.424, 1061.268, 1061.268, 557.184, 2716.272, 3404.0460000000003, 214.74800000000005, 557.184, 557.184, 766.1279999999999, 127.68800000000005, 421.308, 421.308, 842.616, 842.616, 421.308, 278.592, 835.7759999999998, 557.184, 557.184, 557.184, 1114.368, 1114.368, 557.184, 1209.8015999999998, 2419.6031999999996, 561.7439999999999, 561.7439999999999, 561.7439999999999, 1123.4879999999998, 561.7439999999999, 561.7439999999999, 905.424, 905.424, 452.712, 905.424, 950.5079999999998, 950.5079999999998, 1123.4879999999998, 2246.9759999999997, 1123.4879999999998, 1123.4879999999998, 2246.9759999999997, 1123.4879999999998, 905.424, 905.424, 1810.848, 905.424, 905.424, 561.7439999999999, 561.7439999999999, 561.7439999999999, 561.7439999999999, 561.7439999999999, 1123.4879999999998, 1061.268, 530.634, 530.634, 530.634, 530.634, 530.634, 2122.536, 626.8319999999999, 1253.6639999999998, 1253.6639999999998, 2246.9759999999997, 1123.4879999999998, 1123.4879999999998, 1123.4879999999998, 1061.268, 1061.268, 2122.536, 5306.34, 2229.1200000000003, 2001.7199999999998, 1774.3200000000002, 1546.92, 1546.92, 2229.1200000000003, 2229.1200000000003, 1546.92, 1546.92, 1546.92, 2138.1600000000003, 2138.1600000000003, 1546.92, 2001.7199999999998, 1546.92, 1774.3200000000002, 1546.92, 3343.86, 2755.86, 2755.86, 2755.86, 2806.4399999999996, 3704.6400000000003, 3704.6400000000003, 3637.86, 3637.86, 3704.6400000000003, 3343.86, 3405.24, 2806.4399999999996, 2755.86, 2806.4399999999996, 2755.86, 2806.4399999999996, 2755.86, 2755.86, 3105.84, 3105.84, 3049.86, 3049.86, 2755.86, 2755.86, 2806.4399999999996, 2755.86, 2755.86, 3520.2599999999998, 3520.2599999999998, 3520.2599999999998, 2755.86, 2755.86, 2755.86, 3584.88, 2755.86, 2755.86, 2806.4399999999996, 3405.24, 3704.6400000000003, 3704.6400000000003, 3584.88, 3405.24, 2806.4399999999996, 2229.1200000000003, 2001.7199999999998, 2001.7199999999998, 2001.7199999999998, 1546.92, 1546.92, 2229.1200000000003, 2001.7199999999998, 1546.92, 1546.92, 1546.92, 1774.3200000000002, 1546.92, 1546.92, 1546.92, 2138.1600000000003, 2138.1600000000003, 1546.92, 2138.1600000000003, 3708.36, 3708.36, 3637.86, 3637.86, 3637.86, 3408.6600000000003, 3343.86, 3343.86, 3408.6600000000003, 2755.86, 3408.6600000000003, 3408.6600000000003, 3049.86, 3108.9599999999996, 3049.86, 2755.86, 3408.6600000000003, 3343.86, 3588.48, 2755.86, 2755.86, 2809.2599999999998, 2755.86], \"xaxis\": \"x\", \"yaxis\": \"y\"}],\n",
              "                        {\"barmode\": \"relative\", \"legend\": {\"tracegroupgap\": 0}, \"margin\": {\"t\": 60}, \"template\": {\"data\": {\"bar\": [{\"error_x\": {\"color\": \"#2a3f5f\"}, \"error_y\": {\"color\": \"#2a3f5f\"}, \"marker\": {\"line\": {\"color\": \"#E5ECF6\", \"width\": 0.5}}, \"type\": \"bar\"}], \"barpolar\": [{\"marker\": {\"line\": {\"color\": \"#E5ECF6\", \"width\": 0.5}}, \"type\": \"barpolar\"}], \"carpet\": [{\"aaxis\": {\"endlinecolor\": \"#2a3f5f\", \"gridcolor\": \"white\", \"linecolor\": \"white\", \"minorgridcolor\": \"white\", \"startlinecolor\": \"#2a3f5f\"}, \"baxis\": {\"endlinecolor\": \"#2a3f5f\", \"gridcolor\": \"white\", \"linecolor\": \"white\", \"minorgridcolor\": \"white\", \"startlinecolor\": \"#2a3f5f\"}, \"type\": \"carpet\"}], \"choropleth\": [{\"colorbar\": {\"outlinewidth\": 0, \"ticks\": \"\"}, \"type\": \"choropleth\"}], \"contour\": [{\"colorbar\": {\"outlinewidth\": 0, \"ticks\": \"\"}, \"colorscale\": [[0.0, \"#0d0887\"], [0.1111111111111111, \"#46039f\"], [0.2222222222222222, \"#7201a8\"], [0.3333333333333333, \"#9c179e\"], [0.4444444444444444, \"#bd3786\"], [0.5555555555555556, \"#d8576b\"], [0.6666666666666666, \"#ed7953\"], [0.7777777777777778, \"#fb9f3a\"], [0.8888888888888888, \"#fdca26\"], [1.0, \"#f0f921\"]], \"type\": \"contour\"}], \"contourcarpet\": [{\"colorbar\": {\"outlinewidth\": 0, \"ticks\": \"\"}, \"type\": \"contourcarpet\"}], \"heatmap\": [{\"colorbar\": {\"outlinewidth\": 0, \"ticks\": \"\"}, \"colorscale\": [[0.0, \"#0d0887\"], [0.1111111111111111, \"#46039f\"], [0.2222222222222222, \"#7201a8\"], [0.3333333333333333, \"#9c179e\"], [0.4444444444444444, \"#bd3786\"], [0.5555555555555556, \"#d8576b\"], [0.6666666666666666, \"#ed7953\"], [0.7777777777777778, \"#fb9f3a\"], [0.8888888888888888, \"#fdca26\"], [1.0, \"#f0f921\"]], \"type\": \"heatmap\"}], \"heatmapgl\": [{\"colorbar\": {\"outlinewidth\": 0, \"ticks\": \"\"}, \"colorscale\": [[0.0, \"#0d0887\"], [0.1111111111111111, \"#46039f\"], [0.2222222222222222, \"#7201a8\"], [0.3333333333333333, \"#9c179e\"], [0.4444444444444444, \"#bd3786\"], [0.5555555555555556, \"#d8576b\"], [0.6666666666666666, \"#ed7953\"], [0.7777777777777778, \"#fb9f3a\"], [0.8888888888888888, \"#fdca26\"], [1.0, \"#f0f921\"]], \"type\": \"heatmapgl\"}], \"histogram\": [{\"marker\": {\"colorbar\": {\"outlinewidth\": 0, \"ticks\": \"\"}}, \"type\": \"histogram\"}], \"histogram2d\": [{\"colorbar\": {\"outlinewidth\": 0, \"ticks\": \"\"}, \"colorscale\": [[0.0, \"#0d0887\"], [0.1111111111111111, \"#46039f\"], [0.2222222222222222, \"#7201a8\"], [0.3333333333333333, \"#9c179e\"], [0.4444444444444444, \"#bd3786\"], [0.5555555555555556, \"#d8576b\"], [0.6666666666666666, \"#ed7953\"], [0.7777777777777778, \"#fb9f3a\"], [0.8888888888888888, \"#fdca26\"], [1.0, \"#f0f921\"]], \"type\": \"histogram2d\"}], \"histogram2dcontour\": [{\"colorbar\": {\"outlinewidth\": 0, \"ticks\": \"\"}, \"colorscale\": [[0.0, \"#0d0887\"], [0.1111111111111111, \"#46039f\"], [0.2222222222222222, \"#7201a8\"], [0.3333333333333333, \"#9c179e\"], [0.4444444444444444, \"#bd3786\"], [0.5555555555555556, \"#d8576b\"], [0.6666666666666666, \"#ed7953\"], [0.7777777777777778, \"#fb9f3a\"], [0.8888888888888888, \"#fdca26\"], [1.0, \"#f0f921\"]], \"type\": \"histogram2dcontour\"}], \"mesh3d\": [{\"colorbar\": {\"outlinewidth\": 0, \"ticks\": \"\"}, \"type\": \"mesh3d\"}], \"parcoords\": [{\"line\": {\"colorbar\": {\"outlinewidth\": 0, \"ticks\": \"\"}}, \"type\": \"parcoords\"}], \"pie\": [{\"automargin\": true, \"type\": \"pie\"}], \"scatter\": [{\"marker\": {\"colorbar\": {\"outlinewidth\": 0, \"ticks\": \"\"}}, \"type\": \"scatter\"}], \"scatter3d\": [{\"line\": {\"colorbar\": {\"outlinewidth\": 0, \"ticks\": \"\"}}, \"marker\": {\"colorbar\": {\"outlinewidth\": 0, \"ticks\": \"\"}}, \"type\": \"scatter3d\"}], \"scattercarpet\": [{\"marker\": {\"colorbar\": {\"outlinewidth\": 0, \"ticks\": \"\"}}, \"type\": \"scattercarpet\"}], \"scattergeo\": [{\"marker\": {\"colorbar\": {\"outlinewidth\": 0, \"ticks\": \"\"}}, \"type\": \"scattergeo\"}], \"scattergl\": [{\"marker\": {\"colorbar\": {\"outlinewidth\": 0, \"ticks\": \"\"}}, \"type\": \"scattergl\"}], \"scattermapbox\": [{\"marker\": {\"colorbar\": {\"outlinewidth\": 0, \"ticks\": \"\"}}, \"type\": \"scattermapbox\"}], \"scatterpolar\": [{\"marker\": {\"colorbar\": {\"outlinewidth\": 0, \"ticks\": \"\"}}, \"type\": \"scatterpolar\"}], \"scatterpolargl\": [{\"marker\": {\"colorbar\": {\"outlinewidth\": 0, \"ticks\": \"\"}}, \"type\": \"scatterpolargl\"}], \"scatterternary\": [{\"marker\": {\"colorbar\": {\"outlinewidth\": 0, \"ticks\": \"\"}}, \"type\": \"scatterternary\"}], \"surface\": [{\"colorbar\": {\"outlinewidth\": 0, \"ticks\": \"\"}, \"colorscale\": [[0.0, \"#0d0887\"], [0.1111111111111111, \"#46039f\"], [0.2222222222222222, \"#7201a8\"], [0.3333333333333333, \"#9c179e\"], [0.4444444444444444, \"#bd3786\"], [0.5555555555555556, \"#d8576b\"], [0.6666666666666666, \"#ed7953\"], [0.7777777777777778, \"#fb9f3a\"], [0.8888888888888888, \"#fdca26\"], [1.0, \"#f0f921\"]], \"type\": \"surface\"}], \"table\": [{\"cells\": {\"fill\": {\"color\": \"#EBF0F8\"}, \"line\": {\"color\": \"white\"}}, \"header\": {\"fill\": {\"color\": \"#C8D4E3\"}, \"line\": {\"color\": \"white\"}}, \"type\": \"table\"}]}, \"layout\": {\"annotationdefaults\": {\"arrowcolor\": \"#2a3f5f\", \"arrowhead\": 0, \"arrowwidth\": 1}, \"coloraxis\": {\"colorbar\": {\"outlinewidth\": 0, \"ticks\": \"\"}}, \"colorscale\": {\"diverging\": [[0, \"#8e0152\"], [0.1, \"#c51b7d\"], [0.2, \"#de77ae\"], [0.3, \"#f1b6da\"], [0.4, \"#fde0ef\"], [0.5, \"#f7f7f7\"], [0.6, \"#e6f5d0\"], [0.7, \"#b8e186\"], [0.8, \"#7fbc41\"], [0.9, \"#4d9221\"], [1, \"#276419\"]], \"sequential\": [[0.0, \"#0d0887\"], [0.1111111111111111, \"#46039f\"], [0.2222222222222222, \"#7201a8\"], [0.3333333333333333, \"#9c179e\"], [0.4444444444444444, \"#bd3786\"], [0.5555555555555556, \"#d8576b\"], [0.6666666666666666, \"#ed7953\"], [0.7777777777777778, \"#fb9f3a\"], [0.8888888888888888, \"#fdca26\"], [1.0, \"#f0f921\"]], \"sequentialminus\": [[0.0, \"#0d0887\"], [0.1111111111111111, \"#46039f\"], [0.2222222222222222, \"#7201a8\"], [0.3333333333333333, \"#9c179e\"], [0.4444444444444444, \"#bd3786\"], [0.5555555555555556, \"#d8576b\"], [0.6666666666666666, \"#ed7953\"], [0.7777777777777778, \"#fb9f3a\"], [0.8888888888888888, \"#fdca26\"], [1.0, \"#f0f921\"]]}, \"colorway\": [\"#636efa\", \"#EF553B\", \"#00cc96\", \"#ab63fa\", \"#FFA15A\", \"#19d3f3\", \"#FF6692\", \"#B6E880\", \"#FF97FF\", \"#FECB52\"], \"font\": {\"color\": \"#2a3f5f\"}, \"geo\": {\"bgcolor\": \"white\", \"lakecolor\": \"white\", \"landcolor\": \"#E5ECF6\", \"showlakes\": true, \"showland\": true, \"subunitcolor\": \"white\"}, \"hoverlabel\": {\"align\": \"left\"}, \"hovermode\": \"closest\", \"mapbox\": {\"style\": \"light\"}, \"paper_bgcolor\": \"white\", \"plot_bgcolor\": \"#E5ECF6\", \"polar\": {\"angularaxis\": {\"gridcolor\": \"white\", \"linecolor\": \"white\", \"ticks\": \"\"}, \"bgcolor\": \"#E5ECF6\", \"radialaxis\": {\"gridcolor\": \"white\", \"linecolor\": \"white\", \"ticks\": \"\"}}, \"scene\": {\"xaxis\": {\"backgroundcolor\": \"#E5ECF6\", \"gridcolor\": \"white\", \"gridwidth\": 2, \"linecolor\": \"white\", \"showbackground\": true, \"ticks\": \"\", \"zerolinecolor\": \"white\"}, \"yaxis\": {\"backgroundcolor\": \"#E5ECF6\", \"gridcolor\": \"white\", \"gridwidth\": 2, \"linecolor\": \"white\", \"showbackground\": true, \"ticks\": \"\", \"zerolinecolor\": \"white\"}, \"zaxis\": {\"backgroundcolor\": \"#E5ECF6\", \"gridcolor\": \"white\", \"gridwidth\": 2, \"linecolor\": \"white\", \"showbackground\": true, \"ticks\": \"\", \"zerolinecolor\": \"white\"}}, \"shapedefaults\": {\"line\": {\"color\": \"#2a3f5f\"}}, \"ternary\": {\"aaxis\": {\"gridcolor\": \"white\", \"linecolor\": \"white\", \"ticks\": \"\"}, \"baxis\": {\"gridcolor\": \"white\", \"linecolor\": \"white\", \"ticks\": \"\"}, \"bgcolor\": \"#E5ECF6\", \"caxis\": {\"gridcolor\": \"white\", \"linecolor\": \"white\", \"ticks\": \"\"}}, \"title\": {\"x\": 0.05}, \"xaxis\": {\"automargin\": true, \"gridcolor\": \"white\", \"linecolor\": \"white\", \"ticks\": \"\", \"title\": {\"standoff\": 15}, \"zerolinecolor\": \"white\", \"zerolinewidth\": 2}, \"yaxis\": {\"automargin\": true, \"gridcolor\": \"white\", \"linecolor\": \"white\", \"ticks\": \"\", \"title\": {\"standoff\": 15}, \"zerolinecolor\": \"white\", \"zerolinewidth\": 2}}}, \"xaxis\": {\"anchor\": \"y\", \"domain\": [0.0, 1.0], \"title\": {\"text\": \"x\"}}, \"yaxis\": {\"anchor\": \"x\", \"domain\": [0.0, 1.0], \"title\": {\"text\": \"count\"}}},\n",
              "                        {\"responsive\": true}\n",
              "                    ).then(function(){\n",
              "                            \n",
              "var gd = document.getElementById('5b464e05-0937-4456-895c-5ede0c0292ca');\n",
              "var x = new MutationObserver(function (mutations, observer) {{\n",
              "        var display = window.getComputedStyle(gd).display;\n",
              "        if (!display || display === 'none') {{\n",
              "            console.log([gd, 'removed!']);\n",
              "            Plotly.purge(gd);\n",
              "            observer.disconnect();\n",
              "        }}\n",
              "}});\n",
              "\n",
              "// Listen for the removal of the full notebook cells\n",
              "var notebookContainer = gd.closest('#notebook-container');\n",
              "if (notebookContainer) {{\n",
              "    x.observe(notebookContainer, {childList: true});\n",
              "}}\n",
              "\n",
              "// Listen for the clearing of the current output cell\n",
              "var outputEl = gd.closest('.output');\n",
              "if (outputEl) {{\n",
              "    x.observe(outputEl, {childList: true});\n",
              "}}\n",
              "\n",
              "                        })\n",
              "                };\n",
              "                \n",
              "            </script>\n",
              "        </div>\n",
              "</body>\n",
              "</html>"
            ]
          },
          "metadata": {
            "tags": []
          }
        }
      ]
    },
    {
      "cell_type": "code",
      "metadata": {
        "colab": {
          "base_uri": "https://localhost:8080/",
          "height": 542
        },
        "id": "yd87CpiqulXn",
        "outputId": "44ae6e59-bd6c-4af1-ec02-a0bd189f343a"
      },
      "source": [
        "plot = px.scatter_matrix(df, dimensions= ['custo', 'lucro'], color = 'ID Produto')\n",
        "plot.show()"
      ],
      "execution_count": 174,
      "outputs": [
        {
          "output_type": "display_data",
          "data": {
            "text/html": [
              "<html>\n",
              "<head><meta charset=\"utf-8\" /></head>\n",
              "<body>\n",
              "    <div>\n",
              "            <script src=\"https://cdnjs.cloudflare.com/ajax/libs/mathjax/2.7.5/MathJax.js?config=TeX-AMS-MML_SVG\"></script><script type=\"text/javascript\">if (window.MathJax) {MathJax.Hub.Config({SVG: {font: \"STIX-Web\"}});}</script>\n",
              "                <script type=\"text/javascript\">window.PlotlyConfig = {MathJaxConfig: 'local'};</script>\n",
              "        <script src=\"https://cdn.plot.ly/plotly-latest.min.js\"></script>    \n",
              "            <div id=\"209e53ae-c1a0-48f3-a38f-37d788d962fe\" class=\"plotly-graph-div\" style=\"height:525px; width:100%;\"></div>\n",
              "            <script type=\"text/javascript\">\n",
              "                \n",
              "                    window.PLOTLYENV=window.PLOTLYENV || {};\n",
              "                    \n",
              "                if (document.getElementById(\"209e53ae-c1a0-48f3-a38f-37d788d962fe\")) {\n",
              "                    Plotly.newPlot(\n",
              "                        '209e53ae-c1a0-48f3-a38f-37d788d962fe',\n",
              "                        [{\"dimensions\": [{\"axis\": {\"matches\": true}, \"label\": \"custo\", \"values\": [2091.48, 2091.48, 2091.48, 2091.48, 2091.48, 2091.48, 2091.48, 2091.48, 2091.48, 2091.48, 2091.48, 2091.48, 2091.48, 2091.48, 2091.48, 2091.48, 2091.48, 2091.48, 2091.48, 1983.96, 1983.96, 1983.96, 1983.96, 1983.96, 1983.96, 1983.96, 1983.96, 1983.96, 1983.96, 1983.96, 1983.96, 1983.96, 1983.96, 1983.96, 1983.96, 1983.96, 1983.96, 1983.96, 1983.96, 1983.96, 1983.96, 1983.96, 1983.96, 1948.1399999999999, 1983.96, 1948.1399999999999, 1983.96, 1948.1399999999999, 1948.1399999999999, 1983.96, 1983.96, 1948.1399999999999, 1983.96, 1948.1399999999999, 1983.96, 1983.96, 1983.96, 1983.96, 1983.96, 1948.1399999999999, 1983.96, 1983.96, 1948.1399999999999, 1983.96, 1948.1399999999999, 1983.96, 1948.1399999999999, 1948.1399999999999, 1983.96, 1948.1399999999999, 1983.96, 1948.1399999999999, 1983.96, 1983.96, 1948.1399999999999, 1983.96, 1983.96, 1948.1399999999999, 1948.1399999999999, 1948.1399999999999, 1983.96, 1948.1399999999999, 1983.96, 1948.1399999999999, 1948.1399999999999, 1983.96, 1948.1399999999999, 1948.1399999999999, 1948.1399999999999, 1948.1399999999999, 1948.1399999999999, 1948.1399999999999, 1948.1399999999999, 1985.94, 1985.94, 1985.94, 1948.1399999999999, 1948.1399999999999, 1985.94, 1985.94, 1985.94, 1948.1399999999999, 1985.94, 1948.1399999999999, 1948.1399999999999, 1985.94, 1948.1399999999999, 1948.1399999999999, 1948.1399999999999, 1948.1399999999999, 1948.1399999999999, 1948.1399999999999, 1948.1399999999999, 1948.1399999999999, 1985.94, 1948.1399999999999, 1985.94, 1948.1399999999999, 1948.1399999999999, 1948.1399999999999, 1948.1399999999999, 1985.94, 1985.94, 1985.94, 1948.1399999999999, 1948.1399999999999, 1985.94, 1985.94, 1948.1399999999999, 1948.1399999999999, 1948.1399999999999, 2091.48, 2091.48, 2091.48, 2091.48, 2091.48, 2091.48, 2091.48, 2091.48, 2091.48, 2091.48, 2091.48, 2091.48, 2091.48, 2091.48, 2091.48, 2091.48, 2091.48, 2091.48, 2091.48, 2091.48, 2091.48, 4182.96, 4182.96, 4182.96, 4182.96, 4182.96, 4182.96, 3967.92, 3967.92, 3967.92, 3967.92, 3896.2799999999997, 3896.2799999999997, 3967.92, 3967.92, 3896.2799999999997, 3896.2799999999997, 3967.92, 3967.92, 3967.92, 3896.2799999999997, 3896.2799999999997, 3967.92, 3967.92, 3896.2799999999997, 3967.92, 3967.92, 3967.92, 3967.92, 3967.92, 3967.92, 3967.92, 3967.92, 3967.92, 3971.88, 3971.88, 4182.96, 4182.96, 4182.96, 3896.2799999999997, 4182.96, 3896.2799999999997, 3971.88, 3896.2799999999997, 3971.88, 3971.88, 3971.88, 3896.2799999999997, 3896.2799999999997, 3896.2799999999997, 4182.96, 3971.88, 4182.96, 3896.2799999999997, 3971.88, 4182.96, 4182.96, 5957.82, 6274.44, 5844.42, 5957.82, 6274.44, 6274.44, 6274.44, 6274.44, 5844.42, 5844.42, 5951.88, 5951.88, 5844.42, 5844.42, 6274.44, 2597.52, 2645.28, 2788.64, 2645.28, 2788.64, 2788.64, 2645.28, 2597.52, 2788.64, 7792.5599999999995, 7935.84, 7943.76, 7943.76, 9740.7, 4959.900000000001, 4220.97, 4629.240000000001, 4545.66, 5195.04, 4531.54, 6623.0199999999995, 2440.06, 2272.83, 1221.6, 1221.6, 610.8, 1221.6, 1221.6, 1221.6, 610.8, 610.8, 610.8, 610.8, 1221.6, 610.8, 610.8, 1221.6, 610.8, 610.8, 1221.6, 1221.6, 2443.2, 7329.599999999999, 1465.92, 1465.92, 2443.2, 2443.2, 1221.6, 1221.6, 1221.6, 3664.7999999999997, 1221.6, 1221.6, 610.8, 610.8, 610.8, 1465.92, 5863.68, 2931.84, 2443.2, 610.8, 610.8, 610.8, 81.44, 610.8, 2443.2, 3664.7999999999997, 244.32, 2178.52, 1221.6, 1221.6, 1221.6, 1221.6, 1221.6, 1221.6, 1221.6, 5228.7, 3834.3799999999997, 5228.7, 697.16, 8017.339999999999, 5925.86, 4182.96, 4182.96, 4182.96, 5925.86, 3834.3799999999997, 5228.7, 3834.3799999999997, 7668.759999999999, 5228.7, 11154.56, 5228.7, 4880.12, 4880.12, 5577.28, 5577.28, 5577.28, 5577.28, 5577.28, 5577.28, 5577.28, 3485.7999999999997, 3485.7999999999997, 2440.06, 2440.06, 2440.06, 2440.06, 2440.06, 3137.22, 3137.22, 3137.22, 3137.22, 3137.22, 3137.22, 7935.84, 10390.08, 7935.84, 6613.200000000001, 6613.200000000001, 6818.49, 5844.42, 5519.73, 5621.22, 4220.97, 4298.58, 3896.2799999999997, 3896.2799999999997, 3967.92, 3896.2799999999997, 3896.2799999999997, 3571.59, 3571.59, 3637.26, 4959.900000000001, 4870.35, 4959.900000000001, 5195.04, 5195.04, 5195.04, 5195.04, 5195.04, 5290.56, 3246.9, 3246.9, 3246.9, 3246.9, 3246.9, 3306.6000000000004, 3246.9, 4629.240000000001, 4545.66, 4545.66, 4545.66, 4545.66, 4545.66, 4629.240000000001, 4629.240000000001, 2272.83, 2272.83, 2314.6200000000003, 2272.83, 2975.94, 2975.94, 2922.21, 2975.94, 2922.21, 2922.21, 2922.21, 2975.94, 2975.94, 2922.21, 7605.18, 4298.58, 6943.860000000001, 5951.88, 4298.58, 7274.52, 6613.200000000001, 7274.52, 3967.92, 3967.92, 3967.92, 3967.92, 3967.92, 3967.92, 4959.900000000001, 3637.26, 3637.26, 3306.6000000000004, 3306.6000000000004, 4629.240000000001, 4629.240000000001, 2975.94, 2975.94, 2975.94, 2314.6200000000003, 2314.6200000000003, 2978.91, 2922.21, 3137.22, 2922.21, 2922.21, 3137.22, 3137.22, 3137.22, 3137.22, 3137.22, 2922.21, 2922.21, 3137.22, 2978.91, 2922.21, 3137.22, 3137.22, 2978.91, 2978.91, 4880.12, 4545.66, 4545.66, 4545.66, 5195.04, 5295.84, 5195.04, 5295.84, 5195.04, 5195.04, 5195.04, 5295.84, 5577.28, 5577.28, 5577.28, 5577.28, 3640.8900000000003, 3640.8900000000003, 3640.8900000000003, 3571.59, 3834.3799999999997, 3640.8900000000003, 3834.3799999999997, 3834.3799999999997, 3640.8900000000003, 3571.59, 5228.7, 4964.85, 4870.35, 4964.85, 4964.85, 5228.7, 4870.35, 4964.85, 3971.88, 3896.2799999999997, 4182.96, 4182.96, 4182.96, 4302.87, 4302.87, 4220.97, 5925.86, 5925.86, 5626.83, 5626.83, 7143.18, 7143.18, 5844.42, 6971.599999999999, 7320.179999999999, 8365.92, 7792.5599999999995, 9267.720000000001, 8605.74, 8274.75, 8117.25, 10457.4, 2440.06, 2440.06, 2316.9300000000003, 2316.9300000000003, 2272.83, 2316.9300000000003, 2316.9300000000003, 2440.06, 2316.9300000000003, 2440.06, 3309.9, 3485.7999999999997, 3309.9, 3246.9, 3309.9, 3309.9, 3309.9, 3485.7999999999997, 3485.7999999999997, 3485.7999999999997, 3309.9, 3246.9, 3485.7999999999997, 3309.9, 3309.9, 1322.64, 1322.64, 1322.64, 1394.32, 1394.32, 1298.76, 1394.32, 1323.96, 1322.64, 1394.32, 1322.64, 1298.76, 1394.32, 1298.76, 1298.76, 1394.32, 1322.64, 1394.32, 1394.32, 1322.64, 1323.96, 1394.32, 1394.32, 1298.76, 1322.64, 1322.64, 1323.96, 1323.96, 1394.32, 1298.76, 1322.64, 1298.76, 2788.64, 2788.64, 2788.64, 2788.64, 2788.64, 2788.64, 2788.64, 2788.64, 2788.64, 2788.64, 2788.64, 2788.64, 2788.64, 2788.64, 2788.64, 2788.64, 2645.28, 2645.28, 2645.28, 2645.28, 2645.28, 2645.28, 2645.28, 2645.28, 2645.28, 2597.52, 2597.52, 2645.28, 2597.52, 2645.28, 2597.52, 2597.52, 2645.28, 2645.28, 2597.52, 2647.92, 2647.92, 2597.52, 2647.92, 2647.92, 2597.52, 2647.92, 2597.52, 2597.52, 2597.52, 2597.52, 2647.92, 2597.52, 2597.52, 2597.52, 2597.52, 2597.52, 2788.64, 2788.64, 2788.64, 2788.64, 2788.64, 2788.64, 2788.64, 2788.64, 2788.64, 2788.64, 1742.8999999999999, 1742.8999999999999, 1742.8999999999999, 1742.8999999999999, 1742.8999999999999, 1742.8999999999999, 1742.8999999999999, 1742.8999999999999, 1742.8999999999999, 1742.8999999999999, 1742.8999999999999, 1623.45, 1623.45, 1623.45, 1654.95, 1654.95, 1623.45, 1623.45, 1623.45, 1654.95, 1623.45, 1623.45, 1623.45, 1654.95, 1654.95, 1653.3000000000002, 1653.3000000000002, 1653.3000000000002, 1653.3000000000002, 1653.3000000000002, 1653.3000000000002, 1653.3000000000002, 1653.3000000000002, 1653.3000000000002, 1653.3000000000002, 1653.3000000000002, 1623.45, 1623.45, 1653.3000000000002, 1653.3000000000002, 1623.45, 1653.3000000000002, 1623.45, 1623.45, 1653.3000000000002, 1653.3000000000002, 1653.3000000000002, 1653.3000000000002, 1623.45, 1623.45, 1623.45, 1653.3000000000002, 1623.45, 1653.3000000000002, 1742.8999999999999, 1742.8999999999999, 1742.8999999999999, 1742.8999999999999, 1742.8999999999999, 1742.8999999999999, 1742.8999999999999, 1742.8999999999999, 1742.8999999999999, 1742.8999999999999, 1742.8999999999999, 732.96, 732.96, 2198.88, 1465.92, 188.32999999999998, 732.96, 549.72, 732.96, 794.04, 2382.12, 794.04, 794.04, 1588.08, 794.04, 1588.08, 488.64, 1588.08, 794.04, 488.64, 794.04, 794.04, 977.28, 794.04, 488.64, 977.28, 977.28, 1588.08, 977.28, 3176.16, 1099.44, 1465.92, 2931.84, 2198.88, 2198.88, 1099.44, 1099.44, 4397.76, 2931.84, 2931.84, 1465.92, 1465.92, 1465.92, 1954.56, 1954.56, 1588.08, 977.28, 1588.08, 1588.08, 1588.08, 977.28, 4764.24, 5970.57, 376.65999999999997, 977.28, 977.28, 1343.76, 223.95999999999998, 549.72, 549.72, 1099.44, 1099.44, 549.72, 488.64, 1465.92, 977.28, 977.28, 977.28, 1954.56, 1954.56, 977.28, 1465.92, 2931.84, 732.96, 732.96, 732.96, 1465.92, 732.96, 732.96, 1588.08, 1588.08, 794.04, 1588.08, 1099.44, 1099.44, 1465.92, 2931.84, 1465.92, 1465.92, 2931.84, 1465.92, 1588.08, 1588.08, 3176.16, 1588.08, 1588.08, 732.96, 732.96, 732.96, 732.96, 732.96, 1465.92, 1588.08, 794.04, 794.04, 794.04, 794.04, 794.04, 3176.16, 1099.44, 2198.88, 2198.88, 2931.84, 1465.92, 1465.92, 1465.92, 1588.08, 1588.08, 3176.16, 7940.4, 2091.48, 2091.48, 2091.48, 2091.48, 2091.48, 2091.48, 2091.48, 2091.48, 2091.48, 2091.48, 2091.48, 2091.48, 2091.48, 2091.48, 2091.48, 2091.48, 2091.48, 1948.1399999999999, 1948.1399999999999, 1948.1399999999999, 1948.1399999999999, 1983.96, 1983.96, 1983.96, 1948.1399999999999, 1948.1399999999999, 1983.96, 1948.1399999999999, 1983.96, 1983.96, 1948.1399999999999, 1983.96, 1948.1399999999999, 1983.96, 1948.1399999999999, 1948.1399999999999, 1983.96, 1983.96, 1948.1399999999999, 1948.1399999999999, 1948.1399999999999, 1948.1399999999999, 1983.96, 1948.1399999999999, 1948.1399999999999, 1948.1399999999999, 1948.1399999999999, 1948.1399999999999, 1948.1399999999999, 1948.1399999999999, 1948.1399999999999, 1983.96, 1948.1399999999999, 1948.1399999999999, 1983.96, 1983.96, 1983.96, 1983.96, 1983.96, 1983.96, 1983.96, 2091.48, 2091.48, 2091.48, 2091.48, 2091.48, 2091.48, 2091.48, 2091.48, 2091.48, 2091.48, 2091.48, 2091.48, 2091.48, 2091.48, 2091.48, 2091.48, 2091.48, 2091.48, 2091.48, 1985.94, 1985.94, 1948.1399999999999, 1948.1399999999999, 1948.1399999999999, 1985.94, 1948.1399999999999, 1948.1399999999999, 1985.94, 1948.1399999999999, 1985.94, 1985.94, 1948.1399999999999, 1985.94, 1948.1399999999999, 1948.1399999999999, 1985.94, 1948.1399999999999, 1985.94, 1948.1399999999999, 1948.1399999999999, 1985.94, 1948.1399999999999]}, {\"axis\": {\"matches\": true}, \"label\": \"lucro\", \"values\": [2456.52, 2456.52, 2456.52, 2456.52, 2456.52, 2456.52, 2456.52, 2456.52, 2456.52, 2456.52, 2456.52, 2456.52, 2456.52, 2456.52, 2456.52, 2456.52, 2456.52, 2456.52, 2456.52, 4004.04, 4004.04, 4004.04, 4004.04, 4004.04, 4004.04, 4004.04, 4004.04, 4004.04, 4004.04, 4004.04, 4004.04, 4004.04, 4004.04, 4004.04, 4004.04, 4004.04, 4004.04, 4004.04, 4004.04, 4004.04, 4004.04, 4004.04, 4004.04, 3931.86, 4004.04, 3931.86, 4004.04, 3931.86, 3931.86, 4004.04, 4004.04, 3931.86, 4004.04, 3931.86, 4004.04, 4004.04, 4004.04, 4004.04, 4004.04, 3931.86, 4004.04, 4004.04, 3931.86, 4004.04, 3931.86, 4004.04, 3931.86, 3931.86, 4004.04, 3931.86, 4004.04, 3931.86, 4004.04, 4004.04, 3931.86, 4004.04, 4004.04, 3931.86, 3931.86, 3931.86, 4004.04, 3931.86, 4004.04, 3931.86, 3931.86, 4004.04, 3931.86, 3931.86, 3931.86, 3931.86, 3931.86, 3931.86, 3931.86, 4008.06, 4008.06, 4008.06, 3931.86, 3931.86, 4008.06, 4008.06, 4008.06, 3931.86, 4008.06, 3931.86, 3931.86, 4008.06, 3931.86, 3931.86, 3931.86, 3931.86, 3931.86, 3931.86, 3931.86, 3931.86, 4008.06, 3931.86, 4008.06, 3931.86, 3931.86, 3931.86, 3931.86, 4008.06, 4008.06, 4008.06, 3931.86, 3931.86, 4008.06, 4008.06, 3931.86, 3931.86, 3931.86, 2456.52, 2456.52, 2456.52, 2456.52, 2456.52, 2456.52, 2456.52, 2456.52, 2456.52, 2456.52, 2456.52, 2456.52, 2456.52, 2456.52, 2456.52, 2456.52, 2456.52, 2456.52, 2456.52, 2456.52, 2456.52, 4913.04, 4913.04, 4913.04, 4913.04, 4913.04, 4913.04, 8008.08, 8008.08, 8008.08, 8008.08, 7863.72, 7863.72, 8008.08, 8008.08, 7863.72, 7863.72, 8008.08, 8008.08, 8008.08, 7863.72, 7863.72, 8008.08, 8008.08, 7863.72, 8008.08, 8008.08, 8008.08, 8008.08, 8008.08, 8008.08, 8008.08, 8008.08, 8008.08, 8016.12, 8016.12, 4913.04, 4913.04, 4913.04, 7863.72, 4913.04, 7863.72, 8016.12, 7863.72, 8016.12, 8016.12, 8016.12, 7863.72, 7863.72, 7863.72, 4913.04, 8016.12, 4913.04, 7863.72, 8016.12, 4913.04, 4913.04, 12024.18, 7369.56, 11795.58, 12024.18, 7369.56, 7369.56, 7369.56, 7369.56, 11795.58, 11795.58, 12012.119999999999, 12012.119999999999, 11795.58, 11795.58, 7369.56, 5242.48, 5338.719999999999, 3275.36, 5338.719999999999, 3275.36, 3275.36, 5338.719999999999, 5242.48, 3275.36, 15727.44, 16016.16, 16032.24, 16032.24, 19659.3, 10010.099999999999, 8519.029999999999, 9342.759999999998, 9174.34, 10484.96, 5322.46, 7778.9800000000005, 2865.94, 4587.17, 1176.0, 1176.0, 588.0, 1176.0, 1176.0, 1176.0, 588.0, 588.0, 588.0, 588.0, 1176.0, 588.0, 588.0, 1176.0, 588.0, 588.0, 1176.0, 1176.0, 2352.0, 7056.000000000001, 1411.1999999999998, 1411.1999999999998, 2352.0, 2352.0, 1176.0, 1176.0, 1176.0, 3528.0000000000005, 1176.0, 1176.0, 588.0, 588.0, 588.0, 1411.1999999999998, 5644.799999999999, 2822.3999999999996, 2352.0, 588.0, 588.0, 588.0, 78.4, 588.0, 2352.0, 3528.0000000000005, 235.2, 2097.2000000000003, 1176.0, 1176.0, 1176.0, 1176.0, 1176.0, 1176.0, 1176.0, 5572.8, 2836.02, 3867.3, 743.0400000000001, 7673.260000000001, 4382.94, 3548.6400000000003, 3093.84, 4276.320000000001, 4382.94, 2836.02, 3867.3, 2836.02, 7339.64, 5004.3, 8250.24, 3867.3, 4670.679999999999, 4140.080000000001, 5701.760000000001, 5337.920000000001, 4731.5199999999995, 5701.760000000001, 5701.760000000001, 5337.920000000001, 5337.920000000001, 2578.2000000000003, 2578.2000000000003, 2600.64, 2070.0400000000004, 2494.52, 2335.3399999999997, 2070.0400000000004, 2661.48, 2661.48, 2661.48, 2661.48, 2320.3800000000006, 2320.3800000000006, 13620.96, 14697.92, 14339.52, 11350.8, 11350.8, 11703.51, 10031.58, 8641.27, 8799.880000000001, 7245.03, 7378.02, 7040.5199999999995, 5511.72, 6810.48, 6687.72, 5511.72, 5052.41, 5052.41, 5145.139999999999, 8962.2, 7624.65, 7016.099999999999, 7348.96, 8916.96, 8916.96, 8132.96, 8132.96, 9879.04, 4593.1, 6063.1, 4593.1, 4593.1, 5573.1, 5675.4, 4593.1, 7945.559999999999, 6430.34, 7116.34, 7802.34, 7802.34, 7802.34, 6548.36, 6548.36, 4106.97, 3558.17, 3274.18, 3901.17, 4209.66, 4209.66, 4133.79, 4209.66, 4133.79, 4133.79, 4574.79, 4658.76, 4658.76, 4574.79, 13742.04, 7378.02, 11918.34, 8419.32, 6729.32, 13144.560000000001, 9354.8, 10290.279999999999, 5612.879999999999, 7169.76, 6810.48, 7409.280000000001, 5612.879999999999, 6810.48, 7016.099999999999, 6791.84, 6242.9400000000005, 4677.4, 4677.4, 8364.719999999998, 7246.96, 4209.66, 4658.76, 4658.76, 3623.48, 3623.48, 4213.89, 4133.79, 2320.3800000000006, 4133.79, 4133.79, 2320.3800000000006, 2320.3800000000006, 2320.3800000000006, 2320.3800000000006, 2661.48, 4574.79, 4574.79, 2661.48, 4663.4400000000005, 4574.79, 2661.48, 2661.48, 4663.4400000000005, 4663.4400000000005, 4670.679999999999, 8213.94, 8213.94, 7802.34, 8916.96, 8290.56, 8132.96, 9089.76, 8916.96, 8916.96, 8132.96, 8290.56, 5337.920000000001, 4125.12, 4125.12, 5337.920000000001, 6798.659999999999, 6798.659999999999, 5150.31, 5052.41, 4086.7200000000007, 6249.21, 4086.7200000000007, 4086.7200000000007, 5150.31, 5052.41, 3867.3, 7023.15, 6889.65, 7023.15, 8521.65, 4435.8, 6889.65, 8521.65, 5618.5199999999995, 7040.5199999999995, 3093.84, 3093.84, 4003.4399999999996, 6086.7300000000005, 7775.04, 7245.03, 6315.840000000001, 6315.840000000001, 7959.57, 7959.57, 12907.619999999999, 10104.82, 8267.58, 5156.400000000001, 6210.12, 8552.640000000001, 11023.44, 15907.079999999998, 14770.859999999999, 12954.0, 11482.75, 8871.6, 2494.52, 2494.52, 3976.7699999999995, 3976.7699999999995, 3901.17, 3976.7699999999995, 3976.7699999999995, 2070.0400000000004, 3976.7699999999995, 2335.3399999999997, 6180.6, 2578.2000000000003, 4682.1, 4593.1, 4682.1, 6180.6, 4682.1, 3715.2000000000003, 2578.2000000000003, 2578.2000000000003, 6180.6, 4593.1, 2578.2000000000003, 4682.1, 4682.1, 1870.9599999999998, 1870.9599999999998, 1870.9599999999998, 1031.28, 1031.28, 1837.24, 1031.28, 1872.8400000000001, 1870.9599999999998, 1031.28, 1870.9599999999998, 1837.24, 1031.28, 1837.24, 1837.24, 1031.28, 1870.9599999999998, 1031.28, 1031.28, 1870.9599999999998, 1872.8400000000001, 1031.28, 1031.28, 1837.24, 1870.9599999999998, 1870.9599999999998, 1872.8400000000001, 1872.8400000000001, 1031.28, 1837.24, 1870.9599999999998, 1837.24, 2850.8800000000006, 2850.8800000000006, 2850.8800000000006, 2850.8800000000006, 2668.9600000000005, 2668.9600000000005, 2668.9600000000005, 2365.7599999999998, 2062.56, 2668.9600000000005, 2668.9600000000005, 2668.9600000000005, 2668.9600000000005, 2062.56, 2062.56, 2062.56, 4540.32, 3741.9199999999996, 3741.9199999999996, 3741.9199999999996, 3741.9199999999996, 4540.32, 4141.119999999999, 4540.32, 4540.32, 4458.48, 4458.48, 4540.32, 3674.48, 4141.119999999999, 4693.68, 4458.48, 4540.32, 4540.32, 4458.48, 4544.88, 3745.6800000000003, 3674.48, 4544.88, 4544.88, 4458.48, 4544.88, 4066.48, 4458.48, 3674.48, 4693.68, 4784.64, 4693.68, 4693.68, 4693.68, 4693.68, 3674.48, 2668.9600000000005, 2668.9600000000005, 2668.9600000000005, 2668.9600000000005, 2062.56, 2850.8800000000006, 2850.8800000000006, 2668.9600000000005, 2365.7599999999998, 2365.7599999999998, 1857.6000000000001, 1857.6000000000001, 1857.6000000000001, 1289.1000000000001, 1289.1000000000001, 1289.1000000000001, 1289.1000000000001, 1289.1000000000001, 1668.1000000000001, 1668.1000000000001, 1289.1000000000001, 3031.55, 2296.55, 3031.55, 2840.55, 2840.55, 2786.55, 2296.55, 3031.55, 2341.05, 3031.55, 3031.55, 2296.55, 2341.05, 2341.05, 3087.2, 3087.2, 3087.2, 2837.7, 2338.7, 2338.7, 2338.7, 2338.7, 2338.7, 2338.7, 2338.7, 3031.55, 3031.55, 3087.2, 3087.2, 2296.55, 2338.7, 2296.55, 2296.55, 2837.7, 2338.7, 3087.2, 2338.7, 2296.55, 3031.55, 2296.55, 3087.2, 2296.55, 2338.7, 1857.6000000000001, 1289.1000000000001, 1857.6000000000001, 1289.1000000000001, 1668.1000000000001, 1668.1000000000001, 1857.6000000000001, 1289.1000000000001, 1289.1000000000001, 1857.6000000000001, 1289.1000000000001, 561.7439999999999, 561.7439999999999, 1685.232, 1123.4879999999998, 144.337, 561.7439999999999, 421.308, 561.7439999999999, 452.712, 1358.136, 530.634, 530.634, 1061.268, 452.712, 1061.268, 278.592, 1061.268, 452.712, 278.592, 452.712, 452.712, 557.184, 530.634, 278.592, 557.184, 557.184, 1061.268, 557.184, 2122.536, 626.8319999999999, 1209.8015999999998, 2419.6031999999996, 1901.0159999999996, 1253.6639999999998, 626.8319999999999, 626.8319999999999, 3370.464, 2246.9759999999997, 2246.9759999999997, 1123.4879999999998, 1123.4879999999998, 1123.4879999999998, 1114.368, 1114.368, 1061.268, 557.184, 905.424, 1061.268, 1061.268, 557.184, 2716.272, 3404.0460000000003, 214.74800000000005, 557.184, 557.184, 766.1279999999999, 127.68800000000005, 421.308, 421.308, 842.616, 842.616, 421.308, 278.592, 835.7759999999998, 557.184, 557.184, 557.184, 1114.368, 1114.368, 557.184, 1209.8015999999998, 2419.6031999999996, 561.7439999999999, 561.7439999999999, 561.7439999999999, 1123.4879999999998, 561.7439999999999, 561.7439999999999, 905.424, 905.424, 452.712, 905.424, 950.5079999999998, 950.5079999999998, 1123.4879999999998, 2246.9759999999997, 1123.4879999999998, 1123.4879999999998, 2246.9759999999997, 1123.4879999999998, 905.424, 905.424, 1810.848, 905.424, 905.424, 561.7439999999999, 561.7439999999999, 561.7439999999999, 561.7439999999999, 561.7439999999999, 1123.4879999999998, 1061.268, 530.634, 530.634, 530.634, 530.634, 530.634, 2122.536, 626.8319999999999, 1253.6639999999998, 1253.6639999999998, 2246.9759999999997, 1123.4879999999998, 1123.4879999999998, 1123.4879999999998, 1061.268, 1061.268, 2122.536, 5306.34, 2229.1200000000003, 2001.7199999999998, 1774.3200000000002, 1546.92, 1546.92, 2229.1200000000003, 2229.1200000000003, 1546.92, 1546.92, 1546.92, 2138.1600000000003, 2138.1600000000003, 1546.92, 2001.7199999999998, 1546.92, 1774.3200000000002, 1546.92, 3343.86, 2755.86, 2755.86, 2755.86, 2806.4399999999996, 3704.6400000000003, 3704.6400000000003, 3637.86, 3637.86, 3704.6400000000003, 3343.86, 3405.24, 2806.4399999999996, 2755.86, 2806.4399999999996, 2755.86, 2806.4399999999996, 2755.86, 2755.86, 3105.84, 3105.84, 3049.86, 3049.86, 2755.86, 2755.86, 2806.4399999999996, 2755.86, 2755.86, 3520.2599999999998, 3520.2599999999998, 3520.2599999999998, 2755.86, 2755.86, 2755.86, 3584.88, 2755.86, 2755.86, 2806.4399999999996, 3405.24, 3704.6400000000003, 3704.6400000000003, 3584.88, 3405.24, 2806.4399999999996, 2229.1200000000003, 2001.7199999999998, 2001.7199999999998, 2001.7199999999998, 1546.92, 1546.92, 2229.1200000000003, 2001.7199999999998, 1546.92, 1546.92, 1546.92, 1774.3200000000002, 1546.92, 1546.92, 1546.92, 2138.1600000000003, 2138.1600000000003, 1546.92, 2138.1600000000003, 3708.36, 3708.36, 3637.86, 3637.86, 3637.86, 3408.6600000000003, 3343.86, 3343.86, 3408.6600000000003, 2755.86, 3408.6600000000003, 3408.6600000000003, 3049.86, 3108.9599999999996, 3049.86, 2755.86, 3408.6600000000003, 3343.86, 3588.48, 2755.86, 2755.86, 2809.2599999999998, 2755.86]}], \"hoverlabel\": {\"namelength\": 0}, \"hovertemplate\": \"%{xaxis.title.text}=%{x}<br>%{yaxis.title.text}=%{y}<br>ID Produto=%{marker.color}\", \"legendgroup\": \"\", \"marker\": {\"color\": [384, 384, 384, 384, 384, 384, 384, 384, 384, 384, 384, 384, 384, 384, 384, 384, 384, 384, 384, 1178, 1178, 1178, 1178, 1178, 1178, 1178, 1178, 1178, 1178, 1178, 1178, 1178, 1178, 1178, 1178, 1178, 1178, 1178, 1178, 1178, 1178, 1178, 1202, 1203, 1202, 1203, 1202, 1203, 1203, 1202, 1202, 1203, 1202, 1203, 1202, 1202, 1202, 1202, 1202, 1203, 1202, 1202, 1203, 1202, 1203, 1202, 1203, 1203, 1202, 1203, 1202, 1203, 1202, 1202, 1203, 1202, 1202, 1203, 1203, 1203, 1202, 1203, 1202, 1203, 1203, 1202, 1203, 1203, 1155, 1155, 1155, 1155, 1155, 1226, 1226, 1226, 1155, 1155, 1226, 1226, 1226, 1155, 1226, 1155, 1155, 1226, 1155, 1155, 1155, 1155, 1155, 1155, 1155, 1155, 1226, 1155, 1226, 1155, 1155, 1155, 1155, 1226, 1226, 1226, 1155, 1155, 1226, 1226, 1155, 1155, 1155, 366, 366, 366, 366, 366, 366, 366, 366, 366, 366, 366, 366, 366, 366, 366, 366, 366, 366, 366, 366, 366, 384, 384, 384, 384, 384, 384, 1202, 1202, 1202, 1202, 1203, 1203, 1202, 1202, 1203, 1203, 1202, 1202, 1202, 1203, 1203, 1202, 1202, 1203, 1178, 1178, 1178, 1178, 1178, 1178, 1178, 1178, 1178, 1226, 1226, 366, 366, 366, 1155, 366, 1155, 1226, 1155, 1226, 1226, 1226, 1155, 1155, 1155, 366, 1226, 366, 1155, 1226, 366, 366, 1226, 366, 1155, 1226, 366, 366, 366, 366, 1203, 1203, 1202, 1202, 1203, 1203, 384, 1203, 1178, 384, 1178, 366, 366, 1202, 1155, 366, 1203, 1202, 1226, 1226, 1155, 1202, 1203, 1202, 1203, 1203, 384, 384, 366, 1203, 2496, 2496, 2496, 2496, 2496, 2496, 2496, 2496, 2496, 2496, 2496, 2496, 2496, 2496, 2496, 2496, 2496, 2496, 2496, 2496, 2496, 2496, 2496, 2496, 2496, 2496, 2496, 2496, 2496, 2496, 2497, 2497, 2497, 2497, 2497, 2497, 2497, 2497, 2497, 2497, 2497, 2497, 2497, 2497, 2497, 2497, 2497, 2497, 2497, 2497, 2497, 2497, 2497, 384, 384, 384, 384, 384, 384, 384, 384, 384, 384, 384, 384, 384, 384, 384, 384, 384, 384, 384, 384, 384, 384, 384, 384, 384, 384, 384, 384, 384, 384, 384, 384, 384, 384, 384, 384, 384, 384, 384, 1202, 1203, 1202, 1202, 1202, 1203, 1203, 1203, 1202, 1203, 1202, 1203, 1203, 1202, 1203, 1203, 1203, 1203, 1202, 1202, 1203, 1202, 1203, 1203, 1203, 1203, 1203, 1202, 1203, 1203, 1203, 1203, 1203, 1202, 1203, 1202, 1203, 1203, 1203, 1203, 1203, 1202, 1202, 1203, 1203, 1202, 1203, 1202, 1202, 1203, 1202, 1203, 1203, 1203, 1202, 1202, 1203, 1178, 1178, 1178, 1178, 1178, 1178, 1178, 1178, 1178, 1178, 1178, 1178, 1178, 1178, 1178, 1178, 1178, 1178, 1178, 1178, 1178, 1178, 1178, 1178, 1178, 1178, 1226, 1155, 366, 1155, 1155, 366, 366, 366, 366, 366, 1155, 1155, 366, 1226, 1155, 366, 366, 1226, 1226, 366, 1155, 1155, 1155, 1155, 1226, 1155, 1226, 1155, 1155, 1155, 1226, 366, 366, 366, 366, 1226, 1226, 1226, 1155, 366, 1226, 366, 366, 1226, 1155, 366, 1226, 1155, 1226, 1226, 366, 1155, 1226, 1226, 1155, 366, 366, 366, 1226, 1226, 1155, 366, 366, 1226, 1226, 1155, 1155, 1155, 366, 366, 366, 1155, 1226, 1226, 1226, 1155, 366, 366, 366, 1226, 1226, 1155, 1226, 1226, 366, 1226, 366, 1226, 366, 1226, 1155, 1226, 1226, 1226, 366, 366, 366, 1226, 1155, 366, 1226, 1226, 1202, 1202, 1178, 366, 366, 1155, 366, 1226, 1202, 384, 1202, 1203, 366, 1155, 1155, 366, 1178, 366, 384, 1178, 1226, 366, 384, 1203, 1202, 1178, 1226, 1226, 366, 1155, 1202, 1203, 384, 384, 384, 384, 384, 384, 384, 384, 384, 384, 384, 384, 384, 384, 384, 384, 1178, 1178, 1178, 1178, 1178, 1178, 1178, 1178, 1202, 1203, 1203, 1202, 1203, 1202, 1203, 1203, 1202, 1202, 1203, 1226, 1226, 1155, 1226, 1226, 1155, 1226, 1155, 1155, 1155, 1155, 1226, 1155, 1155, 1155, 1155, 1155, 366, 366, 366, 366, 366, 366, 366, 366, 366, 366, 366, 366, 366, 366, 366, 366, 366, 366, 366, 366, 366, 1155, 1155, 1155, 1226, 1226, 1155, 1155, 1155, 1226, 1155, 1155, 1155, 1226, 1226, 1178, 1178, 1178, 1178, 1178, 1178, 1178, 1178, 1178, 1178, 1178, 1203, 1203, 1202, 1202, 1203, 1202, 1203, 1203, 1202, 1202, 1202, 1202, 1203, 1203, 1203, 1202, 1203, 1202, 384, 384, 384, 384, 384, 384, 384, 384, 384, 384, 384, 2496, 2496, 2496, 2496, 2496, 2496, 2496, 2496, 2496, 2496, 2496, 2496, 2496, 2496, 2496, 2496, 2496, 2496, 2496, 2496, 2496, 2496, 2496, 2496, 2496, 2496, 2496, 2496, 2496, 2496, 2496, 2496, 2496, 2496, 2496, 2496, 2496, 2496, 2496, 2496, 2496, 2496, 2496, 2496, 2496, 2496, 2496, 2496, 2496, 2496, 2496, 2496, 2496, 2496, 2496, 2496, 2496, 2497, 2497, 2497, 2497, 2497, 2497, 2497, 2497, 2497, 2497, 2497, 2497, 2497, 2497, 2497, 2497, 2497, 2497, 2497, 2497, 2497, 2497, 2497, 2497, 2497, 2497, 2497, 2497, 2497, 2497, 2497, 2497, 2497, 2497, 2497, 2497, 2497, 2497, 2497, 2497, 2497, 2497, 2497, 2497, 2497, 2497, 2497, 2497, 2497, 2497, 2497, 2497, 2497, 2497, 2497, 2497, 2497, 2497, 2497, 2497, 2497, 2497, 384, 384, 384, 384, 384, 384, 384, 384, 384, 384, 384, 384, 384, 384, 384, 384, 384, 1203, 1203, 1203, 1203, 1202, 1202, 1202, 1203, 1203, 1202, 1203, 1202, 1202, 1203, 1202, 1203, 1202, 1203, 1203, 1202, 1202, 1203, 1203, 1203, 1203, 1202, 1203, 1203, 1203, 1203, 1203, 1203, 1203, 1203, 1202, 1203, 1203, 1178, 1178, 1178, 1178, 1178, 1178, 1178, 366, 366, 366, 366, 366, 366, 366, 366, 366, 366, 366, 366, 366, 366, 366, 366, 366, 366, 366, 1226, 1226, 1155, 1155, 1155, 1226, 1155, 1155, 1226, 1155, 1226, 1226, 1155, 1226, 1155, 1155, 1226, 1155, 1226, 1155, 1155, 1226, 1155], \"coloraxis\": \"coloraxis\", \"symbol\": \"circle\"}, \"name\": \"\", \"showlegend\": false, \"type\": \"splom\"}],\n",
              "                        {\"coloraxis\": {\"colorbar\": {\"title\": {\"text\": \"ID Produto\"}}, \"colorscale\": [[0.0, \"#0d0887\"], [0.1111111111111111, \"#46039f\"], [0.2222222222222222, \"#7201a8\"], [0.3333333333333333, \"#9c179e\"], [0.4444444444444444, \"#bd3786\"], [0.5555555555555556, \"#d8576b\"], [0.6666666666666666, \"#ed7953\"], [0.7777777777777778, \"#fb9f3a\"], [0.8888888888888888, \"#fdca26\"], [1.0, \"#f0f921\"]]}, \"dragmode\": \"select\", \"legend\": {\"tracegroupgap\": 0}, \"margin\": {\"t\": 60}, \"template\": {\"data\": {\"bar\": [{\"error_x\": {\"color\": \"#2a3f5f\"}, \"error_y\": {\"color\": \"#2a3f5f\"}, \"marker\": {\"line\": {\"color\": \"#E5ECF6\", \"width\": 0.5}}, \"type\": \"bar\"}], \"barpolar\": [{\"marker\": {\"line\": {\"color\": \"#E5ECF6\", \"width\": 0.5}}, \"type\": \"barpolar\"}], \"carpet\": [{\"aaxis\": {\"endlinecolor\": \"#2a3f5f\", \"gridcolor\": \"white\", \"linecolor\": \"white\", \"minorgridcolor\": \"white\", \"startlinecolor\": \"#2a3f5f\"}, \"baxis\": {\"endlinecolor\": \"#2a3f5f\", \"gridcolor\": \"white\", \"linecolor\": \"white\", \"minorgridcolor\": \"white\", \"startlinecolor\": \"#2a3f5f\"}, \"type\": \"carpet\"}], \"choropleth\": [{\"colorbar\": {\"outlinewidth\": 0, \"ticks\": \"\"}, \"type\": \"choropleth\"}], \"contour\": [{\"colorbar\": {\"outlinewidth\": 0, \"ticks\": \"\"}, \"colorscale\": [[0.0, \"#0d0887\"], [0.1111111111111111, \"#46039f\"], [0.2222222222222222, \"#7201a8\"], [0.3333333333333333, \"#9c179e\"], [0.4444444444444444, \"#bd3786\"], [0.5555555555555556, \"#d8576b\"], [0.6666666666666666, \"#ed7953\"], [0.7777777777777778, \"#fb9f3a\"], [0.8888888888888888, \"#fdca26\"], [1.0, \"#f0f921\"]], \"type\": \"contour\"}], \"contourcarpet\": [{\"colorbar\": {\"outlinewidth\": 0, \"ticks\": \"\"}, \"type\": \"contourcarpet\"}], \"heatmap\": [{\"colorbar\": {\"outlinewidth\": 0, \"ticks\": \"\"}, \"colorscale\": [[0.0, \"#0d0887\"], [0.1111111111111111, \"#46039f\"], [0.2222222222222222, \"#7201a8\"], [0.3333333333333333, \"#9c179e\"], [0.4444444444444444, \"#bd3786\"], [0.5555555555555556, \"#d8576b\"], [0.6666666666666666, \"#ed7953\"], [0.7777777777777778, \"#fb9f3a\"], [0.8888888888888888, \"#fdca26\"], [1.0, \"#f0f921\"]], \"type\": \"heatmap\"}], \"heatmapgl\": [{\"colorbar\": {\"outlinewidth\": 0, \"ticks\": \"\"}, \"colorscale\": [[0.0, \"#0d0887\"], [0.1111111111111111, \"#46039f\"], [0.2222222222222222, \"#7201a8\"], [0.3333333333333333, \"#9c179e\"], [0.4444444444444444, \"#bd3786\"], [0.5555555555555556, \"#d8576b\"], [0.6666666666666666, \"#ed7953\"], [0.7777777777777778, \"#fb9f3a\"], [0.8888888888888888, \"#fdca26\"], [1.0, \"#f0f921\"]], \"type\": \"heatmapgl\"}], \"histogram\": [{\"marker\": {\"colorbar\": {\"outlinewidth\": 0, \"ticks\": \"\"}}, \"type\": \"histogram\"}], \"histogram2d\": [{\"colorbar\": {\"outlinewidth\": 0, \"ticks\": \"\"}, \"colorscale\": [[0.0, \"#0d0887\"], [0.1111111111111111, \"#46039f\"], [0.2222222222222222, \"#7201a8\"], [0.3333333333333333, \"#9c179e\"], [0.4444444444444444, \"#bd3786\"], [0.5555555555555556, \"#d8576b\"], [0.6666666666666666, \"#ed7953\"], [0.7777777777777778, \"#fb9f3a\"], [0.8888888888888888, \"#fdca26\"], [1.0, \"#f0f921\"]], \"type\": \"histogram2d\"}], \"histogram2dcontour\": [{\"colorbar\": {\"outlinewidth\": 0, \"ticks\": \"\"}, \"colorscale\": [[0.0, \"#0d0887\"], [0.1111111111111111, \"#46039f\"], [0.2222222222222222, \"#7201a8\"], [0.3333333333333333, \"#9c179e\"], [0.4444444444444444, \"#bd3786\"], [0.5555555555555556, \"#d8576b\"], [0.6666666666666666, \"#ed7953\"], [0.7777777777777778, \"#fb9f3a\"], [0.8888888888888888, \"#fdca26\"], [1.0, \"#f0f921\"]], \"type\": \"histogram2dcontour\"}], \"mesh3d\": [{\"colorbar\": {\"outlinewidth\": 0, \"ticks\": \"\"}, \"type\": \"mesh3d\"}], \"parcoords\": [{\"line\": {\"colorbar\": {\"outlinewidth\": 0, \"ticks\": \"\"}}, \"type\": \"parcoords\"}], \"pie\": [{\"automargin\": true, \"type\": \"pie\"}], \"scatter\": [{\"marker\": {\"colorbar\": {\"outlinewidth\": 0, \"ticks\": \"\"}}, \"type\": \"scatter\"}], \"scatter3d\": [{\"line\": {\"colorbar\": {\"outlinewidth\": 0, \"ticks\": \"\"}}, \"marker\": {\"colorbar\": {\"outlinewidth\": 0, \"ticks\": \"\"}}, \"type\": \"scatter3d\"}], \"scattercarpet\": [{\"marker\": {\"colorbar\": {\"outlinewidth\": 0, \"ticks\": \"\"}}, \"type\": \"scattercarpet\"}], \"scattergeo\": [{\"marker\": {\"colorbar\": {\"outlinewidth\": 0, \"ticks\": \"\"}}, \"type\": \"scattergeo\"}], \"scattergl\": [{\"marker\": {\"colorbar\": {\"outlinewidth\": 0, \"ticks\": \"\"}}, \"type\": \"scattergl\"}], \"scattermapbox\": [{\"marker\": {\"colorbar\": {\"outlinewidth\": 0, \"ticks\": \"\"}}, \"type\": \"scattermapbox\"}], \"scatterpolar\": [{\"marker\": {\"colorbar\": {\"outlinewidth\": 0, \"ticks\": \"\"}}, \"type\": \"scatterpolar\"}], \"scatterpolargl\": [{\"marker\": {\"colorbar\": {\"outlinewidth\": 0, \"ticks\": \"\"}}, \"type\": \"scatterpolargl\"}], \"scatterternary\": [{\"marker\": {\"colorbar\": {\"outlinewidth\": 0, \"ticks\": \"\"}}, \"type\": \"scatterternary\"}], \"surface\": [{\"colorbar\": {\"outlinewidth\": 0, \"ticks\": \"\"}, \"colorscale\": [[0.0, \"#0d0887\"], [0.1111111111111111, \"#46039f\"], [0.2222222222222222, \"#7201a8\"], [0.3333333333333333, \"#9c179e\"], [0.4444444444444444, \"#bd3786\"], [0.5555555555555556, \"#d8576b\"], [0.6666666666666666, \"#ed7953\"], [0.7777777777777778, \"#fb9f3a\"], [0.8888888888888888, \"#fdca26\"], [1.0, \"#f0f921\"]], \"type\": \"surface\"}], \"table\": [{\"cells\": {\"fill\": {\"color\": \"#EBF0F8\"}, \"line\": {\"color\": \"white\"}}, \"header\": {\"fill\": {\"color\": \"#C8D4E3\"}, \"line\": {\"color\": \"white\"}}, \"type\": \"table\"}]}, \"layout\": {\"annotationdefaults\": {\"arrowcolor\": \"#2a3f5f\", \"arrowhead\": 0, \"arrowwidth\": 1}, \"coloraxis\": {\"colorbar\": {\"outlinewidth\": 0, \"ticks\": \"\"}}, \"colorscale\": {\"diverging\": [[0, \"#8e0152\"], [0.1, \"#c51b7d\"], [0.2, \"#de77ae\"], [0.3, \"#f1b6da\"], [0.4, \"#fde0ef\"], [0.5, \"#f7f7f7\"], [0.6, \"#e6f5d0\"], [0.7, \"#b8e186\"], [0.8, \"#7fbc41\"], [0.9, \"#4d9221\"], [1, \"#276419\"]], \"sequential\": [[0.0, \"#0d0887\"], [0.1111111111111111, \"#46039f\"], [0.2222222222222222, \"#7201a8\"], [0.3333333333333333, \"#9c179e\"], [0.4444444444444444, \"#bd3786\"], [0.5555555555555556, \"#d8576b\"], [0.6666666666666666, \"#ed7953\"], [0.7777777777777778, \"#fb9f3a\"], [0.8888888888888888, \"#fdca26\"], [1.0, \"#f0f921\"]], \"sequentialminus\": [[0.0, \"#0d0887\"], [0.1111111111111111, \"#46039f\"], [0.2222222222222222, \"#7201a8\"], [0.3333333333333333, \"#9c179e\"], [0.4444444444444444, \"#bd3786\"], [0.5555555555555556, \"#d8576b\"], [0.6666666666666666, \"#ed7953\"], [0.7777777777777778, \"#fb9f3a\"], [0.8888888888888888, \"#fdca26\"], [1.0, \"#f0f921\"]]}, \"colorway\": [\"#636efa\", \"#EF553B\", \"#00cc96\", \"#ab63fa\", \"#FFA15A\", \"#19d3f3\", \"#FF6692\", \"#B6E880\", \"#FF97FF\", \"#FECB52\"], \"font\": {\"color\": \"#2a3f5f\"}, \"geo\": {\"bgcolor\": \"white\", \"lakecolor\": \"white\", \"landcolor\": \"#E5ECF6\", \"showlakes\": true, \"showland\": true, \"subunitcolor\": \"white\"}, \"hoverlabel\": {\"align\": \"left\"}, \"hovermode\": \"closest\", \"mapbox\": {\"style\": \"light\"}, \"paper_bgcolor\": \"white\", \"plot_bgcolor\": \"#E5ECF6\", \"polar\": {\"angularaxis\": {\"gridcolor\": \"white\", \"linecolor\": \"white\", \"ticks\": \"\"}, \"bgcolor\": \"#E5ECF6\", \"radialaxis\": {\"gridcolor\": \"white\", \"linecolor\": \"white\", \"ticks\": \"\"}}, \"scene\": {\"xaxis\": {\"backgroundcolor\": \"#E5ECF6\", \"gridcolor\": \"white\", \"gridwidth\": 2, \"linecolor\": \"white\", \"showbackground\": true, \"ticks\": \"\", \"zerolinecolor\": \"white\"}, \"yaxis\": {\"backgroundcolor\": \"#E5ECF6\", \"gridcolor\": \"white\", \"gridwidth\": 2, \"linecolor\": \"white\", \"showbackground\": true, \"ticks\": \"\", \"zerolinecolor\": \"white\"}, \"zaxis\": {\"backgroundcolor\": \"#E5ECF6\", \"gridcolor\": \"white\", \"gridwidth\": 2, \"linecolor\": \"white\", \"showbackground\": true, \"ticks\": \"\", \"zerolinecolor\": \"white\"}}, \"shapedefaults\": {\"line\": {\"color\": \"#2a3f5f\"}}, \"ternary\": {\"aaxis\": {\"gridcolor\": \"white\", \"linecolor\": \"white\", \"ticks\": \"\"}, \"baxis\": {\"gridcolor\": \"white\", \"linecolor\": \"white\", \"ticks\": \"\"}, \"bgcolor\": \"#E5ECF6\", \"caxis\": {\"gridcolor\": \"white\", \"linecolor\": \"white\", \"ticks\": \"\"}}, \"title\": {\"x\": 0.05}, \"xaxis\": {\"automargin\": true, \"gridcolor\": \"white\", \"linecolor\": \"white\", \"ticks\": \"\", \"title\": {\"standoff\": 15}, \"zerolinecolor\": \"white\", \"zerolinewidth\": 2}, \"yaxis\": {\"automargin\": true, \"gridcolor\": \"white\", \"linecolor\": \"white\", \"ticks\": \"\", \"title\": {\"standoff\": 15}, \"zerolinecolor\": \"white\", \"zerolinewidth\": 2}}}},\n",
              "                        {\"responsive\": true}\n",
              "                    ).then(function(){\n",
              "                            \n",
              "var gd = document.getElementById('209e53ae-c1a0-48f3-a38f-37d788d962fe');\n",
              "var x = new MutationObserver(function (mutations, observer) {{\n",
              "        var display = window.getComputedStyle(gd).display;\n",
              "        if (!display || display === 'none') {{\n",
              "            console.log([gd, 'removed!']);\n",
              "            Plotly.purge(gd);\n",
              "            observer.disconnect();\n",
              "        }}\n",
              "}});\n",
              "\n",
              "// Listen for the removal of the full notebook cells\n",
              "var notebookContainer = gd.closest('#notebook-container');\n",
              "if (notebookContainer) {{\n",
              "    x.observe(notebookContainer, {childList: true});\n",
              "}}\n",
              "\n",
              "// Listen for the clearing of the current output cell\n",
              "var outputEl = gd.closest('.output');\n",
              "if (outputEl) {{\n",
              "    x.observe(outputEl, {childList: true});\n",
              "}}\n",
              "\n",
              "                        })\n",
              "                };\n",
              "                \n",
              "            </script>\n",
              "        </div>\n",
              "</body>\n",
              "</html>"
            ]
          },
          "metadata": {
            "tags": []
          }
        }
      ]
    },
    {
      "cell_type": "code",
      "metadata": {
        "colab": {
          "base_uri": "https://localhost:8080/",
          "height": 542
        },
        "id": "C9x7Dj9-vgXu",
        "outputId": "bb7069fe-70e6-4e07-d541-569dfa9c2af6"
      },
      "source": [
        "plot = px.scatter_matrix(df, dimensions = ['tempo_envio'], color = 'Fabricante')\n",
        "plot.show()"
      ],
      "execution_count": 175,
      "outputs": [
        {
          "output_type": "display_data",
          "data": {
            "text/html": [
              "<html>\n",
              "<head><meta charset=\"utf-8\" /></head>\n",
              "<body>\n",
              "    <div>\n",
              "            <script src=\"https://cdnjs.cloudflare.com/ajax/libs/mathjax/2.7.5/MathJax.js?config=TeX-AMS-MML_SVG\"></script><script type=\"text/javascript\">if (window.MathJax) {MathJax.Hub.Config({SVG: {font: \"STIX-Web\"}});}</script>\n",
              "                <script type=\"text/javascript\">window.PlotlyConfig = {MathJaxConfig: 'local'};</script>\n",
              "        <script src=\"https://cdn.plot.ly/plotly-latest.min.js\"></script>    \n",
              "            <div id=\"2659e9b9-0e01-417d-8c70-ded8e1580da1\" class=\"plotly-graph-div\" style=\"height:525px; width:100%;\"></div>\n",
              "            <script type=\"text/javascript\">\n",
              "                \n",
              "                    window.PLOTLYENV=window.PLOTLYENV || {};\n",
              "                    \n",
              "                if (document.getElementById(\"2659e9b9-0e01-417d-8c70-ded8e1580da1\")) {\n",
              "                    Plotly.newPlot(\n",
              "                        '2659e9b9-0e01-417d-8c70-ded8e1580da1',\n",
              "                        [{\"dimensions\": [{\"axis\": {\"matches\": true}, \"label\": \"tempo_envio\", \"values\": [20, 5, 6, 6, 7, 8, 7, 10, 10, 11, 11, 12, 11, 12, 13, 4, 5, 9, 11, 6, 11, 8, 8, 8, 7, 10, 11, 12, 4, 5, 13, 11, 11, 9, 9, 11, 4, 11, 11, 12, 6, 7, 12, 8, 12, 9, 10, 9, 11, 10, 12, 4, 7, 8, 11, 12, 12, 4, 10, 13, 13, 4, 4, 5, 4, 4, 4, 9, 8, 8, 8, 8, 5, 7, 11, 7, 12, 12, 13, 4, 10, 8, 10, 8, 5, 5, 5, 10, 13, 6, 7, 13, 9, 12, 9, 9, 7, 6, 11, 9, 12, 13, 7, 7, 8, 9, 12, 9, 5, 13, 5, 4, 5, 4, 4, 11, 4, 13, 11, 10, 9, 6, 6, 11, 4, 10, 12, 11, 13, 12, 4, 4, 6, 5, 5, 7, 6, 11, 8, 12, 12, 12, 11, 9, 9, 9, 5, 5, 5, 12, 10, 11, 4, 4, 11, 11, 13, 13, 13, 13, 10, 12, 4, 9, 9, 10, 6, 9, 12, 12, 5, 12, 9, 10, 4, 13, 7, 13, 4, 5, 9, 6, 13, 8, 11, 12, 4, 4, 9, 11, 9, 10, 8, 7, 11, 9, 9, 11, 9, 9, 4, 12, 13, 9, 13, 4, 6, 13, 4, 10, 10, 11, 7, 7, 12, 9, 9, 4, 9, 7, 4, 11, 4, 7, 7, 11, 8, 5, 8, 8, 4, 9, 13, 11, 11, 5, 4, 6]}], \"hoverlabel\": {\"namelength\": 0}, \"hovertemplate\": \"Fabricante=Adventure Works<br>%{xaxis.title.text}=%{x}<br>%{yaxis.title.text}=%{y}\", \"legendgroup\": \"Fabricante=Adventure Works\", \"marker\": {\"color\": \"#636efa\", \"symbol\": \"circle\"}, \"name\": \"Fabricante=Adventure Works\", \"showlegend\": true, \"type\": \"splom\"}, {\"dimensions\": [{\"axis\": {\"matches\": true}, \"label\": \"tempo_envio\", \"values\": [11, 12, 13, 13, 4, 7, 10, 11, 4, 12, 9, 11, 12, 5, 5, 7, 7, 7, 12, 12, 4, 5, 5, 6, 6, 5, 5, 5, 4, 6, 6, 5, 6, 6, 6, 6, 6, 9, 10, 11, 13, 7, 7, 7, 8, 5, 8, 8, 9, 10, 10, 10, 10, 11, 11, 4, 11, 12, 4, 11, 12, 10, 4, 4, 5, 5, 4, 9, 10, 11, 11, 12, 12, 4, 6, 5, 5, 5, 6, 6, 7, 7, 7, 12, 4, 8, 9, 9, 7, 10, 11, 4, 5, 4, 5, 12, 11, 11, 11, 11, 9, 11, 11, 13, 4, 13, 13, 5, 9, 10, 11, 8, 6, 5, 13, 6, 9, 11, 12, 4, 8, 10, 10, 11, 11, 11, 13, 5, 10, 11, 5, 7, 7, 10, 11, 13, 4, 7, 12, 10, 10, 11, 5, 11, 9, 10, 13, 10, 10, 9, 5, 12, 6, 6, 13, 5, 11, 6, 9, 7, 8, 12, 10, 13, 13, 13, 12, 5, 6, 10, 11, 7, 6, 5, 5, 5, 13, 12, 4, 7, 11, 6, 12, 4, 8, 6, 13, 7, 13, 7, 13, 13, 10, 8, 7, 8, 11, 13, 13, 5, 13, 8, 10, 12, 12, 6, 10, 11, 6, 13, 11, 11, 11, 4, 13, 13, 4, 10, 11, 12, 7, 8, 7, 6, 7, 8, 7, 13, 5, 6, 13, 8, 12, 13, 4, 9, 5, 8, 11, 13, 7, 6, 8, 9, 11, 13, 4, 13, 13, 11, 5, 13, 11, 11, 4, 5, 9, 4, 5, 13, 5, 4, 4, 9, 9, 4, 4, 4, 6, 9, 4, 9, 6, 6, 8, 10, 12, 5, 7, 7, 8, 13, 13, 13, 13, 8, 8, 11, 11, 10, 6, 7, 4, 4, 4, 9, 10, 13, 4, 6, 11, 5, 13, 13, 7, 7, 4, 10, 8, 12, 5, 7, 13, 4, 4, 4, 11, 9, 8, 8, 8, 9, 10, 11, 10, 4, 9, 9, 9, 9, 9, 11, 11, 5, 5, 5, 5, 12, 10, 10, 4, 4, 4, 4, 4, 10, 10, 10, 4, 7, 10, 10, 5, 4, 4, 10, 4, 10, 13, 8, 4, 5, 7, 10, 10, 8, 10, 4, 4, 7, 13, 13, 13, 4, 6, 11, 10, 13, 13, 5, 6, 6, 7, 12, 13, 8, 7, 9, 11, 11, 9, 6, 10, 13, 4, 12, 12, 13, 13, 8, 9, 11, 5, 5, 11, 12, 12, 10, 12, 10, 10, 10, 13, 8, 8, 8, 8, 11, 4, 13, 9, 10, 13, 13, 10, 4, 4, 5, 7, 8, 8, 6, 5, 5, 10, 10, 11, 13, 11, 8, 4, 4, 8, 8, 8, 11, 12, 4, 5, 5, 10, 11, 12, 4, 10, 11, 13, 13, 11, 4, 5, 6, 10, 12, 9, 11, 6, 4, 13, 9, 12, 10, 10, 6, 7, 9, 5, 8, 8, 8, 7, 13, 4, 13, 5, 7, 11, 10, 11, 13, 11, 4, 4, 4]}], \"hoverlabel\": {\"namelength\": 0}, \"hovertemplate\": \"Fabricante=Fabrikam, Inc.<br>%{xaxis.title.text}=%{x}<br>%{yaxis.title.text}=%{y}\", \"legendgroup\": \"Fabricante=Fabrikam, Inc.\", \"marker\": {\"color\": \"#EF553B\", \"symbol\": \"circle\"}, \"name\": \"Fabricante=Fabrikam, Inc.\", \"showlegend\": true, \"type\": \"splom\"}, {\"dimensions\": [{\"axis\": {\"matches\": true}, \"label\": \"tempo_envio\", \"values\": [4, 6, 7, 10, 7, 12, 7, 7, 8, 8, 8, 9, 11, 11, 12, 11, 12, 4, 4, 4, 12, 4, 9, 9, 9, 11, 12, 12, 12, 13, 6, 8, 7, 13, 13, 4, 11, 12, 9, 10, 10, 5, 4, 4, 8, 9, 13, 11, 10, 13, 9, 7, 11, 13, 4, 4, 5, 9, 7, 11, 8, 9, 9, 13, 13, 13, 6, 4, 4, 5, 12, 4, 12, 4, 4, 6, 4, 4, 5, 6, 5, 9, 9, 6, 7, 5, 12, 12, 4, 10, 11, 12, 8, 9, 10, 9, 10, 13, 10, 5, 13, 4, 10, 4, 7, 6, 12, 12, 8, 7, 9, 11, 11, 11, 11, 11, 4, 5, 5, 9, 12, 10, 10, 6, 6, 5, 4, 6, 8, 12, 4, 9, 12, 7, 5, 13, 4, 9, 11, 7, 10, 11, 8, 5, 4, 7, 6, 7, 13, 13, 13, 13, 4, 5, 12, 13, 13, 4, 4, 5, 5, 11, 11, 4, 9, 10, 10, 11, 13, 9, 9, 9]}], \"hoverlabel\": {\"namelength\": 0}, \"hovertemplate\": \"Fabricante=Contoso, Ltd<br>%{xaxis.title.text}=%{x}<br>%{yaxis.title.text}=%{y}\", \"legendgroup\": \"Fabricante=Contoso, Ltd\", \"marker\": {\"color\": \"#00cc96\", \"symbol\": \"circle\"}, \"name\": \"Fabricante=Contoso, Ltd\", \"showlegend\": true, \"type\": \"splom\"}],\n",
              "                        {\"dragmode\": \"select\", \"legend\": {\"tracegroupgap\": 0}, \"margin\": {\"t\": 60}, \"template\": {\"data\": {\"bar\": [{\"error_x\": {\"color\": \"#2a3f5f\"}, \"error_y\": {\"color\": \"#2a3f5f\"}, \"marker\": {\"line\": {\"color\": \"#E5ECF6\", \"width\": 0.5}}, \"type\": \"bar\"}], \"barpolar\": [{\"marker\": {\"line\": {\"color\": \"#E5ECF6\", \"width\": 0.5}}, \"type\": \"barpolar\"}], \"carpet\": [{\"aaxis\": {\"endlinecolor\": \"#2a3f5f\", \"gridcolor\": \"white\", \"linecolor\": \"white\", \"minorgridcolor\": \"white\", \"startlinecolor\": \"#2a3f5f\"}, \"baxis\": {\"endlinecolor\": \"#2a3f5f\", \"gridcolor\": \"white\", \"linecolor\": \"white\", \"minorgridcolor\": \"white\", \"startlinecolor\": \"#2a3f5f\"}, \"type\": \"carpet\"}], \"choropleth\": [{\"colorbar\": {\"outlinewidth\": 0, \"ticks\": \"\"}, \"type\": \"choropleth\"}], \"contour\": [{\"colorbar\": {\"outlinewidth\": 0, \"ticks\": \"\"}, \"colorscale\": [[0.0, \"#0d0887\"], [0.1111111111111111, \"#46039f\"], [0.2222222222222222, \"#7201a8\"], [0.3333333333333333, \"#9c179e\"], [0.4444444444444444, \"#bd3786\"], [0.5555555555555556, \"#d8576b\"], [0.6666666666666666, \"#ed7953\"], [0.7777777777777778, \"#fb9f3a\"], [0.8888888888888888, \"#fdca26\"], [1.0, \"#f0f921\"]], \"type\": \"contour\"}], \"contourcarpet\": [{\"colorbar\": {\"outlinewidth\": 0, \"ticks\": \"\"}, \"type\": \"contourcarpet\"}], \"heatmap\": [{\"colorbar\": {\"outlinewidth\": 0, \"ticks\": \"\"}, \"colorscale\": [[0.0, \"#0d0887\"], [0.1111111111111111, \"#46039f\"], [0.2222222222222222, \"#7201a8\"], [0.3333333333333333, \"#9c179e\"], [0.4444444444444444, \"#bd3786\"], [0.5555555555555556, \"#d8576b\"], [0.6666666666666666, \"#ed7953\"], [0.7777777777777778, \"#fb9f3a\"], [0.8888888888888888, \"#fdca26\"], [1.0, \"#f0f921\"]], \"type\": \"heatmap\"}], \"heatmapgl\": [{\"colorbar\": {\"outlinewidth\": 0, \"ticks\": \"\"}, \"colorscale\": [[0.0, \"#0d0887\"], [0.1111111111111111, \"#46039f\"], [0.2222222222222222, \"#7201a8\"], [0.3333333333333333, \"#9c179e\"], [0.4444444444444444, \"#bd3786\"], [0.5555555555555556, \"#d8576b\"], [0.6666666666666666, \"#ed7953\"], [0.7777777777777778, \"#fb9f3a\"], [0.8888888888888888, \"#fdca26\"], [1.0, \"#f0f921\"]], \"type\": \"heatmapgl\"}], \"histogram\": [{\"marker\": {\"colorbar\": {\"outlinewidth\": 0, \"ticks\": \"\"}}, \"type\": \"histogram\"}], \"histogram2d\": [{\"colorbar\": {\"outlinewidth\": 0, \"ticks\": \"\"}, \"colorscale\": [[0.0, \"#0d0887\"], [0.1111111111111111, \"#46039f\"], [0.2222222222222222, \"#7201a8\"], [0.3333333333333333, \"#9c179e\"], [0.4444444444444444, \"#bd3786\"], [0.5555555555555556, \"#d8576b\"], [0.6666666666666666, \"#ed7953\"], [0.7777777777777778, \"#fb9f3a\"], [0.8888888888888888, \"#fdca26\"], [1.0, \"#f0f921\"]], \"type\": \"histogram2d\"}], \"histogram2dcontour\": [{\"colorbar\": {\"outlinewidth\": 0, \"ticks\": \"\"}, \"colorscale\": [[0.0, \"#0d0887\"], [0.1111111111111111, \"#46039f\"], [0.2222222222222222, \"#7201a8\"], [0.3333333333333333, \"#9c179e\"], [0.4444444444444444, \"#bd3786\"], [0.5555555555555556, \"#d8576b\"], [0.6666666666666666, \"#ed7953\"], [0.7777777777777778, \"#fb9f3a\"], [0.8888888888888888, \"#fdca26\"], [1.0, \"#f0f921\"]], \"type\": \"histogram2dcontour\"}], \"mesh3d\": [{\"colorbar\": {\"outlinewidth\": 0, \"ticks\": \"\"}, \"type\": \"mesh3d\"}], \"parcoords\": [{\"line\": {\"colorbar\": {\"outlinewidth\": 0, \"ticks\": \"\"}}, \"type\": \"parcoords\"}], \"pie\": [{\"automargin\": true, \"type\": \"pie\"}], \"scatter\": [{\"marker\": {\"colorbar\": {\"outlinewidth\": 0, \"ticks\": \"\"}}, \"type\": \"scatter\"}], \"scatter3d\": [{\"line\": {\"colorbar\": {\"outlinewidth\": 0, \"ticks\": \"\"}}, \"marker\": {\"colorbar\": {\"outlinewidth\": 0, \"ticks\": \"\"}}, \"type\": \"scatter3d\"}], \"scattercarpet\": [{\"marker\": {\"colorbar\": {\"outlinewidth\": 0, \"ticks\": \"\"}}, \"type\": \"scattercarpet\"}], \"scattergeo\": [{\"marker\": {\"colorbar\": {\"outlinewidth\": 0, \"ticks\": \"\"}}, \"type\": \"scattergeo\"}], \"scattergl\": [{\"marker\": {\"colorbar\": {\"outlinewidth\": 0, \"ticks\": \"\"}}, \"type\": \"scattergl\"}], \"scattermapbox\": [{\"marker\": {\"colorbar\": {\"outlinewidth\": 0, \"ticks\": \"\"}}, \"type\": \"scattermapbox\"}], \"scatterpolar\": [{\"marker\": {\"colorbar\": {\"outlinewidth\": 0, \"ticks\": \"\"}}, \"type\": \"scatterpolar\"}], \"scatterpolargl\": [{\"marker\": {\"colorbar\": {\"outlinewidth\": 0, \"ticks\": \"\"}}, \"type\": \"scatterpolargl\"}], \"scatterternary\": [{\"marker\": {\"colorbar\": {\"outlinewidth\": 0, \"ticks\": \"\"}}, \"type\": \"scatterternary\"}], \"surface\": [{\"colorbar\": {\"outlinewidth\": 0, \"ticks\": \"\"}, \"colorscale\": [[0.0, \"#0d0887\"], [0.1111111111111111, \"#46039f\"], [0.2222222222222222, \"#7201a8\"], [0.3333333333333333, \"#9c179e\"], [0.4444444444444444, \"#bd3786\"], [0.5555555555555556, \"#d8576b\"], [0.6666666666666666, \"#ed7953\"], [0.7777777777777778, \"#fb9f3a\"], [0.8888888888888888, \"#fdca26\"], [1.0, \"#f0f921\"]], \"type\": \"surface\"}], \"table\": [{\"cells\": {\"fill\": {\"color\": \"#EBF0F8\"}, \"line\": {\"color\": \"white\"}}, \"header\": {\"fill\": {\"color\": \"#C8D4E3\"}, \"line\": {\"color\": \"white\"}}, \"type\": \"table\"}]}, \"layout\": {\"annotationdefaults\": {\"arrowcolor\": \"#2a3f5f\", \"arrowhead\": 0, \"arrowwidth\": 1}, \"coloraxis\": {\"colorbar\": {\"outlinewidth\": 0, \"ticks\": \"\"}}, \"colorscale\": {\"diverging\": [[0, \"#8e0152\"], [0.1, \"#c51b7d\"], [0.2, \"#de77ae\"], [0.3, \"#f1b6da\"], [0.4, \"#fde0ef\"], [0.5, \"#f7f7f7\"], [0.6, \"#e6f5d0\"], [0.7, \"#b8e186\"], [0.8, \"#7fbc41\"], [0.9, \"#4d9221\"], [1, \"#276419\"]], \"sequential\": [[0.0, \"#0d0887\"], [0.1111111111111111, \"#46039f\"], [0.2222222222222222, \"#7201a8\"], [0.3333333333333333, \"#9c179e\"], [0.4444444444444444, \"#bd3786\"], [0.5555555555555556, \"#d8576b\"], [0.6666666666666666, \"#ed7953\"], [0.7777777777777778, \"#fb9f3a\"], [0.8888888888888888, \"#fdca26\"], [1.0, \"#f0f921\"]], \"sequentialminus\": [[0.0, \"#0d0887\"], [0.1111111111111111, \"#46039f\"], [0.2222222222222222, \"#7201a8\"], [0.3333333333333333, \"#9c179e\"], [0.4444444444444444, \"#bd3786\"], [0.5555555555555556, \"#d8576b\"], [0.6666666666666666, \"#ed7953\"], [0.7777777777777778, \"#fb9f3a\"], [0.8888888888888888, \"#fdca26\"], [1.0, \"#f0f921\"]]}, \"colorway\": [\"#636efa\", \"#EF553B\", \"#00cc96\", \"#ab63fa\", \"#FFA15A\", \"#19d3f3\", \"#FF6692\", \"#B6E880\", \"#FF97FF\", \"#FECB52\"], \"font\": {\"color\": \"#2a3f5f\"}, \"geo\": {\"bgcolor\": \"white\", \"lakecolor\": \"white\", \"landcolor\": \"#E5ECF6\", \"showlakes\": true, \"showland\": true, \"subunitcolor\": \"white\"}, \"hoverlabel\": {\"align\": \"left\"}, \"hovermode\": \"closest\", \"mapbox\": {\"style\": \"light\"}, \"paper_bgcolor\": \"white\", \"plot_bgcolor\": \"#E5ECF6\", \"polar\": {\"angularaxis\": {\"gridcolor\": \"white\", \"linecolor\": \"white\", \"ticks\": \"\"}, \"bgcolor\": \"#E5ECF6\", \"radialaxis\": {\"gridcolor\": \"white\", \"linecolor\": \"white\", \"ticks\": \"\"}}, \"scene\": {\"xaxis\": {\"backgroundcolor\": \"#E5ECF6\", \"gridcolor\": \"white\", \"gridwidth\": 2, \"linecolor\": \"white\", \"showbackground\": true, \"ticks\": \"\", \"zerolinecolor\": \"white\"}, \"yaxis\": {\"backgroundcolor\": \"#E5ECF6\", \"gridcolor\": \"white\", \"gridwidth\": 2, \"linecolor\": \"white\", \"showbackground\": true, \"ticks\": \"\", \"zerolinecolor\": \"white\"}, \"zaxis\": {\"backgroundcolor\": \"#E5ECF6\", \"gridcolor\": \"white\", \"gridwidth\": 2, \"linecolor\": \"white\", \"showbackground\": true, \"ticks\": \"\", \"zerolinecolor\": \"white\"}}, \"shapedefaults\": {\"line\": {\"color\": \"#2a3f5f\"}}, \"ternary\": {\"aaxis\": {\"gridcolor\": \"white\", \"linecolor\": \"white\", \"ticks\": \"\"}, \"baxis\": {\"gridcolor\": \"white\", \"linecolor\": \"white\", \"ticks\": \"\"}, \"bgcolor\": \"#E5ECF6\", \"caxis\": {\"gridcolor\": \"white\", \"linecolor\": \"white\", \"ticks\": \"\"}}, \"title\": {\"x\": 0.05}, \"xaxis\": {\"automargin\": true, \"gridcolor\": \"white\", \"linecolor\": \"white\", \"ticks\": \"\", \"title\": {\"standoff\": 15}, \"zerolinecolor\": \"white\", \"zerolinewidth\": 2}, \"yaxis\": {\"automargin\": true, \"gridcolor\": \"white\", \"linecolor\": \"white\", \"ticks\": \"\", \"title\": {\"standoff\": 15}, \"zerolinecolor\": \"white\", \"zerolinewidth\": 2}}}},\n",
              "                        {\"responsive\": true}\n",
              "                    ).then(function(){\n",
              "                            \n",
              "var gd = document.getElementById('2659e9b9-0e01-417d-8c70-ded8e1580da1');\n",
              "var x = new MutationObserver(function (mutations, observer) {{\n",
              "        var display = window.getComputedStyle(gd).display;\n",
              "        if (!display || display === 'none') {{\n",
              "            console.log([gd, 'removed!']);\n",
              "            Plotly.purge(gd);\n",
              "            observer.disconnect();\n",
              "        }}\n",
              "}});\n",
              "\n",
              "// Listen for the removal of the full notebook cells\n",
              "var notebookContainer = gd.closest('#notebook-container');\n",
              "if (notebookContainer) {{\n",
              "    x.observe(notebookContainer, {childList: true});\n",
              "}}\n",
              "\n",
              "// Listen for the clearing of the current output cell\n",
              "var outputEl = gd.closest('.output');\n",
              "if (outputEl) {{\n",
              "    x.observe(outputEl, {childList: true});\n",
              "}}\n",
              "\n",
              "                        })\n",
              "                };\n",
              "                \n",
              "            </script>\n",
              "        </div>\n",
              "</body>\n",
              "</html>"
            ]
          },
          "metadata": {
            "tags": []
          }
        }
      ]
    },
    {
      "cell_type": "markdown",
      "metadata": {
        "id": "CnH-e_1swNgi"
      },
      "source": [
        "Produtos vendidos por marca"
      ]
    },
    {
      "cell_type": "code",
      "metadata": {
        "colab": {
          "base_uri": "https://localhost:8080/",
          "height": 278
        },
        "id": "O75IN4tZwS5e",
        "outputId": "715b64c9-216c-4171-8419-705ce6326f4c"
      },
      "source": [
        "df.sample(3)"
      ],
      "execution_count": 176,
      "outputs": [
        {
          "output_type": "execute_result",
          "data": {
            "text/html": [
              "<div>\n",
              "<style scoped>\n",
              "    .dataframe tbody tr th:only-of-type {\n",
              "        vertical-align: middle;\n",
              "    }\n",
              "\n",
              "    .dataframe tbody tr th {\n",
              "        vertical-align: top;\n",
              "    }\n",
              "\n",
              "    .dataframe thead th {\n",
              "        text-align: right;\n",
              "    }\n",
              "</style>\n",
              "<table border=\"1\" class=\"dataframe\">\n",
              "  <thead>\n",
              "    <tr style=\"text-align: right;\">\n",
              "      <th></th>\n",
              "      <th>Data Venda</th>\n",
              "      <th>Data Envio</th>\n",
              "      <th>ID Loja</th>\n",
              "      <th>ID Produto</th>\n",
              "      <th>ID Cliente</th>\n",
              "      <th>No. Venda</th>\n",
              "      <th>Custo Unitário</th>\n",
              "      <th>Preço Unitário</th>\n",
              "      <th>Quantidade</th>\n",
              "      <th>Valor Desconto</th>\n",
              "      <th>Valor Venda</th>\n",
              "      <th>Produto</th>\n",
              "      <th>Fabricante</th>\n",
              "      <th>Marca</th>\n",
              "      <th>Classe</th>\n",
              "      <th>Cor</th>\n",
              "      <th>tempo_envio</th>\n",
              "      <th>custo</th>\n",
              "      <th>lucro</th>\n",
              "    </tr>\n",
              "  </thead>\n",
              "  <tbody>\n",
              "    <tr>\n",
              "      <th>410</th>\n",
              "      <td>2008-02-05</td>\n",
              "      <td>2008-02-18</td>\n",
              "      <td>199</td>\n",
              "      <td>1178</td>\n",
              "      <td>18819</td>\n",
              "      <td>200802054CS570</td>\n",
              "      <td>330.66</td>\n",
              "      <td>998.0</td>\n",
              "      <td>11</td>\n",
              "      <td>548.9</td>\n",
              "      <td>10429.1</td>\n",
              "      <td>Fabrikam Trendsetter 1/3'' 8.5mm X200 White</td>\n",
              "      <td>Fabrikam, Inc.</td>\n",
              "      <td>Fabrikam</td>\n",
              "      <td>Regular</td>\n",
              "      <td>White</td>\n",
              "      <td>13</td>\n",
              "      <td>3637.26</td>\n",
              "      <td>6791.84</td>\n",
              "    </tr>\n",
              "    <tr>\n",
              "      <th>97</th>\n",
              "      <td>2008-05-29</td>\n",
              "      <td>2008-06-04</td>\n",
              "      <td>306</td>\n",
              "      <td>1155</td>\n",
              "      <td>19052</td>\n",
              "      <td>200805294CS576</td>\n",
              "      <td>324.69</td>\n",
              "      <td>980.0</td>\n",
              "      <td>6</td>\n",
              "      <td>0.0</td>\n",
              "      <td>5880.0</td>\n",
              "      <td>Fabrikam Trendsetter 2/3'' 17mm X100 Black</td>\n",
              "      <td>Fabrikam, Inc.</td>\n",
              "      <td>Fabrikam</td>\n",
              "      <td>Regular</td>\n",
              "      <td>Black</td>\n",
              "      <td>6</td>\n",
              "      <td>1948.14</td>\n",
              "      <td>3931.86</td>\n",
              "    </tr>\n",
              "    <tr>\n",
              "      <th>665</th>\n",
              "      <td>2009-02-12</td>\n",
              "      <td>2009-02-22</td>\n",
              "      <td>307</td>\n",
              "      <td>1203</td>\n",
              "      <td>19116</td>\n",
              "      <td>200902124CS699</td>\n",
              "      <td>324.69</td>\n",
              "      <td>980.0</td>\n",
              "      <td>5</td>\n",
              "      <td>980.0</td>\n",
              "      <td>3920.0</td>\n",
              "      <td>Fabrikam Trendsetter 2/3'' 17mm X100 Grey</td>\n",
              "      <td>Fabrikam, Inc.</td>\n",
              "      <td>Fabrikam</td>\n",
              "      <td>Regular</td>\n",
              "      <td>Grey</td>\n",
              "      <td>10</td>\n",
              "      <td>1623.45</td>\n",
              "      <td>2296.55</td>\n",
              "    </tr>\n",
              "  </tbody>\n",
              "</table>\n",
              "</div>"
            ],
            "text/plain": [
              "    Data Venda Data Envio  ID Loja  ...  tempo_envio    custo    lucro\n",
              "410 2008-02-05 2008-02-18      199  ...           13  3637.26  6791.84\n",
              "97  2008-05-29 2008-06-04      306  ...            6  1948.14  3931.86\n",
              "665 2009-02-12 2009-02-22      307  ...           10  1623.45  2296.55\n",
              "\n",
              "[3 rows x 19 columns]"
            ]
          },
          "metadata": {
            "tags": []
          },
          "execution_count": 176
        }
      ]
    },
    {
      "cell_type": "code",
      "metadata": {
        "colab": {
          "base_uri": "https://localhost:8080/"
        },
        "id": "Q1dC8m3mwMFK",
        "outputId": "305d9759-5de0-4371-aa4c-d1a84bd02c34"
      },
      "source": [
        "df['Fabricante'].value_counts()"
      ],
      "execution_count": 177,
      "outputs": [
        {
          "output_type": "execute_result",
          "data": {
            "text/plain": [
              "Fabrikam, Inc.     494\n",
              "Adventure Works    238\n",
              "Contoso, Ltd       172\n",
              "Name: Fabricante, dtype: int64"
            ]
          },
          "metadata": {
            "tags": []
          },
          "execution_count": 177
        }
      ]
    },
    {
      "cell_type": "code",
      "metadata": {
        "colab": {
          "base_uri": "https://localhost:8080/",
          "height": 347
        },
        "id": "jwQBS9K5xLdA",
        "outputId": "10e490e9-17bc-4992-a34f-ac65ce906d80"
      },
      "source": [
        "df['Fabricante'].value_counts().plot();"
      ],
      "execution_count": 178,
      "outputs": [
        {
          "output_type": "display_data",
          "data": {
            "image/png": "[encoded data removed]",
            "text/plain": [
              "<Figure size 576x396 with 1 Axes>"
            ]
          },
          "metadata": {
            "tags": []
          }
        }
      ]
    },
    {
      "cell_type": "code",
      "metadata": {
        "colab": {
          "base_uri": "https://localhost:8080/",
          "height": 413
        },
        "id": "iivlw7cyyOhn",
        "outputId": "e73271b9-3f58-4cd8-dc07-9f305f4cd7d4"
      },
      "source": [
        "df['Fabricante'].value_counts().plot.bar();"
      ],
      "execution_count": 179,
      "outputs": [
        {
          "output_type": "display_data",
          "data": {
            "image/png": "[encoded data removed]",
            "text/plain": [
              "<Figure size 576x396 with 1 Axes>"
            ]
          },
          "metadata": {
            "tags": []
          }
        }
      ]
    },
    {
      "cell_type": "code",
      "metadata": {
        "colab": {
          "base_uri": "https://localhost:8080/",
          "height": 413
        },
        "id": "aO-DT0PQyUvl",
        "outputId": "27449e7d-9bee-4278-9401-993766815a23"
      },
      "source": [
        "df['Fabricante'].value_counts(ascending = True).plot.bar();"
      ],
      "execution_count": 194,
      "outputs": [
        {
          "output_type": "display_data",
          "data": {
            "image/png": "[encoded data removed]",
            "text/plain": [
              "<Figure size 576x396 with 1 Axes>"
            ]
          },
          "metadata": {
            "tags": []
          }
        }
      ]
    },
    {
      "cell_type": "code",
      "metadata": {
        "colab": {
          "base_uri": "https://localhost:8080/",
          "height": 347
        },
        "id": "R6RltVzWyhSd",
        "outputId": "e2e121cf-6eae-4586-e636-15dbb538ba86"
      },
      "source": [
        "df['Fabricante'].value_counts(ascending = True).plot.barh();"
      ],
      "execution_count": 181,
      "outputs": [
        {
          "output_type": "display_data",
          "data": {
            "image/png": "[encoded data removed]",
            "text/plain": [
              "<Figure size 576x396 with 1 Axes>"
            ]
          },
          "metadata": {
            "tags": []
          }
        }
      ]
    },
    {
      "cell_type": "code",
      "metadata": {
        "colab": {
          "base_uri": "https://localhost:8080/",
          "height": 330
        },
        "id": "XRpK1Ogryn7X",
        "outputId": "8d63fad0-7605-4bfa-ef65-a0a286c73186"
      },
      "source": [
        "df['Fabricante'].value_counts().plot.pie();"
      ],
      "execution_count": 182,
      "outputs": [
        {
          "output_type": "display_data",
          "data": {
            "image/png": "[encoded data removed]",
            "text/plain": [
              "<Figure size 576x396 with 1 Axes>"
            ]
          },
          "metadata": {
            "tags": []
          }
        }
      ]
    },
    {
      "cell_type": "code",
      "metadata": {
        "colab": {
          "base_uri": "https://localhost:8080/",
          "height": 330
        },
        "id": "hpUb-e9tyyGv",
        "outputId": "e0d1c698-b846-425a-f1fc-6ce7eac43081"
      },
      "source": [
        "df.groupby('Fabricante')['lucro'].sum().plot.pie();"
      ],
      "execution_count": 183,
      "outputs": [
        {
          "output_type": "display_data",
          "data": {
            "image/png": "[encoded data removed]",
            "text/plain": [
              "<Figure size 576x396 with 1 Axes>"
            ]
          },
          "metadata": {
            "tags": []
          }
        }
      ]
    },
    {
      "cell_type": "markdown",
      "metadata": {
        "id": "cnDexxKYzBpK"
      },
      "source": [
        "Pela análise acima, 'Fabrikam' teve o menor número de produtos, porém com a maior porcentagem de lucro"
      ]
    },
    {
      "cell_type": "code",
      "metadata": {
        "colab": {
          "base_uri": "https://localhost:8080/",
          "height": 376
        },
        "id": "XcUmF33DzKtc",
        "outputId": "7d7dc72f-74a9-4dfd-c36c-2d48dd6f46a3"
      },
      "source": [
        "df.groupby('Fabricante')['lucro'].sum().plot(title = 'Lucro por Fabricante')\n",
        "plt.xlabel = 'Fabricante'\n",
        "plt.ylabel = 'lucro'\n",
        "plt.legend();"
      ],
      "execution_count": 184,
      "outputs": [
        {
          "output_type": "display_data",
          "data": {
            "image/png": "[encoded data removed]",
            "text/plain": [
              "<Figure size 576x396 with 1 Axes>"
            ]
          },
          "metadata": {
            "tags": []
          }
        }
      ]
    },
    {
      "cell_type": "code",
      "metadata": {
        "colab": {
          "base_uri": "https://localhost:8080/",
          "height": 442
        },
        "id": "SQ6ae_wYz4km",
        "outputId": "0adb5287-87c3-4a2b-b158-b0070ae50949"
      },
      "source": [
        "df.groupby('Fabricante')['lucro'].sum().plot.bar(title = 'Lucro por Fabricante')\n",
        "plt.xlabel = 'Fabricante'\n",
        "plt.ylabel = 'lucro'\n",
        "plt.legend();"
      ],
      "execution_count": 185,
      "outputs": [
        {
          "output_type": "display_data",
          "data": {
            "image/png": "[encoded data removed]",
            "text/plain": [
              "<Figure size 576x396 with 1 Axes>"
            ]
          },
          "metadata": {
            "tags": []
          }
        }
      ]
    },
    {
      "cell_type": "markdown",
      "metadata": {
        "id": "cbZRuI6E0APs"
      },
      "source": [
        "Mudando o estilo"
      ]
    },
    {
      "cell_type": "code",
      "metadata": {
        "id": "3ERVRyUtz_zl"
      },
      "source": [
        "plt.style.use('ggplot')"
      ],
      "execution_count": 186,
      "outputs": []
    },
    {
      "cell_type": "code",
      "metadata": {
        "colab": {
          "base_uri": "https://localhost:8080/",
          "height": 446
        },
        "id": "E_IGbm5C0G97",
        "outputId": "41fe5ef7-5ba7-4de4-e4eb-05610f8bd1b8"
      },
      "source": [
        "df.groupby('Fabricante')['lucro'].sum().plot.bar(title = 'Lucro por Fabricante')\n",
        "plt.xlabel = 'Fabricante'\n",
        "plt.ylabel = 'lucro'\n",
        "plt.legend();"
      ],
      "execution_count": 187,
      "outputs": [
        {
          "output_type": "display_data",
          "data": {
            "image/png": "[encoded data removed]",
            "text/plain": [
              "<Figure size 576x396 with 1 Axes>"
            ]
          },
          "metadata": {
            "tags": []
          }
        }
      ]
    },
    {
      "cell_type": "code",
      "metadata": {
        "id": "xUCAoRmD0J9X"
      },
      "source": [
        "plt.style.use('seaborn')"
      ],
      "execution_count": 188,
      "outputs": []
    },
    {
      "cell_type": "code",
      "metadata": {
        "colab": {
          "base_uri": "https://localhost:8080/",
          "height": 442
        },
        "id": "G61iW0sA0MlA",
        "outputId": "cc29ccb1-ef3a-436a-8ca2-42e9a199950a"
      },
      "source": [
        "df.groupby(df['Fabricante'])['lucro'].sum().plot.bar(title = 'Lucro por Fabricante')\n",
        "plt.xlabel = 'Fabricante'\n",
        "plt.ylabel = 'lucro'\n",
        "plt.legend();"
      ],
      "execution_count": 189,
      "outputs": [
        {
          "output_type": "display_data",
          "data": {
            "image/png": "[encoded data removed]",
            "text/plain": [
              "<Figure size 576x396 with 1 Axes>"
            ]
          },
          "metadata": {
            "tags": []
          }
        }
      ]
    },
    {
      "cell_type": "code",
      "metadata": {
        "colab": {
          "base_uri": "https://localhost:8080/",
          "height": 376
        },
        "id": "DxoU6wu40Xv3",
        "outputId": "bb827c60-7edf-4e84-899a-18d57ae4ae80"
      },
      "source": [
        "data_quant = df.groupby(df['Data Venda'].dt.month)['Quantidade'].sum()\n",
        "\n",
        "data_quant.plot(marker = 'o', color = 'grey', title = 'Quantidade total versus mês')\n",
        "plt.xlabel = 'Mês'\n",
        "plt.ylabel = 'Quantidade'\n",
        "plt.legend();"
      ],
      "execution_count": 190,
      "outputs": [
        {
          "output_type": "display_data",
          "data": {
            "image/png": "[encoded data removed]",
            "text/plain": [
              "<Figure size 576x396 with 1 Axes>"
            ]
          },
          "metadata": {
            "tags": []
          }
        }
      ]
    },
    {
      "cell_type": "code",
      "metadata": {
        "colab": {
          "base_uri": "https://localhost:8080/",
          "height": 376
        },
        "id": "w1u9WWz41XPu",
        "outputId": "5758da88-0abc-4929-b102-0ada11d7fda5"
      },
      "source": [
        "data_quant = df.groupby(df['Data Venda'].dt.year)['Quantidade'].sum()\n",
        "\n",
        "data_quant.plot(marker = 'v', color = 'black', title = 'Quantidade total versus ano')\n",
        "plt.xlabel = 'Ano'\n",
        "plt.ylabel = 'Quantidade'\n",
        "plt.legend();"
      ],
      "execution_count": 191,
      "outputs": [
        {
          "output_type": "display_data",
          "data": {
            "image/png": "[encoded data removed]",
            "text/plain": [
              "<Figure size 576x396 with 1 Axes>"
            ]
          },
          "metadata": {
            "tags": []
          }
        }
      ]
    },
    {
      "cell_type": "code",
      "metadata": {
        "colab": {
          "base_uri": "https://localhost:8080/",
          "height": 347
        },
        "id": "5F6pMZqM2htE",
        "outputId": "cc5f27ea-2b44-4b43-d98c-81688d3bbd65"
      },
      "source": [
        "plt.scatter(x = df['Data Venda'].dt.month, y = df['Quantidade'])\n",
        "plt.show()"
      ],
      "execution_count": 192,
      "outputs": [
        {
          "output_type": "display_data",
          "data": {
            "image/png": "[encoded data removed]",
            "text/plain": [
              "<Figure size 576x396 with 1 Axes>"
            ]
          },
          "metadata": {
            "tags": []
          }
        }
      ]
    },
    {
      "cell_type": "markdown",
      "metadata": {
        "id": "WLJX5sSl3D5w"
      },
      "source": [
        "Para salvar um gráfico qualquer"
      ]
    },
    {
      "cell_type": "code",
      "metadata": {
        "colab": {
          "base_uri": "https://localhost:8080/",
          "height": 376
        },
        "id": "eNDD7mJ-6sge",
        "outputId": "1b86e5fd-fdcb-473e-cf78-b0b333aabfe8"
      },
      "source": [
        "data_quant = df.groupby(df['Data Venda'].dt.day)['Quantidade'].sum()\n",
        "\n",
        "data_quant.plot(marker = 'v', color = 'black', title = 'Quantidade total versus dia')\n",
        "plt.xlabel = 'Ano'\n",
        "plt.ylabel = 'Quantidade'\n",
        "plt.legend()\n",
        "plt.savefig('fig_test.png')"
      ],
      "execution_count": 193,
      "outputs": [
        {
          "output_type": "display_data",
          "data": {
            "image/png": "[encoded data removed]",
            "text/plain": [
              "<Figure size 576x396 with 1 Axes>"
            ]
          },
          "metadata": {
            "tags": []
          }
        }
      ]
    }
  ]
}